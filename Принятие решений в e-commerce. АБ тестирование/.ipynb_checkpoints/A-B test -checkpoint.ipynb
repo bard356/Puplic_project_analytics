{
 "cells": [
  {
   "cell_type": "markdown",
   "metadata": {},
   "source": [
    "# Принятие решений в бизнесе"
   ]
  },
  {
   "cell_type": "markdown",
   "metadata": {},
   "source": [
    "<div>  <img src=\"https://uchebnik.mos.ru/system_2/atomic_objects/files/007/029/030/original/shutterstock_173563589.jpg\", alt=\"Квадрат\" , align=\"top\">\n",
    "</div>"
   ]
  },
  {
   "cell_type": "markdown",
   "metadata": {},
   "source": [
    "#### Контекст\n",
    "В работе крупного интернет-магазина нужно постоянно обрабатывать множество данных, следить за метриками, оценивать работу магазина на основе данных, чтобы принимать взвешенные решения. Вместе с отделом маркетинга мы подготовили список гипотез для увеличения выручки. \n",
    "\n",
    "#### Наша задача: \n",
    "Приоритизировать гипотезы, запустить A/B-тест и проанализировать результаты. "
   ]
  },
  {
   "cell_type": "markdown",
   "metadata": {},
   "source": [
    "### Описание данных\n",
    "\n",
    "Данные для первой части\n",
    "\n",
    "Файл `hypothesis.csv`\n",
    "- Hypothesis — краткое описание гипотезы;\n",
    "- Reach — охват пользователей по 10-балльной шкале;\n",
    "- Impact — влияние на пользователей по 10-балльной шкале;\n",
    "- Confidence — уверенность в гипотезе по 10-балльной шкале;\n",
    "- Efforts — затраты ресурсов на проверку гипотезы по 10-балльной шкале. Чем больше значение Efforts, тем дороже проверка гипотезы.\n",
    "\n",
    "Данные для второй части\n",
    "\n",
    "Файл `orders.csv`\n",
    "- transactionId — идентификатор заказа;\n",
    "- visitorId — идентификатор пользователя, совершившего заказ;\n",
    "- date — дата, когда был совершён заказ;\n",
    "- revenue — выручка заказа;\n",
    "- group — группа A/B-теста, в которую попал заказ.\n",
    "\n",
    "Файл `visitors.csv`\n",
    "- date — дата;\n",
    "- group — группа A/B-теста;\n",
    "- visitors — количество пользователей в указанную дату в указанной группе A/B-теста\n"
   ]
  },
  {
   "cell_type": "markdown",
   "metadata": {},
   "source": [
    " <font size=\"4\" ><a id=\"Содержание\"></a>\n",
    "    \n",
    "   ***Содержание***    \n",
    "- [1. Приоритизация гипотез](#1)\n",
    "- [2. Анализ A/B-теста](#2)\n",
    "- [3. Вывод](#3)"
   ]
  },
  {
   "cell_type": "markdown",
   "metadata": {},
   "source": [
    "### [Часть 1. Приоритизация гипотез](#Содержание) <a id=\"1\"></a> "
   ]
  },
  {
   "cell_type": "markdown",
   "metadata": {},
   "source": [
    "В файле `hypothesis.csv` 9 гипотез по увеличению выручки интернет-магазина с указанными параметрами Reach, Impact, Confidence, Effort."
   ]
  },
  {
   "cell_type": "markdown",
   "metadata": {},
   "source": [
    "Импортируем библиотеки, прочитаем файл с гипотезами"
   ]
  },
  {
   "cell_type": "code",
   "execution_count": 1,
   "metadata": {},
   "outputs": [],
   "source": [
    "import pandas as pd \n",
    "import numpy as np\n",
    "import matplotlib.pyplot as plt\n",
    "import seaborn as sns\n",
    "import scipy.stats as stats\n",
    "import math as mth\n",
    "import datetime as dt\n",
    "pd.set_option('display.max_colwidth', -1)"
   ]
  },
  {
   "cell_type": "code",
   "execution_count": 2,
   "metadata": {},
   "outputs": [],
   "source": [
    "hypothesis = pd.read_csv('hypothesis.csv')"
   ]
  },
  {
   "cell_type": "code",
   "execution_count": 3,
   "metadata": {},
   "outputs": [
    {
     "data": {
      "text/html": [
       "<div>\n",
       "<style scoped>\n",
       "    .dataframe tbody tr th:only-of-type {\n",
       "        vertical-align: middle;\n",
       "    }\n",
       "\n",
       "    .dataframe tbody tr th {\n",
       "        vertical-align: top;\n",
       "    }\n",
       "\n",
       "    .dataframe thead th {\n",
       "        text-align: right;\n",
       "    }\n",
       "</style>\n",
       "<table border=\"1\" class=\"dataframe\">\n",
       "  <thead>\n",
       "    <tr style=\"text-align: right;\">\n",
       "      <th></th>\n",
       "      <th>Hypothesis</th>\n",
       "      <th>Reach</th>\n",
       "      <th>Impact</th>\n",
       "      <th>Confidence</th>\n",
       "      <th>Efforts</th>\n",
       "    </tr>\n",
       "  </thead>\n",
       "  <tbody>\n",
       "    <tr>\n",
       "      <td>0</td>\n",
       "      <td>Добавить два новых канала привлечения трафика, что позволит привлекать на 30% больше пользователей</td>\n",
       "      <td>3</td>\n",
       "      <td>10</td>\n",
       "      <td>8</td>\n",
       "      <td>6</td>\n",
       "    </tr>\n",
       "    <tr>\n",
       "      <td>1</td>\n",
       "      <td>Запустить собственную службу доставки, что сократит срок доставки заказов</td>\n",
       "      <td>2</td>\n",
       "      <td>5</td>\n",
       "      <td>4</td>\n",
       "      <td>10</td>\n",
       "    </tr>\n",
       "    <tr>\n",
       "      <td>2</td>\n",
       "      <td>Добавить блоки рекомендаций товаров на сайт интернет магазина, чтобы повысить конверсию и средний чек заказа</td>\n",
       "      <td>8</td>\n",
       "      <td>3</td>\n",
       "      <td>7</td>\n",
       "      <td>3</td>\n",
       "    </tr>\n",
       "    <tr>\n",
       "      <td>3</td>\n",
       "      <td>Изменить структура категорий, что увеличит конверсию, т.к. пользователи быстрее найдут нужный товар</td>\n",
       "      <td>8</td>\n",
       "      <td>3</td>\n",
       "      <td>3</td>\n",
       "      <td>8</td>\n",
       "    </tr>\n",
       "    <tr>\n",
       "      <td>4</td>\n",
       "      <td>Изменить цвет фона главной страницы, чтобы увеличить вовлеченность пользователей</td>\n",
       "      <td>3</td>\n",
       "      <td>1</td>\n",
       "      <td>1</td>\n",
       "      <td>1</td>\n",
       "    </tr>\n",
       "    <tr>\n",
       "      <td>5</td>\n",
       "      <td>Добавить страницу отзывов клиентов о магазине, что позволит увеличить количество заказов</td>\n",
       "      <td>3</td>\n",
       "      <td>2</td>\n",
       "      <td>2</td>\n",
       "      <td>3</td>\n",
       "    </tr>\n",
       "    <tr>\n",
       "      <td>6</td>\n",
       "      <td>Показать на главной странице баннеры с актуальными акциями и распродажами, чтобы увеличить конверсию</td>\n",
       "      <td>5</td>\n",
       "      <td>3</td>\n",
       "      <td>8</td>\n",
       "      <td>3</td>\n",
       "    </tr>\n",
       "    <tr>\n",
       "      <td>7</td>\n",
       "      <td>Добавить форму подписки на все основные страницы, чтобы собрать базу клиентов для email-рассылок</td>\n",
       "      <td>10</td>\n",
       "      <td>7</td>\n",
       "      <td>8</td>\n",
       "      <td>5</td>\n",
       "    </tr>\n",
       "    <tr>\n",
       "      <td>8</td>\n",
       "      <td>Запустить акцию, дающую скидку на товар в день рождения</td>\n",
       "      <td>1</td>\n",
       "      <td>9</td>\n",
       "      <td>9</td>\n",
       "      <td>5</td>\n",
       "    </tr>\n",
       "  </tbody>\n",
       "</table>\n",
       "</div>"
      ],
      "text/plain": [
       "                                                                                                     Hypothesis  \\\n",
       "0  Добавить два новых канала привлечения трафика, что позволит привлекать на 30% больше пользователей             \n",
       "1  Запустить собственную службу доставки, что сократит срок доставки заказов                                      \n",
       "2  Добавить блоки рекомендаций товаров на сайт интернет магазина, чтобы повысить конверсию и средний чек заказа   \n",
       "3  Изменить структура категорий, что увеличит конверсию, т.к. пользователи быстрее найдут нужный товар            \n",
       "4  Изменить цвет фона главной страницы, чтобы увеличить вовлеченность пользователей                               \n",
       "5  Добавить страницу отзывов клиентов о магазине, что позволит увеличить количество заказов                       \n",
       "6  Показать на главной странице баннеры с актуальными акциями и распродажами, чтобы увеличить конверсию           \n",
       "7  Добавить форму подписки на все основные страницы, чтобы собрать базу клиентов для email-рассылок               \n",
       "8  Запустить акцию, дающую скидку на товар в день рождения                                                        \n",
       "\n",
       "   Reach  Impact  Confidence  Efforts  \n",
       "0  3      10      8           6        \n",
       "1  2      5       4           10       \n",
       "2  8      3       7           3        \n",
       "3  8      3       3           8        \n",
       "4  3      1       1           1        \n",
       "5  3      2       2           3        \n",
       "6  5      3       8           3        \n",
       "7  10     7       8           5        \n",
       "8  1      9       9           5        "
      ]
     },
     "execution_count": 3,
     "metadata": {},
     "output_type": "execute_result"
    }
   ],
   "source": [
    "hypothesis"
   ]
  },
  {
   "cell_type": "markdown",
   "metadata": {},
   "source": [
    "### Задача\n",
    "\n",
    "    Применить фреймворк ICE для приоритизации гипотез. Отсортировать их по убыванию приоритета.\n",
    "    Применить фреймворк RICE для приоритизации гипотез. Отсортировать их по убыванию приоритета.\n",
    "    Узнать, как изменилась приоритизация гипотез при применении RICE вместо ICE. Объяснить, почему так произошло."
   ]
  },
  {
   "cell_type": "code",
   "execution_count": 4,
   "metadata": {},
   "outputs": [
    {
     "data": {
      "text/html": [
       "<div>\n",
       "<style scoped>\n",
       "    .dataframe tbody tr th:only-of-type {\n",
       "        vertical-align: middle;\n",
       "    }\n",
       "\n",
       "    .dataframe tbody tr th {\n",
       "        vertical-align: top;\n",
       "    }\n",
       "\n",
       "    .dataframe thead th {\n",
       "        text-align: right;\n",
       "    }\n",
       "</style>\n",
       "<table border=\"1\" class=\"dataframe\">\n",
       "  <thead>\n",
       "    <tr style=\"text-align: right;\">\n",
       "      <th></th>\n",
       "      <th>Hypothesis</th>\n",
       "      <th>ICE</th>\n",
       "    </tr>\n",
       "  </thead>\n",
       "  <tbody>\n",
       "    <tr>\n",
       "      <td>8</td>\n",
       "      <td>Запустить акцию, дающую скидку на товар в день рождения</td>\n",
       "      <td>16.200000</td>\n",
       "    </tr>\n",
       "    <tr>\n",
       "      <td>0</td>\n",
       "      <td>Добавить два новых канала привлечения трафика, что позволит привлекать на 30% больше пользователей</td>\n",
       "      <td>13.333333</td>\n",
       "    </tr>\n",
       "    <tr>\n",
       "      <td>7</td>\n",
       "      <td>Добавить форму подписки на все основные страницы, чтобы собрать базу клиентов для email-рассылок</td>\n",
       "      <td>11.200000</td>\n",
       "    </tr>\n",
       "    <tr>\n",
       "      <td>6</td>\n",
       "      <td>Показать на главной странице баннеры с актуальными акциями и распродажами, чтобы увеличить конверсию</td>\n",
       "      <td>8.000000</td>\n",
       "    </tr>\n",
       "    <tr>\n",
       "      <td>2</td>\n",
       "      <td>Добавить блоки рекомендаций товаров на сайт интернет магазина, чтобы повысить конверсию и средний чек заказа</td>\n",
       "      <td>7.000000</td>\n",
       "    </tr>\n",
       "    <tr>\n",
       "      <td>1</td>\n",
       "      <td>Запустить собственную службу доставки, что сократит срок доставки заказов</td>\n",
       "      <td>2.000000</td>\n",
       "    </tr>\n",
       "    <tr>\n",
       "      <td>5</td>\n",
       "      <td>Добавить страницу отзывов клиентов о магазине, что позволит увеличить количество заказов</td>\n",
       "      <td>1.333333</td>\n",
       "    </tr>\n",
       "    <tr>\n",
       "      <td>3</td>\n",
       "      <td>Изменить структура категорий, что увеличит конверсию, т.к. пользователи быстрее найдут нужный товар</td>\n",
       "      <td>1.125000</td>\n",
       "    </tr>\n",
       "    <tr>\n",
       "      <td>4</td>\n",
       "      <td>Изменить цвет фона главной страницы, чтобы увеличить вовлеченность пользователей</td>\n",
       "      <td>1.000000</td>\n",
       "    </tr>\n",
       "  </tbody>\n",
       "</table>\n",
       "</div>"
      ],
      "text/plain": [
       "                                                                                                     Hypothesis  \\\n",
       "8  Запустить акцию, дающую скидку на товар в день рождения                                                        \n",
       "0  Добавить два новых канала привлечения трафика, что позволит привлекать на 30% больше пользователей             \n",
       "7  Добавить форму подписки на все основные страницы, чтобы собрать базу клиентов для email-рассылок               \n",
       "6  Показать на главной странице баннеры с актуальными акциями и распродажами, чтобы увеличить конверсию           \n",
       "2  Добавить блоки рекомендаций товаров на сайт интернет магазина, чтобы повысить конверсию и средний чек заказа   \n",
       "1  Запустить собственную службу доставки, что сократит срок доставки заказов                                      \n",
       "5  Добавить страницу отзывов клиентов о магазине, что позволит увеличить количество заказов                       \n",
       "3  Изменить структура категорий, что увеличит конверсию, т.к. пользователи быстрее найдут нужный товар            \n",
       "4  Изменить цвет фона главной страницы, чтобы увеличить вовлеченность пользователей                               \n",
       "\n",
       "         ICE  \n",
       "8  16.200000  \n",
       "0  13.333333  \n",
       "7  11.200000  \n",
       "6  8.000000   \n",
       "2  7.000000   \n",
       "1  2.000000   \n",
       "5  1.333333   \n",
       "3  1.125000   \n",
       "4  1.000000   "
      ]
     },
     "execution_count": 4,
     "metadata": {},
     "output_type": "execute_result"
    }
   ],
   "source": [
    "#Применим фреймворк ICE для приоритизации гипотез. Отсортируем их по убыванию приоритета.\n",
    "hypothesis['ICE'] = (hypothesis['Impact'] * hypothesis['Confidence']) / hypothesis['Efforts']\n",
    "hypothesis[['Hypothesis', 'ICE']].sort_values(by='ICE', ascending=False)"
   ]
  },
  {
   "cell_type": "markdown",
   "metadata": {},
   "source": [
    "Среди 9 гипотез лидирующее место по ICE (влияние, уверенность, усилия) занимает гипотеза №8. На первый взгляд она отличается от остальных прямой денежной выгодой для клиента, в таком случае бизнес недополучит прибыль. На мой взгляд нулявая гипотеза имеет больше шансов на коммерческий успех, и не сильно уступает лидеру в оценке ICE."
   ]
  },
  {
   "cell_type": "code",
   "execution_count": 5,
   "metadata": {},
   "outputs": [
    {
     "data": {
      "text/html": [
       "<div>\n",
       "<style scoped>\n",
       "    .dataframe tbody tr th:only-of-type {\n",
       "        vertical-align: middle;\n",
       "    }\n",
       "\n",
       "    .dataframe tbody tr th {\n",
       "        vertical-align: top;\n",
       "    }\n",
       "\n",
       "    .dataframe thead th {\n",
       "        text-align: right;\n",
       "    }\n",
       "</style>\n",
       "<table border=\"1\" class=\"dataframe\">\n",
       "  <thead>\n",
       "    <tr style=\"text-align: right;\">\n",
       "      <th></th>\n",
       "      <th>Hypothesis</th>\n",
       "      <th>RICE</th>\n",
       "    </tr>\n",
       "  </thead>\n",
       "  <tbody>\n",
       "    <tr>\n",
       "      <td>7</td>\n",
       "      <td>Добавить форму подписки на все основные страницы, чтобы собрать базу клиентов для email-рассылок</td>\n",
       "      <td>112.0</td>\n",
       "    </tr>\n",
       "    <tr>\n",
       "      <td>2</td>\n",
       "      <td>Добавить блоки рекомендаций товаров на сайт интернет магазина, чтобы повысить конверсию и средний чек заказа</td>\n",
       "      <td>56.0</td>\n",
       "    </tr>\n",
       "    <tr>\n",
       "      <td>0</td>\n",
       "      <td>Добавить два новых канала привлечения трафика, что позволит привлекать на 30% больше пользователей</td>\n",
       "      <td>40.0</td>\n",
       "    </tr>\n",
       "    <tr>\n",
       "      <td>6</td>\n",
       "      <td>Показать на главной странице баннеры с актуальными акциями и распродажами, чтобы увеличить конверсию</td>\n",
       "      <td>40.0</td>\n",
       "    </tr>\n",
       "    <tr>\n",
       "      <td>8</td>\n",
       "      <td>Запустить акцию, дающую скидку на товар в день рождения</td>\n",
       "      <td>16.2</td>\n",
       "    </tr>\n",
       "    <tr>\n",
       "      <td>3</td>\n",
       "      <td>Изменить структура категорий, что увеличит конверсию, т.к. пользователи быстрее найдут нужный товар</td>\n",
       "      <td>9.0</td>\n",
       "    </tr>\n",
       "    <tr>\n",
       "      <td>1</td>\n",
       "      <td>Запустить собственную службу доставки, что сократит срок доставки заказов</td>\n",
       "      <td>4.0</td>\n",
       "    </tr>\n",
       "    <tr>\n",
       "      <td>5</td>\n",
       "      <td>Добавить страницу отзывов клиентов о магазине, что позволит увеличить количество заказов</td>\n",
       "      <td>4.0</td>\n",
       "    </tr>\n",
       "    <tr>\n",
       "      <td>4</td>\n",
       "      <td>Изменить цвет фона главной страницы, чтобы увеличить вовлеченность пользователей</td>\n",
       "      <td>3.0</td>\n",
       "    </tr>\n",
       "  </tbody>\n",
       "</table>\n",
       "</div>"
      ],
      "text/plain": [
       "                                                                                                     Hypothesis  \\\n",
       "7  Добавить форму подписки на все основные страницы, чтобы собрать базу клиентов для email-рассылок               \n",
       "2  Добавить блоки рекомендаций товаров на сайт интернет магазина, чтобы повысить конверсию и средний чек заказа   \n",
       "0  Добавить два новых канала привлечения трафика, что позволит привлекать на 30% больше пользователей             \n",
       "6  Показать на главной странице баннеры с актуальными акциями и распродажами, чтобы увеличить конверсию           \n",
       "8  Запустить акцию, дающую скидку на товар в день рождения                                                        \n",
       "3  Изменить структура категорий, что увеличит конверсию, т.к. пользователи быстрее найдут нужный товар            \n",
       "1  Запустить собственную службу доставки, что сократит срок доставки заказов                                      \n",
       "5  Добавить страницу отзывов клиентов о магазине, что позволит увеличить количество заказов                       \n",
       "4  Изменить цвет фона главной страницы, чтобы увеличить вовлеченность пользователей                               \n",
       "\n",
       "    RICE  \n",
       "7  112.0  \n",
       "2  56.0   \n",
       "0  40.0   \n",
       "6  40.0   \n",
       "8  16.2   \n",
       "3  9.0    \n",
       "1  4.0    \n",
       "5  4.0    \n",
       "4  3.0    "
      ]
     },
     "execution_count": 5,
     "metadata": {},
     "output_type": "execute_result"
    }
   ],
   "source": [
    "#Применим фреймворк RICE для приоритизации гипотез. Отсортируем их по убыванию приоритета.\n",
    "hypothesis['RICE'] = (hypothesis['Reach'] * hypothesis['Impact'] * hypothesis['Confidence']) / hypothesis['Efforts']\n",
    "hypothesis[['Hypothesis', 'RICE']].sort_values(by='RICE', ascending=False)"
   ]
  },
  {
   "cell_type": "markdown",
   "metadata": {},
   "source": [
    "- С учетом оценки охвата пользователей, по фреймворку RICE(влияние, уверенность, усилия, охват) лидирует гипотеза №7, причем с двухкратным отрывом от другиx гипотез. \n",
    "- Следует обратить внимание, что с учетом охвата гипотеза №8 занимает середину нашего рейтинга среди альтернативных вариантов. И только гипотезы 0 и 7 сохраняют места в тройке лидеров по двум фреймворкам."
   ]
  },
  {
   "cell_type": "markdown",
   "metadata": {},
   "source": [
    "- Вывод: \n",
    "параметр Reach дает представление, как гипотеза видет себя при оценке охвата пользователей. Поэтому гипотеза 7 лидирует, безусловно, с точки зрения охвата, e-mail рассылка эффективнее остальных вариантов. Но возникают вопросы, касаемо конверсии привлеченых пользоателей к активным по данному источнику. Гипотеза 8 эффективна для ограниченного круга пользователей, при оценке параметра Reach получила минимальный бал, так как с ростом числа пользователей растет рандомность дня рождения всех пользователей и непонятная перспектива привлечения новых пользователей и приблизительная дата их покупки."
   ]
  },
  {
   "cell_type": "markdown",
   "metadata": {},
   "source": [
    "### [Часть 2. Анализ A/B-теста](#Содержание) <a id=\"2\"></a> "
   ]
  },
  {
   "cell_type": "markdown",
   "metadata": {},
   "source": [
    "Получили результаты A/B-тест, они записаны в файлах `orders.csv` и `visitors.csv`"
   ]
  },
  {
   "cell_type": "markdown",
   "metadata": {},
   "source": [
    "Прочитаем файлы и посмотрим на их содержимое"
   ]
  },
  {
   "cell_type": "code",
   "execution_count": 6,
   "metadata": {},
   "outputs": [],
   "source": [
    "orders= pd.read_csv('orders.csv')\n",
    "orders['date'] = orders['date'].map(lambda x: dt.datetime.strptime(x, '%Y-%m-%d'))\n",
    "\n",
    "visitors= pd.read_csv('visitors.csv')\n",
    "visitors['date'] = visitors['date'].map(lambda x: dt.datetime.strptime(x, '%Y-%m-%d'))"
   ]
  },
  {
   "cell_type": "code",
   "execution_count": 7,
   "metadata": {},
   "outputs": [
    {
     "data": {
      "text/html": [
       "<div>\n",
       "<style scoped>\n",
       "    .dataframe tbody tr th:only-of-type {\n",
       "        vertical-align: middle;\n",
       "    }\n",
       "\n",
       "    .dataframe tbody tr th {\n",
       "        vertical-align: top;\n",
       "    }\n",
       "\n",
       "    .dataframe thead th {\n",
       "        text-align: right;\n",
       "    }\n",
       "</style>\n",
       "<table border=\"1\" class=\"dataframe\">\n",
       "  <thead>\n",
       "    <tr style=\"text-align: right;\">\n",
       "      <th></th>\n",
       "      <th>transactionId</th>\n",
       "      <th>visitorId</th>\n",
       "      <th>date</th>\n",
       "      <th>revenue</th>\n",
       "      <th>group</th>\n",
       "    </tr>\n",
       "  </thead>\n",
       "  <tbody>\n",
       "    <tr>\n",
       "      <td>0</td>\n",
       "      <td>3667963787</td>\n",
       "      <td>3312258926</td>\n",
       "      <td>2019-08-15</td>\n",
       "      <td>1650</td>\n",
       "      <td>B</td>\n",
       "    </tr>\n",
       "    <tr>\n",
       "      <td>1</td>\n",
       "      <td>2804400009</td>\n",
       "      <td>3642806036</td>\n",
       "      <td>2019-08-15</td>\n",
       "      <td>730</td>\n",
       "      <td>B</td>\n",
       "    </tr>\n",
       "    <tr>\n",
       "      <td>2</td>\n",
       "      <td>2961555356</td>\n",
       "      <td>4069496402</td>\n",
       "      <td>2019-08-15</td>\n",
       "      <td>400</td>\n",
       "      <td>A</td>\n",
       "    </tr>\n",
       "    <tr>\n",
       "      <td>3</td>\n",
       "      <td>3797467345</td>\n",
       "      <td>1196621759</td>\n",
       "      <td>2019-08-15</td>\n",
       "      <td>9759</td>\n",
       "      <td>B</td>\n",
       "    </tr>\n",
       "    <tr>\n",
       "      <td>4</td>\n",
       "      <td>2282983706</td>\n",
       "      <td>2322279887</td>\n",
       "      <td>2019-08-15</td>\n",
       "      <td>2308</td>\n",
       "      <td>B</td>\n",
       "    </tr>\n",
       "  </tbody>\n",
       "</table>\n",
       "</div>"
      ],
      "text/plain": [
       "   transactionId   visitorId       date  revenue group\n",
       "0  3667963787     3312258926 2019-08-15  1650     B   \n",
       "1  2804400009     3642806036 2019-08-15  730      B   \n",
       "2  2961555356     4069496402 2019-08-15  400      A   \n",
       "3  3797467345     1196621759 2019-08-15  9759     B   \n",
       "4  2282983706     2322279887 2019-08-15  2308     B   "
      ]
     },
     "execution_count": 7,
     "metadata": {},
     "output_type": "execute_result"
    }
   ],
   "source": [
    "orders.head(5)"
   ]
  },
  {
   "cell_type": "code",
   "execution_count": 8,
   "metadata": {},
   "outputs": [
    {
     "data": {
      "text/html": [
       "<div>\n",
       "<style scoped>\n",
       "    .dataframe tbody tr th:only-of-type {\n",
       "        vertical-align: middle;\n",
       "    }\n",
       "\n",
       "    .dataframe tbody tr th {\n",
       "        vertical-align: top;\n",
       "    }\n",
       "\n",
       "    .dataframe thead th {\n",
       "        text-align: right;\n",
       "    }\n",
       "</style>\n",
       "<table border=\"1\" class=\"dataframe\">\n",
       "  <thead>\n",
       "    <tr style=\"text-align: right;\">\n",
       "      <th></th>\n",
       "      <th>transactionId</th>\n",
       "      <th>visitorId</th>\n",
       "      <th>date</th>\n",
       "      <th>revenue</th>\n",
       "      <th>group</th>\n",
       "    </tr>\n",
       "  </thead>\n",
       "  <tbody>\n",
       "    <tr>\n",
       "      <td>1192</td>\n",
       "      <td>2662137336</td>\n",
       "      <td>3733762160</td>\n",
       "      <td>2019-08-14</td>\n",
       "      <td>6490</td>\n",
       "      <td>B</td>\n",
       "    </tr>\n",
       "    <tr>\n",
       "      <td>1193</td>\n",
       "      <td>2203539145</td>\n",
       "      <td>370388673</td>\n",
       "      <td>2019-08-14</td>\n",
       "      <td>3190</td>\n",
       "      <td>A</td>\n",
       "    </tr>\n",
       "    <tr>\n",
       "      <td>1194</td>\n",
       "      <td>1807773912</td>\n",
       "      <td>573423106</td>\n",
       "      <td>2019-08-14</td>\n",
       "      <td>10550</td>\n",
       "      <td>A</td>\n",
       "    </tr>\n",
       "    <tr>\n",
       "      <td>1195</td>\n",
       "      <td>1947021204</td>\n",
       "      <td>1614305549</td>\n",
       "      <td>2019-08-14</td>\n",
       "      <td>100</td>\n",
       "      <td>A</td>\n",
       "    </tr>\n",
       "    <tr>\n",
       "      <td>1196</td>\n",
       "      <td>3936777065</td>\n",
       "      <td>2108080724</td>\n",
       "      <td>2019-08-15</td>\n",
       "      <td>202740</td>\n",
       "      <td>B</td>\n",
       "    </tr>\n",
       "  </tbody>\n",
       "</table>\n",
       "</div>"
      ],
      "text/plain": [
       "      transactionId   visitorId       date  revenue group\n",
       "1192  2662137336     3733762160 2019-08-14  6490     B   \n",
       "1193  2203539145     370388673  2019-08-14  3190     A   \n",
       "1194  1807773912     573423106  2019-08-14  10550    A   \n",
       "1195  1947021204     1614305549 2019-08-14  100      A   \n",
       "1196  3936777065     2108080724 2019-08-15  202740   B   "
      ]
     },
     "execution_count": 8,
     "metadata": {},
     "output_type": "execute_result"
    }
   ],
   "source": [
    "orders.tail(5)"
   ]
  },
  {
   "cell_type": "markdown",
   "metadata": {},
   "source": [
    "Файл `orders.csv` содержит выручку по группам, дату покупки, номер транзакции и принадлежность к пользователю."
   ]
  },
  {
   "cell_type": "code",
   "execution_count": 9,
   "metadata": {},
   "outputs": [
    {
     "data": {
      "text/html": [
       "<div>\n",
       "<style scoped>\n",
       "    .dataframe tbody tr th:only-of-type {\n",
       "        vertical-align: middle;\n",
       "    }\n",
       "\n",
       "    .dataframe tbody tr th {\n",
       "        vertical-align: top;\n",
       "    }\n",
       "\n",
       "    .dataframe thead tr th {\n",
       "        text-align: left;\n",
       "    }\n",
       "\n",
       "    .dataframe thead tr:last-of-type th {\n",
       "        text-align: right;\n",
       "    }\n",
       "</style>\n",
       "<table border=\"1\" class=\"dataframe\">\n",
       "  <thead>\n",
       "    <tr>\n",
       "      <th></th>\n",
       "      <th>sum</th>\n",
       "      <th>mean</th>\n",
       "    </tr>\n",
       "    <tr>\n",
       "      <th></th>\n",
       "      <th>revenue</th>\n",
       "      <th>revenue</th>\n",
       "    </tr>\n",
       "    <tr>\n",
       "      <th>group</th>\n",
       "      <th></th>\n",
       "      <th></th>\n",
       "    </tr>\n",
       "  </thead>\n",
       "  <tbody>\n",
       "    <tr>\n",
       "      <td>A</td>\n",
       "      <td>4084803</td>\n",
       "      <td>7333.578097</td>\n",
       "    </tr>\n",
       "    <tr>\n",
       "      <td>B</td>\n",
       "      <td>5907760</td>\n",
       "      <td>9230.875000</td>\n",
       "    </tr>\n",
       "  </tbody>\n",
       "</table>\n",
       "</div>"
      ],
      "text/plain": [
       "           sum         mean\n",
       "       revenue      revenue\n",
       "group                      \n",
       "A      4084803  7333.578097\n",
       "B      5907760  9230.875000"
      ]
     },
     "execution_count": 9,
     "metadata": {},
     "output_type": "execute_result"
    }
   ],
   "source": [
    "orders_pivot = orders.pivot_table(index='group', values='revenue',aggfunc=['sum','mean'])\n",
    "orders_pivot"
   ]
  },
  {
   "cell_type": "markdown",
   "metadata": {},
   "source": [
    "Группа B выглядит получше, выручка и средний чек выше, чем у группы A"
   ]
  },
  {
   "cell_type": "code",
   "execution_count": 10,
   "metadata": {},
   "outputs": [
    {
     "data": {
      "text/html": [
       "<div>\n",
       "<style scoped>\n",
       "    .dataframe tbody tr th:only-of-type {\n",
       "        vertical-align: middle;\n",
       "    }\n",
       "\n",
       "    .dataframe tbody tr th {\n",
       "        vertical-align: top;\n",
       "    }\n",
       "\n",
       "    .dataframe thead th {\n",
       "        text-align: right;\n",
       "    }\n",
       "</style>\n",
       "<table border=\"1\" class=\"dataframe\">\n",
       "  <thead>\n",
       "    <tr style=\"text-align: right;\">\n",
       "      <th></th>\n",
       "      <th>date</th>\n",
       "      <th>group</th>\n",
       "      <th>visitors</th>\n",
       "    </tr>\n",
       "  </thead>\n",
       "  <tbody>\n",
       "    <tr>\n",
       "      <td>0</td>\n",
       "      <td>2019-08-01</td>\n",
       "      <td>A</td>\n",
       "      <td>719</td>\n",
       "    </tr>\n",
       "    <tr>\n",
       "      <td>1</td>\n",
       "      <td>2019-08-02</td>\n",
       "      <td>A</td>\n",
       "      <td>619</td>\n",
       "    </tr>\n",
       "    <tr>\n",
       "      <td>2</td>\n",
       "      <td>2019-08-03</td>\n",
       "      <td>A</td>\n",
       "      <td>507</td>\n",
       "    </tr>\n",
       "    <tr>\n",
       "      <td>3</td>\n",
       "      <td>2019-08-04</td>\n",
       "      <td>A</td>\n",
       "      <td>717</td>\n",
       "    </tr>\n",
       "    <tr>\n",
       "      <td>4</td>\n",
       "      <td>2019-08-05</td>\n",
       "      <td>A</td>\n",
       "      <td>756</td>\n",
       "    </tr>\n",
       "  </tbody>\n",
       "</table>\n",
       "</div>"
      ],
      "text/plain": [
       "        date group  visitors\n",
       "0 2019-08-01  A     719     \n",
       "1 2019-08-02  A     619     \n",
       "2 2019-08-03  A     507     \n",
       "3 2019-08-04  A     717     \n",
       "4 2019-08-05  A     756     "
      ]
     },
     "execution_count": 10,
     "metadata": {},
     "output_type": "execute_result"
    }
   ],
   "source": [
    "visitors.head(5)"
   ]
  },
  {
   "cell_type": "code",
   "execution_count": 11,
   "metadata": {},
   "outputs": [
    {
     "data": {
      "text/html": [
       "<div>\n",
       "<style scoped>\n",
       "    .dataframe tbody tr th:only-of-type {\n",
       "        vertical-align: middle;\n",
       "    }\n",
       "\n",
       "    .dataframe tbody tr th {\n",
       "        vertical-align: top;\n",
       "    }\n",
       "\n",
       "    .dataframe thead th {\n",
       "        text-align: right;\n",
       "    }\n",
       "</style>\n",
       "<table border=\"1\" class=\"dataframe\">\n",
       "  <thead>\n",
       "    <tr style=\"text-align: right;\">\n",
       "      <th></th>\n",
       "      <th>date</th>\n",
       "      <th>group</th>\n",
       "      <th>visitors</th>\n",
       "    </tr>\n",
       "  </thead>\n",
       "  <tbody>\n",
       "    <tr>\n",
       "      <td>57</td>\n",
       "      <td>2019-08-27</td>\n",
       "      <td>B</td>\n",
       "      <td>720</td>\n",
       "    </tr>\n",
       "    <tr>\n",
       "      <td>58</td>\n",
       "      <td>2019-08-28</td>\n",
       "      <td>B</td>\n",
       "      <td>654</td>\n",
       "    </tr>\n",
       "    <tr>\n",
       "      <td>59</td>\n",
       "      <td>2019-08-29</td>\n",
       "      <td>B</td>\n",
       "      <td>531</td>\n",
       "    </tr>\n",
       "    <tr>\n",
       "      <td>60</td>\n",
       "      <td>2019-08-30</td>\n",
       "      <td>B</td>\n",
       "      <td>490</td>\n",
       "    </tr>\n",
       "    <tr>\n",
       "      <td>61</td>\n",
       "      <td>2019-08-31</td>\n",
       "      <td>B</td>\n",
       "      <td>718</td>\n",
       "    </tr>\n",
       "  </tbody>\n",
       "</table>\n",
       "</div>"
      ],
      "text/plain": [
       "         date group  visitors\n",
       "57 2019-08-27  B     720     \n",
       "58 2019-08-28  B     654     \n",
       "59 2019-08-29  B     531     \n",
       "60 2019-08-30  B     490     \n",
       "61 2019-08-31  B     718     "
      ]
     },
     "execution_count": 11,
     "metadata": {},
     "output_type": "execute_result"
    }
   ],
   "source": [
    "visitors.tail(5)"
   ]
  },
  {
   "cell_type": "markdown",
   "metadata": {},
   "source": [
    "Файл `visitors.csv` содержит дату визита пользователя по группам и количество визитов"
   ]
  },
  {
   "cell_type": "code",
   "execution_count": 12,
   "metadata": {},
   "outputs": [
    {
     "data": {
      "text/html": [
       "<div>\n",
       "<style scoped>\n",
       "    .dataframe tbody tr th:only-of-type {\n",
       "        vertical-align: middle;\n",
       "    }\n",
       "\n",
       "    .dataframe tbody tr th {\n",
       "        vertical-align: top;\n",
       "    }\n",
       "\n",
       "    .dataframe thead tr th {\n",
       "        text-align: left;\n",
       "    }\n",
       "\n",
       "    .dataframe thead tr:last-of-type th {\n",
       "        text-align: right;\n",
       "    }\n",
       "</style>\n",
       "<table border=\"1\" class=\"dataframe\">\n",
       "  <thead>\n",
       "    <tr>\n",
       "      <th></th>\n",
       "      <th>sum</th>\n",
       "      <th>mean</th>\n",
       "    </tr>\n",
       "    <tr>\n",
       "      <th></th>\n",
       "      <th>visitors</th>\n",
       "      <th>visitors</th>\n",
       "    </tr>\n",
       "    <tr>\n",
       "      <th>group</th>\n",
       "      <th></th>\n",
       "      <th></th>\n",
       "    </tr>\n",
       "  </thead>\n",
       "  <tbody>\n",
       "    <tr>\n",
       "      <td>A</td>\n",
       "      <td>18736</td>\n",
       "      <td>604.387097</td>\n",
       "    </tr>\n",
       "    <tr>\n",
       "      <td>B</td>\n",
       "      <td>18916</td>\n",
       "      <td>610.193548</td>\n",
       "    </tr>\n",
       "  </tbody>\n",
       "</table>\n",
       "</div>"
      ],
      "text/plain": [
       "           sum        mean\n",
       "      visitors    visitors\n",
       "group                     \n",
       "A      18736    604.387097\n",
       "B      18916    610.193548"
      ]
     },
     "execution_count": 12,
     "metadata": {},
     "output_type": "execute_result"
    }
   ],
   "source": [
    "visitors_pivot = visitors.pivot_table(index='group', values='visitors',aggfunc=['sum','mean'])\n",
    "visitors_pivot"
   ]
  },
  {
   "cell_type": "markdown",
   "metadata": {},
   "source": [
    "Разделение по группам корректное для анализа групп, примерно равное количество посещений "
   ]
  },
  {
   "cell_type": "code",
   "execution_count": 13,
   "metadata": {},
   "outputs": [
    {
     "data": {
      "text/html": [
       "<div>\n",
       "<style scoped>\n",
       "    .dataframe tbody tr th:only-of-type {\n",
       "        vertical-align: middle;\n",
       "    }\n",
       "\n",
       "    .dataframe tbody tr th {\n",
       "        vertical-align: top;\n",
       "    }\n",
       "\n",
       "    .dataframe thead th {\n",
       "        text-align: right;\n",
       "    }\n",
       "</style>\n",
       "<table border=\"1\" class=\"dataframe\">\n",
       "  <thead>\n",
       "    <tr style=\"text-align: right;\">\n",
       "      <th></th>\n",
       "      <th>total_revenue</th>\n",
       "      <th>mean_revenue</th>\n",
       "      <th>total_visitors</th>\n",
       "      <th>mean_visitors</th>\n",
       "    </tr>\n",
       "    <tr>\n",
       "      <th>group</th>\n",
       "      <th></th>\n",
       "      <th></th>\n",
       "      <th></th>\n",
       "      <th></th>\n",
       "    </tr>\n",
       "  </thead>\n",
       "  <tbody>\n",
       "    <tr>\n",
       "      <td>A</td>\n",
       "      <td>4084803</td>\n",
       "      <td>7333.578097</td>\n",
       "      <td>18736</td>\n",
       "      <td>604.387097</td>\n",
       "    </tr>\n",
       "    <tr>\n",
       "      <td>B</td>\n",
       "      <td>5907760</td>\n",
       "      <td>9230.875000</td>\n",
       "      <td>18916</td>\n",
       "      <td>610.193548</td>\n",
       "    </tr>\n",
       "  </tbody>\n",
       "</table>\n",
       "</div>"
      ],
      "text/plain": [
       "       total_revenue  mean_revenue  total_visitors  mean_visitors\n",
       "group                                                            \n",
       "A      4084803        7333.578097   18736           604.387097   \n",
       "B      5907760        9230.875000   18916           610.193548   "
      ]
     },
     "execution_count": 13,
     "metadata": {},
     "output_type": "execute_result"
    }
   ],
   "source": [
    "total_group = orders_pivot.merge(visitors_pivot,on='group', how='inner')\n",
    "total_group.columns = ['total_revenue','mean_revenue','total_visitors', 'mean_visitors']\n",
    "total_group"
   ]
  },
  {
   "cell_type": "markdown",
   "metadata": {},
   "source": [
    "На первый взгляд группа B принесла больше выручки, общее количество поьзователей примерно одинаково с небольшим преимуществом в сторону группы B. Но даже несколько десятков пользователей могли осуществить аномально дорогие покупки."
   ]
  },
  {
   "cell_type": "markdown",
   "metadata": {},
   "source": [
    "### Задача\n",
    "#### Проанализируем A/B-тест:"
   ]
  },
  {
   "cell_type": "markdown",
   "metadata": {},
   "source": [
    "Подготовка к анализу"
   ]
  },
  {
   "cell_type": "code",
   "execution_count": 14,
   "metadata": {},
   "outputs": [
    {
     "data": {
      "text/plain": [
       "date     1197\n",
       "group    1197\n",
       "dtype: int64"
      ]
     },
     "execution_count": 14,
     "metadata": {},
     "output_type": "execute_result"
    }
   ],
   "source": [
    "orders[['date','group']].count()"
   ]
  },
  {
   "cell_type": "code",
   "execution_count": 15,
   "metadata": {},
   "outputs": [
    {
     "data": {
      "text/plain": [
       "83"
      ]
     },
     "execution_count": 15,
     "metadata": {},
     "output_type": "execute_result"
    }
   ],
   "source": [
    "1197 - orders[orders['group'] == 'A']['group'].count() - orders[orders['group'] == 'A']['group'].count()"
   ]
  },
  {
   "cell_type": "markdown",
   "metadata": {},
   "source": [
    "До обработки дубликатов группа B имеет больше транзакций заказов, чем группа A на 83 чека. "
   ]
  },
  {
   "cell_type": "code",
   "execution_count": 16,
   "metadata": {},
   "outputs": [],
   "source": [
    "#создаем массив уникальных пар значений дат и групп теста\n",
    "datesGroups = orders[['date','group']].drop_duplicates()\n",
    "\n",
    "#Получим строки таблицы orders, дата которых меньше или равна дате элемента из datesGroups, а группа теста равна группе из datesGroups\n",
    "#в итоге ordersAggregated имеет агрегированные кумулятивные по дням данные о заказах \n",
    "ordersAggregated = datesGroups.apply(lambda x: orders[np.logical_and(orders['date'] <= x['date'], \n",
    "                                                                     orders['group'] == x['group'])]\n",
    "                              .agg({'date' : 'max', 'group' : 'max', 'transactionId' : pd.Series.nunique, \n",
    "                                    'visitorId' : pd.Series.nunique, 'revenue' : 'sum'}), axis=1)\\\n",
    "                              .sort_values(by=['date','group'])\n",
    "\n",
    "#в итоге visitorsAggregated имеет агрегированные кумулятивные по дням данные о посещениях \n",
    "visitorsAggregated = datesGroups.apply(lambda x: visitors[np.logical_and(visitors['date'] <= x['date'], \n",
    "                                                                         visitors['group'] == x['group'])]\n",
    "                                 .agg({'date' : 'max', 'group' : 'max', 'visitors' : 'sum'}), axis=1)\\\n",
    "                                 .sort_values(by=['date','group'])\n",
    "\n",
    "#объединяем кумулятивные данные в одной таблице и присваиваем ее столбцам понятные названия, получился сводный комулятивный отчет с накопленным итогом\n",
    "cumulativeData = ordersAggregated.merge(visitorsAggregated, left_on=['date', 'group'], right_on=['date', 'group'])\n",
    "cumulativeData.columns = ['date', 'group', 'orders', 'buyers', 'revenue', 'visitors']"
   ]
  },
  {
   "cell_type": "code",
   "execution_count": 17,
   "metadata": {},
   "outputs": [
    {
     "data": {
      "text/html": [
       "<div>\n",
       "<style scoped>\n",
       "    .dataframe tbody tr th:only-of-type {\n",
       "        vertical-align: middle;\n",
       "    }\n",
       "\n",
       "    .dataframe tbody tr th {\n",
       "        vertical-align: top;\n",
       "    }\n",
       "\n",
       "    .dataframe thead th {\n",
       "        text-align: right;\n",
       "    }\n",
       "</style>\n",
       "<table border=\"1\" class=\"dataframe\">\n",
       "  <thead>\n",
       "    <tr style=\"text-align: right;\">\n",
       "      <th></th>\n",
       "      <th>date</th>\n",
       "      <th>group</th>\n",
       "      <th>orders</th>\n",
       "      <th>buyers</th>\n",
       "      <th>revenue</th>\n",
       "      <th>visitors</th>\n",
       "    </tr>\n",
       "  </thead>\n",
       "  <tbody>\n",
       "    <tr>\n",
       "      <td>0</td>\n",
       "      <td>2019-08-01</td>\n",
       "      <td>A</td>\n",
       "      <td>24</td>\n",
       "      <td>20</td>\n",
       "      <td>148579</td>\n",
       "      <td>719</td>\n",
       "    </tr>\n",
       "    <tr>\n",
       "      <td>1</td>\n",
       "      <td>2019-08-01</td>\n",
       "      <td>B</td>\n",
       "      <td>21</td>\n",
       "      <td>20</td>\n",
       "      <td>101217</td>\n",
       "      <td>713</td>\n",
       "    </tr>\n",
       "    <tr>\n",
       "      <td>2</td>\n",
       "      <td>2019-08-02</td>\n",
       "      <td>A</td>\n",
       "      <td>44</td>\n",
       "      <td>38</td>\n",
       "      <td>242401</td>\n",
       "      <td>1338</td>\n",
       "    </tr>\n",
       "    <tr>\n",
       "      <td>3</td>\n",
       "      <td>2019-08-02</td>\n",
       "      <td>B</td>\n",
       "      <td>45</td>\n",
       "      <td>43</td>\n",
       "      <td>266748</td>\n",
       "      <td>1294</td>\n",
       "    </tr>\n",
       "    <tr>\n",
       "      <td>4</td>\n",
       "      <td>2019-08-03</td>\n",
       "      <td>A</td>\n",
       "      <td>68</td>\n",
       "      <td>62</td>\n",
       "      <td>354874</td>\n",
       "      <td>1845</td>\n",
       "    </tr>\n",
       "    <tr>\n",
       "      <td>...</td>\n",
       "      <td>...</td>\n",
       "      <td>...</td>\n",
       "      <td>...</td>\n",
       "      <td>...</td>\n",
       "      <td>...</td>\n",
       "      <td>...</td>\n",
       "    </tr>\n",
       "    <tr>\n",
       "      <td>57</td>\n",
       "      <td>2019-08-29</td>\n",
       "      <td>B</td>\n",
       "      <td>596</td>\n",
       "      <td>544</td>\n",
       "      <td>5559398</td>\n",
       "      <td>17708</td>\n",
       "    </tr>\n",
       "    <tr>\n",
       "      <td>58</td>\n",
       "      <td>2019-08-30</td>\n",
       "      <td>A</td>\n",
       "      <td>545</td>\n",
       "      <td>493</td>\n",
       "      <td>4022970</td>\n",
       "      <td>18037</td>\n",
       "    </tr>\n",
       "    <tr>\n",
       "      <td>59</td>\n",
       "      <td>2019-08-30</td>\n",
       "      <td>B</td>\n",
       "      <td>620</td>\n",
       "      <td>567</td>\n",
       "      <td>5774631</td>\n",
       "      <td>18198</td>\n",
       "    </tr>\n",
       "    <tr>\n",
       "      <td>60</td>\n",
       "      <td>2019-08-31</td>\n",
       "      <td>A</td>\n",
       "      <td>557</td>\n",
       "      <td>503</td>\n",
       "      <td>4084803</td>\n",
       "      <td>18736</td>\n",
       "    </tr>\n",
       "    <tr>\n",
       "      <td>61</td>\n",
       "      <td>2019-08-31</td>\n",
       "      <td>B</td>\n",
       "      <td>640</td>\n",
       "      <td>586</td>\n",
       "      <td>5907760</td>\n",
       "      <td>18916</td>\n",
       "    </tr>\n",
       "  </tbody>\n",
       "</table>\n",
       "<p>62 rows × 6 columns</p>\n",
       "</div>"
      ],
      "text/plain": [
       "         date group  orders  buyers  revenue  visitors\n",
       "0  2019-08-01  A     24      20      148579   719     \n",
       "1  2019-08-01  B     21      20      101217   713     \n",
       "2  2019-08-02  A     44      38      242401   1338    \n",
       "3  2019-08-02  B     45      43      266748   1294    \n",
       "4  2019-08-03  A     68      62      354874   1845    \n",
       "..        ... ..     ..      ..         ...    ...    \n",
       "57 2019-08-29  B     596     544     5559398  17708   \n",
       "58 2019-08-30  A     545     493     4022970  18037   \n",
       "59 2019-08-30  B     620     567     5774631  18198   \n",
       "60 2019-08-31  A     557     503     4084803  18736   \n",
       "61 2019-08-31  B     640     586     5907760  18916   \n",
       "\n",
       "[62 rows x 6 columns]"
      ]
     },
     "execution_count": 17,
     "metadata": {},
     "output_type": "execute_result"
    }
   ],
   "source": [
    "cumulativeData"
   ]
  },
  {
   "cell_type": "markdown",
   "metadata": {},
   "source": [
    "Построем график кумулятивной выручки по группам. Сделаем выводы и предположения."
   ]
  },
  {
   "cell_type": "code",
   "execution_count": 18,
   "metadata": {},
   "outputs": [
    {
     "name": "stderr",
     "output_type": "stream",
     "text": [
      "C:\\ProgramData\\Anaconda3\\lib\\site-packages\\pandas\\plotting\\_matplotlib\\converter.py:103: FutureWarning: Using an implicitly registered datetime converter for a matplotlib plotting method. The converter was registered by pandas on import. Future versions of pandas will require you to explicitly register matplotlib converters.\n",
      "\n",
      "To register the converters:\n",
      "\t>>> from pandas.plotting import register_matplotlib_converters\n",
      "\t>>> register_matplotlib_converters()\n",
      "  warnings.warn(msg, FutureWarning)\n"
     ]
    },
    {
     "data": {
      "image/png": "[encoded data removed]",
      "text/plain": [
       "<Figure size 432x288 with 1 Axes>"
      ]
     },
     "metadata": {
      "needs_background": "light"
     },
     "output_type": "display_data"
    }
   ],
   "source": [
    "#датафрейм с кумулятивным количеством заказов и кумулятивной выручкой по дням в группе А\n",
    "cumulativeRevenueA = cumulativeData[cumulativeData['group']=='A'][['date','revenue', 'orders']]\n",
    "\n",
    "#датафрейм с кумулятивным количеством заказов и кумулятивной выручкой по дням в группе B\n",
    "cumulativeRevenueB = cumulativeData[cumulativeData['group']=='B'][['date','revenue', 'orders']]\n",
    "\n",
    "#Строим график выручки группы А\n",
    "plt.plot(cumulativeRevenueA['date'], cumulativeRevenueA['revenue'], label='A')\n",
    "\n",
    "#Строим график выручки группы B\n",
    "plt.plot(cumulativeRevenueB['date'], cumulativeRevenueB['revenue'], label='B')\n",
    "\n",
    "plt.xticks(rotation=45)\n",
    "plt.xlabel('Исследуемый период')\n",
    "plt.ylabel('Выручка, руб.')\n",
    "plt.title('График кумулятивной выручки по группам')\n",
    "plt.legend(loc=4);"
   ]
  },
  {
   "cell_type": "markdown",
   "metadata": {},
   "source": [
    "- В течение первых 5 дней выручка идентично увеличвается, сказывается сезонность. после группа A показывает степенной рост выручки, в то время как рост группы B показывает рост чуть больше. \n",
    "- В середине месяца 13 августа их комулятивная выручка находится в одной отметки. После их пути расходятся, группа A продолжает показывать степенной рост, а группа B до 18 агуста приросла также, как и вначале месяца, а потом показала экспотенциальный рост резкими скачком за несколько дней. \n",
    "\n",
    "#### Вывод: \n",
    "Так вот величина комулятивной выручки группы B 19 августа достигается группой A только в сентябре  и похоже замедляется. После 19 августа обе группы показывают степенной рост паралельно друг другу. 19 августа произошел вспелск заказов группы B, который ни как не повлиял на группа A."
   ]
  },
  {
   "cell_type": "markdown",
   "metadata": {},
   "source": [
    "Построем график кумулятивного среднего чека по группам"
   ]
  },
  {
   "cell_type": "code",
   "execution_count": 19,
   "metadata": {},
   "outputs": [
    {
     "data": {
      "text/plain": [
       "<matplotlib.legend.Legend at 0xb530f48>"
      ]
     },
     "execution_count": 19,
     "metadata": {},
     "output_type": "execute_result"
    },
    {
     "data": {
      "image/png": "[encoded data removed]",
      "text/plain": [
       "<Figure size 432x288 with 1 Axes>"
      ]
     },
     "metadata": {
      "needs_background": "light"
     },
     "output_type": "display_data"
    }
   ],
   "source": [
    "#группа А\n",
    "plt.plot(cumulativeRevenueA['date'], cumulativeRevenueA['revenue']/cumulativeRevenueA['orders'], label='A')\n",
    "\n",
    "#группа B\n",
    "plt.plot(cumulativeRevenueB['date'], cumulativeRevenueB['revenue']/cumulativeRevenueB['orders'], label='B')\n",
    "\n",
    "plt.xticks(rotation=45)\n",
    "plt.xlabel('Исследуемый период')\n",
    "plt.ylabel('Средний чек, руб.')\n",
    "plt.title('График кумулятивного среднего чека по группам')\n",
    "plt.legend(loc=4)"
   ]
  },
  {
   "cell_type": "markdown",
   "metadata": {},
   "source": [
    "Данный график очень шумный. На первый взгляд вспелск среднего чека с 18 по 19 августа выглядит как выброс, потому что потом кривая группы B возвращается в исходное положение плавным спуском, а кривая группы A минимально вырастает. Есть предположение, что где то в середине сентября они пересекутся, при условии отсутсвия всплесков. \n",
    "\n",
    "Причиной вспелска может быть не только дорогие покупки новых клиентов, но и дорогие покупки старых клиентов."
   ]
  },
  {
   "cell_type": "markdown",
   "metadata": {},
   "source": [
    "Построем график относительного изменения кумулятивного среднего чека группы B к группе A"
   ]
  },
  {
   "cell_type": "code",
   "execution_count": 20,
   "metadata": {},
   "outputs": [
    {
     "data": {
      "text/plain": [
       "<matplotlib.lines.Line2D at 0xb5e7848>"
      ]
     },
     "execution_count": 20,
     "metadata": {},
     "output_type": "execute_result"
    },
    {
     "data": {
      "image/png": "[encoded data removed]",
      "text/plain": [
       "<Figure size 432x288 with 1 Axes>"
      ]
     },
     "metadata": {
      "needs_background": "light"
     },
     "output_type": "display_data"
    }
   ],
   "source": [
    "#собираем данные в одном датафрейме\n",
    "mergedCumulativeRevenue = cumulativeRevenueA.merge(cumulativeRevenueB, left_on='date', right_on='date', \n",
    "                                                   how='left', suffixes=['A', 'B'])\n",
    "\n",
    "#cтроим отношение средних чеков\n",
    "plt.plot(mergedCumulativeRevenue['date'], (mergedCumulativeRevenue['revenueB']/mergedCumulativeRevenue['ordersB'])/\n",
    "         (mergedCumulativeRevenue['revenueA']/mergedCumulativeRevenue['ordersA'])-1)\n",
    "\n",
    "plt.xticks(rotation=45)\n",
    "plt.xlabel('Исследуемый период')\n",
    "plt.ylabel('Средний чек, руб.')\n",
    "plt.title('График относительного изменения кумулятивного среднего чека группы B к группе A')\n",
    "\n",
    "#добавляем ось X\n",
    "plt.axhline(y=0, color='black', linestyle='--')"
   ]
  },
  {
   "cell_type": "markdown",
   "metadata": {},
   "source": [
    "Резкий скачек относительного изменения среднего чека в период с 18 по 19 августа объясняет наличие крупных заказов в группе B."
   ]
  },
  {
   "cell_type": "markdown",
   "metadata": {},
   "source": [
    "Построем график кумулятивной конверсии по группам"
   ]
  },
  {
   "cell_type": "code",
   "execution_count": 21,
   "metadata": {},
   "outputs": [
    {
     "data": {
      "text/plain": [
       "<matplotlib.legend.Legend at 0xb864488>"
      ]
     },
     "execution_count": 21,
     "metadata": {},
     "output_type": "execute_result"
    },
    {
     "data": {
      "image/png": "[encoded data removed]",
      "text/plain": [
       "<Figure size 432x288 with 1 Axes>"
      ]
     },
     "metadata": {
      "needs_background": "light"
     },
     "output_type": "display_data"
    }
   ],
   "source": [
    "#считаем кумулятивную конверсию\n",
    "cumulativeData['conversion'] = cumulativeData['orders']/cumulativeData['visitors']\n",
    "\n",
    "#отделяем данные по группе A\n",
    "cumulativeDataA = cumulativeData[cumulativeData['group']=='A']\n",
    "\n",
    "#отделяем данные по группе B\n",
    "cumulativeDataB = cumulativeData[cumulativeData['group']=='B']\n",
    "\n",
    "#строим графики, для маштабности графика скоректируем значения на 100\n",
    "plt.plot(cumulativeDataA['date'], cumulativeDataA['conversion']*100, label='A') \n",
    "plt.plot(cumulativeDataB['date'], cumulativeDataB['conversion']*100, label='B')\n",
    "\n",
    "plt.xticks(rotation=45)\n",
    "plt.xlabel('Исследуемый период')\n",
    "plt.ylabel('Величина конверсии, %')\n",
    "plt.title('График кумулятивной конверсии по группам')\n",
    "plt.legend(loc=4)\n",
    "\n",
    "#задаем масштаб осей\n",
    "#plt.axis([\"2019-08-01\", '2019-09-01', 0, 5])"
   ]
  },
  {
   "cell_type": "markdown",
   "metadata": {},
   "source": [
    "- Наблюдается определенная симметрия. В начале периода конверсия по группам шумная, конверсия группы A выше, потом начинает снижаться, пересекается с уровнем конверсии группы в период с 5 по 6 мая. \n",
    "- Конверсия группы B растет, имеет несколько пиков, т.е. в эти периоды либо число заказов выросло при равном числе визитов, либо при равном числе заказов, число визитов сократилось. Скорее предположим, что первый вариант более вероятный. "
   ]
  },
  {
   "cell_type": "markdown",
   "metadata": {},
   "source": [
    "#### Вывод:\n",
    "Отметим два пика конверсии группы B, данные пики свидетельствуют о наличии выбросов. Кстати, конверсия группы A была получше конверсии группы B в период с 1 по 5 мая за счет не пропорционального соотношение в группах количества пользователей и заказов. У группы A было получше. "
   ]
  },
  {
   "cell_type": "markdown",
   "metadata": {},
   "source": [
    "После 17 августа данные стабилизировались"
   ]
  },
  {
   "cell_type": "markdown",
   "metadata": {},
   "source": [
    "Построем график относительного изменения кумулятивной конверсии группы B к группе A"
   ]
  },
  {
   "cell_type": "code",
   "execution_count": 22,
   "metadata": {},
   "outputs": [
    {
     "data": {
      "text/plain": [
       "<matplotlib.lines.Line2D at 0xb962f48>"
      ]
     },
     "execution_count": 22,
     "metadata": {},
     "output_type": "execute_result"
    },
    {
     "data": {
      "image/png": "[encoded data removed]",
      "text/plain": [
       "<Figure size 432x288 with 1 Axes>"
      ]
     },
     "metadata": {
      "needs_background": "light"
     },
     "output_type": "display_data"
    }
   ],
   "source": [
    "#производим слияние кумулитивных конверсий двух групп\n",
    "mergedCumulativeConversions = cumulativeDataA[['date','conversion']].merge(cumulativeDataB[['date','conversion']],\n",
    "                                                    left_on='date', right_on='date', how='left', suffixes=['A', 'B'])\n",
    "#строим график\n",
    "plt.plot(mergedCumulativeConversions['date'], (mergedCumulativeConversions['conversionB']/\n",
    "                                               mergedCumulativeConversions['conversionA']-1) * 100)\n",
    "\n",
    "plt.xticks(rotation=45)\n",
    "plt.xlabel('Исследуемый период')\n",
    "plt.ylabel('Величина конверсии, %')\n",
    "plt.title('График относительного изменения кумулятивной конверсии группы B к группе A')\n",
    "\n",
    "plt.axhline(y=0, color='black', linestyle='--')\n",
    "plt.axhline(y=-0.1, color='grey', linestyle='--')\n",
    "#plt.axis([\"2019-04-01\", '2019-04-23', -0.6, 0.6])"
   ]
  },
  {
   "cell_type": "markdown",
   "metadata": {},
   "source": [
    "#### Вывод: \n",
    "Вслед за всплеском коммулитивной конверсии группы B, отношение данной группы к группе A стабильно растет. После 18-19 августа наблюдается небольшой спад и фиксация результатов соотношения групп примерно на одном уровне 10-15%. Переходя к проверки статистических гипотез проведем анализ раздельно по аномалиям и данные без учета выбросов. "
   ]
  },
  {
   "cell_type": "markdown",
   "metadata": {},
   "source": [
    "Построем точечный график количества заказов по пользователям"
   ]
  },
  {
   "cell_type": "code",
   "execution_count": 23,
   "metadata": {},
   "outputs": [
    {
     "data": {
      "text/plain": [
       "Text(0.5, 1.0, 'Точечный график количества заказов по пользователям')"
      ]
     },
     "execution_count": 23,
     "metadata": {},
     "output_type": "execute_result"
    },
    {
     "data": {
      "image/png": "[encoded data removed]",
      "text/plain": [
       "<Figure size 432x288 with 1 Axes>"
      ]
     },
     "metadata": {
      "needs_background": "light"
     },
     "output_type": "display_data"
    }
   ],
   "source": [
    "#для этого нужно найти число заказов по пользователям — создать df c двумя столбцами: 'userId' и 'orders'\n",
    "ordersByUsers = orders.drop(['date','group', 'revenue'], axis=1).groupby('visitorId', as_index=False)\\\n",
    "                                                                .agg({'transactionId' : pd.Series.nunique})\n",
    "ordersByUsers.columns = ['userId','orders']\n",
    "\n",
    "#серия из чисел от 0 до количества наблюдений в ordersByUsers \n",
    "x_values = pd.Series(range(0,len(ordersByUsers)))\n",
    "\n",
    "plt.scatter(x_values, ordersByUsers['orders'])\n",
    "plt.xlabel('Уникальные пользователи')\n",
    "plt.ylabel('Количество заказов')\n",
    "plt.title('Точечный график количества заказов по пользователям')"
   ]
  },
  {
   "cell_type": "markdown",
   "metadata": {},
   "source": [
    "Разделим заказы, посмотрим на количество клиентов с заказами до 3"
   ]
  },
  {
   "cell_type": "code",
   "execution_count": 24,
   "metadata": {},
   "outputs": [
    {
     "data": {
      "text/plain": [
       "1.2609117361784674"
      ]
     },
     "execution_count": 24,
     "metadata": {},
     "output_type": "execute_result"
    }
   ],
   "source": [
    "ordersByUsers[ordersByUsers['orders']>3]['orders'].count() / len(ordersByUsers) * 100"
   ]
  },
  {
   "cell_type": "markdown",
   "metadata": {},
   "source": [
    "На графике наблюдаются выбросы. В целом, согласно распределению, достаточно много клиентов совершают по 2 заказа. Есть и те, кто совершает 3 заказа. Пользователей, совершивших от 4 до 11 заказов 1,26%. "
   ]
  },
  {
   "cell_type": "markdown",
   "metadata": {},
   "source": [
    "Посчитаем 95-й и 99-й перцентили количества заказов на пользователя. Выберем границу для определения аномальных пользователей."
   ]
  },
  {
   "cell_type": "code",
   "execution_count": 25,
   "metadata": {},
   "outputs": [
    {
     "data": {
      "text/plain": [
       "array([2., 4.])"
      ]
     },
     "execution_count": 25,
     "metadata": {},
     "output_type": "execute_result"
    }
   ],
   "source": [
    "# Метод np.percentile('column', [percentile1, percentile2, percentile3]) находит перцентили.\n",
    "np.percentile(ordersByUsers['orders'], [95, 99])"
   ]
  },
  {
   "cell_type": "markdown",
   "metadata": {},
   "source": [
    "Не более 1% пользователей делали больше 4 заказов, и не более 5% делали более 2 заказов. "
   ]
  },
  {
   "cell_type": "markdown",
   "metadata": {},
   "source": [
    "Построем точечный график стоимостей заказов"
   ]
  },
  {
   "cell_type": "code",
   "execution_count": 26,
   "metadata": {},
   "outputs": [
    {
     "data": {
      "text/plain": [
       "(array([737272., 737276., 737280., 737284., 737288., 737292., 737296.,\n",
       "        737300., 737303.]), <a list of 9 Text xticklabel objects>)"
      ]
     },
     "execution_count": 26,
     "metadata": {},
     "output_type": "execute_result"
    },
    {
     "data": {
      "image/png": "[encoded data removed]",
      "text/plain": [
       "<Figure size 432x288 with 1 Axes>"
      ]
     },
     "metadata": {
      "needs_background": "light"
     },
     "output_type": "display_data"
    }
   ],
   "source": [
    "plt.scatter(orders['date'], orders['revenue'])\n",
    "\n",
    "plt.xlabel('Исследуемый период')\n",
    "plt.ylabel('Выручка, руб.')\n",
    "plt.title('Точечный график стоимости заказов')\n",
    "plt.axis([\"2019-08-01\", '2019-09-01', 0, 200000])\n",
    "plt.xticks(rotation=45)"
   ]
  },
  {
   "cell_type": "markdown",
   "metadata": {},
   "source": [
    "Выручка по дням не превышает 100000 руб., в целом наблюдаем равномерное распределения. Проседания в одной группе компенсируется другой и наоборот. Есть выбросы, но их минимум. "
   ]
  },
  {
   "cell_type": "markdown",
   "metadata": {},
   "source": [
    "Посчитаем 95-й и 99-й перцентили стоимости заказов. Выберем границу для определения аномальных заказов."
   ]
  },
  {
   "cell_type": "code",
   "execution_count": 27,
   "metadata": {},
   "outputs": [
    {
     "data": {
      "text/plain": [
       "array([28000. , 58233.2])"
      ]
     },
     "execution_count": 27,
     "metadata": {},
     "output_type": "execute_result"
    }
   ],
   "source": [
    "# Метод np.percentile('column', [percentile1, percentile2, percentile3]) находит перцентили.\n",
    "np.percentile(orders['revenue'], [95, 99])"
   ]
  },
  {
   "cell_type": "markdown",
   "metadata": {},
   "source": [
    "Не более 1% заказов на сумму больше 58233,2 руб, и не более 5% всех заказов больше 28000 руб."
   ]
  },
  {
   "cell_type": "markdown",
   "metadata": {},
   "source": [
    "#### Промежуточный результат\n",
    "    •\tОценили результаты A/B-теста визуально и выяснили, что в данных есть выбросы;\n",
    "    •\tУвидели выбросы и нашли границу для их определения, по заказам >2 шт и по выручке >28000 руб.\n",
    "    на одного уникального пользователя\n"
   ]
  },
  {
   "cell_type": "markdown",
   "metadata": {},
   "source": [
    "Посчитаем статистическую значимость различий в конверсии между группами по «сырым» данным"
   ]
  },
  {
   "cell_type": "code",
   "execution_count": 28,
   "metadata": {
    "scrolled": false
   },
   "outputs": [],
   "source": [
    "#группируем визиты по дням для группы A \n",
    "visitorsADaily = visitors[visitors['group']=='A'][['date', 'visitors']]\n",
    "visitorsADaily.columns = ['date', 'visitorsPerDateA']\n",
    "visitorsACummulative = visitorsADaily.apply(lambda x: visitorsADaily[visitorsADaily['date'] <= x['date']]\\\n",
    "                                            .agg({'date' : 'max', 'visitorsPerDateA' : 'sum'}), axis=1)\n",
    "visitorsACummulative.columns = ['date', 'visitorsCummulativeA']\n",
    "\n",
    "#группируем визиты по дням для группы B\n",
    "visitorsBDaily = visitors[visitors['group']=='B'][['date', 'visitors']]\n",
    "visitorsBDaily.columns = ['date', 'visitorsPerDateB']\n",
    "visitorsBCummulative = visitorsBDaily.apply(lambda x: visitorsBDaily[visitorsBDaily['date'] <= x['date']]\\\n",
    "                                            .agg({'date' : 'max', 'visitorsPerDateB' : 'sum'}), axis=1)\n",
    "visitorsBCummulative.columns = ['date', 'visitorsCummulativeB']\n",
    "\n",
    "#группируем заказы по дням для группы A \n",
    "ordersADaily = orders[orders['group']=='A'][['date', 'transactionId', 'visitorId', 'revenue']]\\\n",
    "    .groupby('date', as_index=False)\\\n",
    "    .agg({'transactionId' : pd.Series.nunique, 'revenue' : 'sum'})\n",
    "ordersADaily.columns = ['date', 'ordersPerDateA', 'revenuePerDateA']\n",
    "ordersACummulative = ordersADaily.apply(\n",
    "    lambda x: \\\n",
    "        ordersADaily[ordersADaily['date'] <= x['date']]\\\n",
    "            .agg({\n",
    "                'date' : 'max',\n",
    "                'ordersPerDateA' : 'sum',\n",
    "                'revenuePerDateA' : 'sum'}), axis=1).sort_values(by=['date'])\n",
    "ordersACummulative.columns = ['date', 'ordersCummulativeA', 'revenueCummulativeA']\n",
    "\n",
    "#группируем заказы по дням для группы B\n",
    "ordersBDaily = orders[orders['group']=='B'][['date', 'transactionId', 'visitorId', 'revenue']]\\\n",
    "    .groupby('date', as_index=False)\\\n",
    "    .agg({'transactionId' : pd.Series.nunique, 'revenue' : 'sum'})\n",
    "ordersBDaily.columns = ['date', 'ordersPerDateB', 'revenuePerDateB']\n",
    "ordersBCummulative = ordersBDaily.apply(\n",
    "    lambda x: \\\n",
    "        ordersBDaily[ordersBDaily['date'] <= x['date']]\\\n",
    "            .agg({\n",
    "                'date' : 'max',\n",
    "                'ordersPerDateB' : 'sum',\n",
    "                'revenuePerDateB' : 'sum'}), axis=1).sort_values(by=['date'])\n",
    "ordersBCummulative.columns = ['date', 'ordersCummulativeB', 'revenueCummulativeB']\n",
    "\n",
    "#сводная итоговая таблица куммулитивных метрик по группам, заказам, и визитам по дням \n",
    "data = ordersADaily.merge(ordersBDaily, left_on='date', right_on='date', how='left')\\\n",
    "    .merge(ordersACummulative, left_on='date', right_on='date', how='left')\\\n",
    "    .merge(ordersBCummulative, left_on='date', right_on='date', how='left')\\\n",
    "    .merge(visitorsADaily, left_on='date', right_on='date', how='left')\\\n",
    "    .merge(visitorsBDaily, left_on='date', right_on='date', how='left')\\\n",
    "    .merge(visitorsACummulative, left_on='date', right_on='date', how='left')\\\n",
    "    .merge(visitorsBCummulative, left_on='date', right_on='date', how='left')"
   ]
  },
  {
   "cell_type": "markdown",
   "metadata": {},
   "source": [
    "    Гипотеза H0: считаем, что отсутствуют статистически значимые различия конверсий между группами, иначе говоря, считаем что они равны.  \n",
    "    Гипотеза H1: иначе, различия имеют вес и статистически значимы, иначе говоря, они отличаются "
   ]
  },
  {
   "cell_type": "code",
   "execution_count": 29,
   "metadata": {},
   "outputs": [
    {
     "name": "stdout",
     "output_type": "stream",
     "text": [
      "0.00840\n",
      "0.138\n"
     ]
    }
   ],
   "source": [
    "#для пользователей, совершивших хотя бы 1 заказ, будет указано число заказов. Делаем группировку по группам\n",
    "ordersByUsersA = orders[orders['group']=='A'].groupby('visitorId', as_index=False).agg({'transactionId' : pd.Series.nunique})\n",
    "ordersByUsersA.columns = ['visitorId', 'orders']\n",
    "ordersByUsersB = orders[orders['group']=='B'].groupby('visitorId', as_index=False).agg({'transactionId' : pd.Series.nunique})\n",
    "ordersByUsersB.columns = ['visitorId', 'orders']\n",
    "\n",
    "#Нули для пользователей, которые ничего не заказывали. \n",
    "#Их количество равно разнице между суммой посетителей и количеством записей о заказах\n",
    "#Список индексов создали функцией np.arange().\n",
    "#Объявим переменные sampleA и sampleB, в которых пользователям из разных групп будет соответствовать количество заказов. \n",
    "sampleA = pd.concat([ordersByUsersA['orders'],pd.Series(0, index=np.arange(data['visitorsPerDateA']\n",
    "                                              .sum() - len(ordersByUsersA['orders'])), name='orders')],axis=0)\n",
    "sampleB = pd.concat([ordersByUsersB['orders'],pd.Series(0, index=np.arange(data['visitorsPerDateB']\n",
    "                                               .sum() - len(ordersByUsersB['orders'])), name='orders')],axis=0)\n",
    "\n",
    "#Применим критерий и отформатируем p-value, округлив его до 5 знаков после запятой.\n",
    "#Выведем относительный прирост конверсии группы B: конверсия группы B / конверсия группы A - 1. \n",
    "print(\"{0:.5f}\".format(stats.mannwhitneyu(sampleA, sampleB)[1]))\n",
    "\n",
    "#Относительное различие конверсии группы B:\n",
    "print(\"{0:.3f}\".format((data['ordersPerDateB'].sum()/data['visitorsPerDateB']\n",
    "                        .sum())/(data['ordersPerDateA'].sum()/data['visitorsPerDateA'].sum())-1))\n"
   ]
  },
  {
   "cell_type": "markdown",
   "metadata": {},
   "source": [
    "- P-value меньше 0.05, потому нулевую гипотезу об отсутствии статистически значимых различий между группами отвергаем. \n",
    "- Анализ «сырых данных» показывает, что в конверсии между группами есть статистически значимые различия, это подтверждает различия в конверсии групп. \n",
    "- Относительный прирост конверсии группы B к конверсии группы A равен 13.8%. "
   ]
  },
  {
   "cell_type": "markdown",
   "metadata": {},
   "source": [
    "Посчитаем статистическую значимость различий в среднем чеке заказа между группами по «сырым» данным"
   ]
  },
  {
   "cell_type": "markdown",
   "metadata": {},
   "source": [
    "    Гипотеза H0: считаем, что отсутствуют статистически значимые различия в среднем чеке между группами, иначе говоря. они равны\n",
    "    Гипотеза H1: иначе, различия имеют вес и статистически значимы, иначе говоря, они отличаются"
   ]
  },
  {
   "cell_type": "code",
   "execution_count": 30,
   "metadata": {},
   "outputs": [
    {
     "name": "stdout",
     "output_type": "stream",
     "text": [
      "0.365\n",
      "0.259\n"
     ]
    }
   ],
   "source": [
    "#Выведем p-value по критерию mannwhitney для выручки из выборки A и B\n",
    "print(\"{0:.3f}\".format(stats.mannwhitneyu(orders[orders['group']=='A']['revenue'], \n",
    "                                          orders[orders['group']=='B']['revenue'])[1]))\n",
    "\n",
    "#Относительный прирост среднего чека группы B к среднему чеку группы A\n",
    "print(\"{0:.3f}\".format(orders[orders['group']=='B']['revenue'].mean()/orders[orders['group']=='A']['revenue'].mean()-1))"
   ]
  },
  {
   "cell_type": "markdown",
   "metadata": {},
   "source": [
    "- P-value больше 0.05 — статистически значимых отличий в среднем чеке между группами нет. \n",
    "- Относительное различие среднего чека между сегментами 25,9%, что говорит о существенных отличиях межжду покупателями двух групп по сырым данным с учетом аномалий. \n",
    "\n",
    "Либо клиенты группы B более состоятельнее клиентов группы A, либо мы имеем дело с аномалиями, которые искажают наши результаты. "
   ]
  },
  {
   "cell_type": "markdown",
   "metadata": {},
   "source": [
    "Посчитаем статистическую значимость различий в конверсии между группами по «очищенным» данным"
   ]
  },
  {
   "cell_type": "code",
   "execution_count": 31,
   "metadata": {},
   "outputs": [],
   "source": [
    "#очищаем данные от аномалий с помощью срезов\n",
    "usersWithManyOrders = pd.concat([ordersByUsersA[ordersByUsersA['orders'] > 2]['visitorId'], \n",
    "                                 ordersByUsersB[ordersByUsersB['orders'] > 2]['visitorId']], axis = 0)\n",
    "usersWithExpensiveOrders = orders[orders['revenue'] > 28000]['visitorId']\n",
    "\n",
    "#создаем файл с нашими аномалиями \n",
    "abnormalUsers = pd.concat([usersWithManyOrders, usersWithExpensiveOrders], axis = 0).drop_duplicates().sort_values()"
   ]
  },
  {
   "cell_type": "markdown",
   "metadata": {},
   "source": [
    "    Гипотеза H0: считаем, что отсутствуют статистически значимые различия в конверсии между группами, \n",
    "    но уже по очищенным данным, иначе говоря, они равны\n",
    "    Гипотеза H1: иначе, различия имеют вес и статистически значимы, иначе говоря, они отличаются"
   ]
  },
  {
   "cell_type": "code",
   "execution_count": 32,
   "metadata": {},
   "outputs": [
    {
     "name": "stdout",
     "output_type": "stream",
     "text": [
      "0.00652\n",
      "0.173\n"
     ]
    }
   ],
   "source": [
    "#Посчитаем статистическую значимость различий в конверсии между группами теста по очищенным данным. \n",
    "sampleAFiltered = pd.concat([ordersByUsersA[np.logical_not(ordersByUsersA['visitorId']\n",
    "                    .isin(abnormalUsers))]['orders'],pd.Series(0, index=np.arange(data['visitorsPerDateA']\n",
    "                    .sum() - len(ordersByUsersA['orders'])),name='orders')],axis=0)\n",
    "\n",
    "sampleBFiltered = pd.concat([ordersByUsersB[np.logical_not(ordersByUsersB['visitorId']\n",
    "                    .isin(abnormalUsers))]['orders'],pd.Series(0, index=np.arange(data['visitorsPerDateB']\n",
    "                    .sum() - len(ordersByUsersB['orders'])),name='orders')],axis=0)\n",
    "\n",
    "#при этом, мы удаляем не сами заказы, а пользователей с заказами, \n",
    "#которые считаем аномальныи  с помощью выражения isin(abnormalUsers)\n",
    "\n",
    "#Применим статистический критерий Манна-Уитни к полученным выборкам:\n",
    "print(\"{0:.5f}\".format(stats.mannwhitneyu(sampleAFiltered, sampleBFiltered)[1]))\n",
    "print(\"{0:.3f}\".format(sampleBFiltered.mean()/sampleAFiltered.mean()-1))\n"
   ]
  },
  {
   "cell_type": "markdown",
   "metadata": {},
   "source": [
    "- После удаления аномалий статистическая значимость достигнута, результаты аналогичны сырым данным. \n",
    "- Группа B значительно лучше группы A, по очищенным данным различия в конверсии составили 17,3% в пользу группы B. "
   ]
  },
  {
   "cell_type": "markdown",
   "metadata": {},
   "source": [
    "Посчитаем статистическую значимость различий в среднем чеке заказа между группами по «очищенным» данным"
   ]
  },
  {
   "cell_type": "markdown",
   "metadata": {},
   "source": [
    "    Гипотеза H0: считаем, что отсутствуют статистически значимые различия в среднем чеке между группами, \n",
    "    но уже по очищенным данным, иначе говоря, они равны\n",
    "    Гипотеза H1: иначе, различия имеют вес и статистически значимы, иначе говоря, они отличаются"
   ]
  },
  {
   "cell_type": "code",
   "execution_count": 33,
   "metadata": {},
   "outputs": [
    {
     "name": "stdout",
     "output_type": "stream",
     "text": [
      "0.369\n",
      "-0.020\n"
     ]
    }
   ],
   "source": [
    "#проводим стат.тест по критерию mannwhitneyu по выручке без учета аномальных заказов abnormalUsers.\n",
    "print(\"{0:.3f}\".format(stats.mannwhitneyu(\n",
    "    orders[np.logical_and(\n",
    "        orders['group']=='A',\n",
    "        np.logical_not(orders['visitorId'].isin(abnormalUsers)))]['revenue'],\n",
    "    orders[np.logical_and(\n",
    "        orders['group']=='B',\n",
    "        np.logical_not(orders['visitorId'].isin(abnormalUsers)))]['revenue'])[1]))\n",
    "\n",
    "#считаем относительную разницу среднего чека по очищеным данным без учета аномальных заказов abnormalUsers.\n",
    "print(\"{0:.3f}\".format(\n",
    "    orders[np.logical_and(orders['group']=='B',np.logical_not(orders['visitorId']\\\n",
    "                                                              .isin(abnormalUsers)))]['revenue'].mean()/\n",
    "    orders[np.logical_and(orders['group']=='A',np.logical_not(orders['visitorId']\\\n",
    "                                                              .isin(abnormalUsers)))]['revenue'].mean() - 1))"
   ]
  },
  {
   "cell_type": "markdown",
   "metadata": {},
   "source": [
    "- Мы не можем отвергнуть нулевую гипотезу об отстутсвие статистически значимых различий между группами. Похоже различий нет.\n",
    "- P-value больше 0,05. Относительная разница по очищеным данным в пользу группы A на 2%.\n",
    "- По очищенным данным средний чек примерно одинаковый. \n",
    "\n",
    "В итоге за счет дорогих заказов группа B выросла по выручке, но в целом это две статистически идентичные группы по данному показателю"
   ]
  },
  {
   "cell_type": "markdown",
   "metadata": {},
   "source": [
    "### Необъходимо принять решение по результатам теста и объяснить его. \n",
    "#### Варианты решений: \n",
    "    1. Остановить тест, зафиксировать победу одной из групп. \n",
    "    2. Остановить тест, зафиксировать отсутствие различий между группами. \n",
    "    3. Продолжить тест."
   ]
  },
  {
   "cell_type": "markdown",
   "metadata": {},
   "source": [
    "### [Вывод](#Содержание) <a id=\"3\"></a> "
   ]
  },
  {
   "cell_type": "markdown",
   "metadata": {},
   "source": [
    "#####  Решение: \n",
    "1 по конверсии, у группы B она получше, но по среднему чеку ответ 2, отсутствуют существенные различия по группам. \n",
    "\n",
    "- С точки зрения маркетинга, при привлечении большего числа клиентов группа B принесет больше прибыли, поэтому ключевым является показатель конверсии. \n",
    "\n",
    "- С точки зрения денежных потоков, ключевым показателем является средний чек пользователя. Однозначно, продолжать тест не имеет смысла, так как основные цели тестирования достигнуты. "
   ]
  },
  {
   "cell_type": "markdown",
   "metadata": {},
   "source": [
    "С использованием фреймворков оценили список гипотез на жизнеспособность. Оказалось, что наиболее привлекательные гипотезы 0 и 7. Далее построили графики комулятивного среднего чека, выручки, визитов, оценили выбросы, и пришли к выводу, что с 18 по 19 августа 2018 года в группе B появились выбросы - дорогие заказы. Они повлияли на статистическую оценку данных. По сырым данным были сомнения, считалось, что выбросы повлияли на конверсию и группы одинаковые. Но нет, по очищеным данным группа B все же прибыльнее, а средний чек у них примерно равный. Просто группа B приводит больше лояльных клиентов. "
   ]
  }
 ],
 "metadata": {
  "kernelspec": {
   "display_name": "Python 3",
   "language": "python",
   "name": "python3"
  },
  "language_info": {
   "codemirror_mode": {
    "name": "ipython",
    "version": 3
   },
   "file_extension": ".py",
   "mimetype": "text/x-python",
   "name": "python",
   "nbconvert_exporter": "python",
   "pygments_lexer": "ipython3",
   "version": "3.7.4"
  }
 },
 "nbformat": 4,
 "nbformat_minor": 2
}
