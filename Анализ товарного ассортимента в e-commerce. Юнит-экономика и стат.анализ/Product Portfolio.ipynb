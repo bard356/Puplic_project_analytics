{
 "cells": [
  {
   "cell_type": "markdown",
   "metadata": {},
   "source": [
    " <img align=\"center\" src=\"https://im0-tub-ru.yandex.net/i?id=255eea9c2133d22d59a9784a13b4a61a&n=13\"  width=50% />"
   ]
  },
  {
   "cell_type": "markdown",
   "metadata": {},
   "source": [
    "# Анализ товарного ассортимента интернет-магазина \"Пока все ещё тут\""
   ]
  },
  {
   "cell_type": "markdown",
   "metadata": {},
   "source": [
    "**Основная задача:**\n",
    "Проанализировать товарный ассортимент\n",
    "\n",
    "- Проведем исследовательский анализ данных\n",
    "- Проанализируем торговый ассортимент\n",
    "- Сформулируем и проверим статистические гипотезы\n",
    "\n",
    "**Описание данных:**\n",
    "Датасет представляет собой историю транзакций интернет-магазина товаров для дома и быта \"Пока все ещё тут\".\n",
    "\n",
    "Файл **ecommerce_dataset.csv** содержит колонки:\n",
    "\n",
    "- `date` — Дата заказа\n",
    "- `customer_id` — Идентификатор покупателя\n",
    "- `order_id` — Идентификатор заказа\n",
    "- `product` — Наименование товара\n",
    "- `quantity` — Количество товара в заказа\n",
    "- `price` — Цена товара"
   ]
  },
  {
   "cell_type": "markdown",
   "metadata": {},
   "source": [
    " <font size=\"4\" color=Teal><a class=\"ancor\" id=\"Содержание\"></a>\n",
    "    \n",
    "###  Содержание:\n",
    "    \n",
    "- [1. Загрузка и чтение данных](#1)\n",
    "- [2. Предобработка данных](#2)\n",
    "  - [2.1 Приведение к общему виду и типу](#2.1)\n",
    "  - [2.2 Обработка пропусков и дубликатов](#2.2)\n",
    "  - [2.3 Поиск и обработка выбросов](#2.3)  \n",
    "- [3. Исследовательский анализ данных](#3)\n",
    "  - [3.1 Распределение данных и их структура](#3.1)\n",
    "  - [3.2 Статистический анализ](#3.2)\n",
    "  - [3.3 Визуализация и промежуточные выводы](#3.3)\n",
    "- [4. Анализ товарного ассортимента](#4)\n",
    "  - [4.1 Пользовательские предпочтения](#4.1)\n",
    "  - [4.2 Когортный анализ](#4.2)\n",
    "  - [4.3 Unit-экономика](#4.3)\n",
    "- [5. Проверка статистических гипотез](#5)\n",
    "- [6. Выводы](#6)\n",
    "- [7. Источники](#7)\n",
    "- [8. Результаты исследования](#8)"
   ]
  },
  {
   "cell_type": "markdown",
   "metadata": {},
   "source": [
    "**Вопросы, на которые планируется получится ответ после выполнения каждого этапа и подэтапа и в целом по результатам:** \n",
    "\n",
    "- Оценить данные и выдвинуть первичные представления о них\n",
    "- Почему в данных есть ошибки, и если их нет, то почему их нет\n",
    "- Осуществить подготовку данных\n",
    "- Оценить распределение и структуру данных, а также их особенные признаки и уникальные значения\n",
    "- Для каждого клиента определить, как давно он покупал последний раз, сколько и по какой цене\n",
    "- На основе давности покупки разделить клиентов на категории\n",
    "- Подсчитать основные экономические метрики по категориям и в общем\n",
    "- Определить дополнительные показатели, посчитать\n",
    "- Построить портрет покупателей\n",
    "- Оценить популярность товаром и перспективы номенклуатуры, выявить непопулярные товары\n",
    "- Сформулировать гипотезы и осуществть их проверку\n",
    "- Сделать выводы и написать рекомендации\n",
    "- Подготовить результаты исследования в виде дашборда и презентации"
   ]
  },
  {
   "cell_type": "markdown",
   "metadata": {},
   "source": [
    "### <font color=Teal>[Загрузка и чтение данных](#Содержание) <a class=\"ancor\" id=\"1\"></a> "
   ]
  },
  {
   "cell_type": "markdown",
   "metadata": {},
   "source": [
    "Импортируем все необъходимые библиотеки для анализа данных"
   ]
  },
  {
   "cell_type": "code",
   "execution_count": 1,
   "metadata": {},
   "outputs": [],
   "source": [
    "import pandas as pd \n",
    "import numpy as np\n",
    "import scipy.stats as stats\n",
    "import math as mth\n",
    "import matplotlib.pyplot as plt\n",
    "import seaborn as sns\n",
    "import plotly.express as px\n",
    "import plotly.graph_objs as go\n",
    "from plotly.offline import iplot\n",
    "import warnings\n",
    "import ipywidgets as widgets\n",
    "from ipywidgets import interact\n",
    "from ipywidgets import interact_manual\n",
    "import datetime\n",
    "import re\n",
    "import time"
   ]
  },
  {
   "cell_type": "code",
   "execution_count": 2,
   "metadata": {},
   "outputs": [],
   "source": [
    "#игнорируем ошибки \n",
    "warnings.filterwarnings(\"ignore\")\n",
    "\n",
    "# расщирение дисплея по максимальному размеру выводимых данных\n",
    "pd.set_option('display.max_colwidth', -1)"
   ]
  },
  {
   "cell_type": "code",
   "execution_count": 3,
   "metadata": {},
   "outputs": [],
   "source": [
    "#чтение файла и запись в переменную ecommerce\n",
    "ecommerce = pd.read_csv('ecommerce_dataset.csv')"
   ]
  },
  {
   "cell_type": "code",
   "execution_count": 4,
   "metadata": {},
   "outputs": [],
   "source": [
    "#функция просмотра основных данных таблицы\n",
    "def view(h):\n",
    "    display(pd.concat([h.head(),h.tail()],axis=0))\n",
    "    display(h.info())\n",
    "    display(h.shape)"
   ]
  },
  {
   "cell_type": "code",
   "execution_count": 5,
   "metadata": {},
   "outputs": [
    {
     "data": {
      "text/html": [
       "<div>\n",
       "<style scoped>\n",
       "    .dataframe tbody tr th:only-of-type {\n",
       "        vertical-align: middle;\n",
       "    }\n",
       "\n",
       "    .dataframe tbody tr th {\n",
       "        vertical-align: top;\n",
       "    }\n",
       "\n",
       "    .dataframe thead th {\n",
       "        text-align: right;\n",
       "    }\n",
       "</style>\n",
       "<table border=\"1\" class=\"dataframe\">\n",
       "  <thead>\n",
       "    <tr style=\"text-align: right;\">\n",
       "      <th></th>\n",
       "      <th>date</th>\n",
       "      <th>customer_id</th>\n",
       "      <th>order_id</th>\n",
       "      <th>product</th>\n",
       "      <th>quantity</th>\n",
       "      <th>price</th>\n",
       "    </tr>\n",
       "  </thead>\n",
       "  <tbody>\n",
       "    <tr>\n",
       "      <td>0</td>\n",
       "      <td>2018100100</td>\n",
       "      <td>ee47d746-6d2f-4d3c-9622-c31412542920</td>\n",
       "      <td>68477</td>\n",
       "      <td>Комнатное растение в горшке Алое Вера, d12, h30</td>\n",
       "      <td>1</td>\n",
       "      <td>142.0</td>\n",
       "    </tr>\n",
       "    <tr>\n",
       "      <td>1</td>\n",
       "      <td>2018100100</td>\n",
       "      <td>ee47d746-6d2f-4d3c-9622-c31412542920</td>\n",
       "      <td>68477</td>\n",
       "      <td>Комнатное растение в горшке Кофе Арабика, d12, h25</td>\n",
       "      <td>1</td>\n",
       "      <td>194.0</td>\n",
       "    </tr>\n",
       "    <tr>\n",
       "      <td>2</td>\n",
       "      <td>2018100100</td>\n",
       "      <td>ee47d746-6d2f-4d3c-9622-c31412542920</td>\n",
       "      <td>68477</td>\n",
       "      <td>Радермахера d-12 см h-20 см</td>\n",
       "      <td>1</td>\n",
       "      <td>112.0</td>\n",
       "    </tr>\n",
       "    <tr>\n",
       "      <td>3</td>\n",
       "      <td>2018100100</td>\n",
       "      <td>ee47d746-6d2f-4d3c-9622-c31412542920</td>\n",
       "      <td>68477</td>\n",
       "      <td>Хризолидокарпус Лутесценс d-9 см</td>\n",
       "      <td>1</td>\n",
       "      <td>179.0</td>\n",
       "    </tr>\n",
       "    <tr>\n",
       "      <td>4</td>\n",
       "      <td>2018100100</td>\n",
       "      <td>ee47d746-6d2f-4d3c-9622-c31412542920</td>\n",
       "      <td>68477</td>\n",
       "      <td>Циперус Зумула d-12 см h-25 см</td>\n",
       "      <td>1</td>\n",
       "      <td>112.0</td>\n",
       "    </tr>\n",
       "    <tr>\n",
       "      <td>6732</td>\n",
       "      <td>2019103111</td>\n",
       "      <td>73d1cd35-5e5f-4629-8cf2-3fda829d4e58</td>\n",
       "      <td>73156</td>\n",
       "      <td>Таз пластмассовый 40,0 л пищевой овальный (Иж), 1404094</td>\n",
       "      <td>1</td>\n",
       "      <td>404.0</td>\n",
       "    </tr>\n",
       "    <tr>\n",
       "      <td>6733</td>\n",
       "      <td>2019103112</td>\n",
       "      <td>1f0a7f35-7459-4f23-b468-5e45bf481dd1</td>\n",
       "      <td>73158</td>\n",
       "      <td>Сумка-тележка 2-х колесная Gimi Argo синяя</td>\n",
       "      <td>1</td>\n",
       "      <td>1087.0</td>\n",
       "    </tr>\n",
       "    <tr>\n",
       "      <td>6734</td>\n",
       "      <td>2019103113</td>\n",
       "      <td>25df96a7-c453-4708-9cea-a3dfc7c342ea</td>\n",
       "      <td>73162</td>\n",
       "      <td>Герань домашняя (пеларгония зональная) цветущая D12, H25-30, малиновая с красным, полумахровая</td>\n",
       "      <td>1</td>\n",
       "      <td>157.0</td>\n",
       "    </tr>\n",
       "    <tr>\n",
       "      <td>6735</td>\n",
       "      <td>2019103114</td>\n",
       "      <td>73d1cd35-5e5f-4629-8cf2-3fda829d4e58</td>\n",
       "      <td>73164</td>\n",
       "      <td>Таз пластмассовый со стиральной доской (Иж), 1404021</td>\n",
       "      <td>1</td>\n",
       "      <td>397.0</td>\n",
       "    </tr>\n",
       "    <tr>\n",
       "      <td>6736</td>\n",
       "      <td>2019103116</td>\n",
       "      <td>344aa778-e436-419e-a9c6-9b8f37b7c1df</td>\n",
       "      <td>73137</td>\n",
       "      <td>Сумка-тележка 2-х колесная Gimi Argo синяя</td>\n",
       "      <td>1</td>\n",
       "      <td>1087.0</td>\n",
       "    </tr>\n",
       "  </tbody>\n",
       "</table>\n",
       "</div>"
      ],
      "text/plain": [
       "            date                           customer_id  order_id  \\\n",
       "0     2018100100  ee47d746-6d2f-4d3c-9622-c31412542920  68477      \n",
       "1     2018100100  ee47d746-6d2f-4d3c-9622-c31412542920  68477      \n",
       "2     2018100100  ee47d746-6d2f-4d3c-9622-c31412542920  68477      \n",
       "3     2018100100  ee47d746-6d2f-4d3c-9622-c31412542920  68477      \n",
       "4     2018100100  ee47d746-6d2f-4d3c-9622-c31412542920  68477      \n",
       "6732  2019103111  73d1cd35-5e5f-4629-8cf2-3fda829d4e58  73156      \n",
       "6733  2019103112  1f0a7f35-7459-4f23-b468-5e45bf481dd1  73158      \n",
       "6734  2019103113  25df96a7-c453-4708-9cea-a3dfc7c342ea  73162      \n",
       "6735  2019103114  73d1cd35-5e5f-4629-8cf2-3fda829d4e58  73164      \n",
       "6736  2019103116  344aa778-e436-419e-a9c6-9b8f37b7c1df  73137      \n",
       "\n",
       "                                                                                             product  \\\n",
       "0     Комнатное растение в горшке Алое Вера, d12, h30                                                  \n",
       "1     Комнатное растение в горшке Кофе Арабика, d12, h25                                               \n",
       "2     Радермахера d-12 см h-20 см                                                                      \n",
       "3     Хризолидокарпус Лутесценс d-9 см                                                                 \n",
       "4     Циперус Зумула d-12 см h-25 см                                                                   \n",
       "6732  Таз пластмассовый 40,0 л пищевой овальный (Иж), 1404094                                          \n",
       "6733  Сумка-тележка 2-х колесная Gimi Argo синяя                                                       \n",
       "6734  Герань домашняя (пеларгония зональная) цветущая D12, H25-30, малиновая с красным, полумахровая   \n",
       "6735  Таз пластмассовый со стиральной доской (Иж), 1404021                                             \n",
       "6736  Сумка-тележка 2-х колесная Gimi Argo синяя                                                       \n",
       "\n",
       "      quantity   price  \n",
       "0     1         142.0   \n",
       "1     1         194.0   \n",
       "2     1         112.0   \n",
       "3     1         179.0   \n",
       "4     1         112.0   \n",
       "6732  1         404.0   \n",
       "6733  1         1087.0  \n",
       "6734  1         157.0   \n",
       "6735  1         397.0   \n",
       "6736  1         1087.0  "
      ]
     },
     "metadata": {},
     "output_type": "display_data"
    },
    {
     "name": "stdout",
     "output_type": "stream",
     "text": [
      "<class 'pandas.core.frame.DataFrame'>\n",
      "RangeIndex: 6737 entries, 0 to 6736\n",
      "Data columns (total 6 columns):\n",
      "date           6737 non-null int64\n",
      "customer_id    6737 non-null object\n",
      "order_id       6737 non-null int64\n",
      "product        6737 non-null object\n",
      "quantity       6737 non-null int64\n",
      "price          6737 non-null float64\n",
      "dtypes: float64(1), int64(3), object(2)\n",
      "memory usage: 315.9+ KB\n"
     ]
    },
    {
     "data": {
      "text/plain": [
       "None"
      ]
     },
     "metadata": {},
     "output_type": "display_data"
    },
    {
     "data": {
      "text/plain": [
       "(6737, 6)"
      ]
     },
     "metadata": {},
     "output_type": "display_data"
    }
   ],
   "source": [
    "view(ecommerce)"
   ]
  },
  {
   "cell_type": "markdown",
   "metadata": {},
   "source": [
    "Файл содержит 6737 строк и 6 столбцов. Требуется предобработка данных, необъходимо привести столбец `date` к типу datetime. Пропусков в данных нет."
   ]
  },
  {
   "cell_type": "markdown",
   "metadata": {},
   "source": [
    "### <font color=Teal>[Предобработка данных](#Содержание) <a class=\"ancor\" id=\"2\"></a> \n",
    "    \n",
    "### <font color=Teal>[Приведение к общему виду и типу](#Содержание) <a class=\"ancor\" id=\"2.1\"></a> "
   ]
  },
  {
   "cell_type": "code",
   "execution_count": 6,
   "metadata": {},
   "outputs": [],
   "source": [
    "#переводим дату к формату datetime, но перед этим приводим к строковому виду lambda функцией\n",
    "ecommerce['date'] = ecommerce['date'].apply(lambda x: '{}'.format(x)) \n",
    "ecommerce['date'] = pd.to_datetime(ecommerce['date'],format='%Y%m%d%H')"
   ]
  },
  {
   "cell_type": "code",
   "execution_count": 7,
   "metadata": {},
   "outputs": [
    {
     "data": {
      "text/html": [
       "<div>\n",
       "<style scoped>\n",
       "    .dataframe tbody tr th:only-of-type {\n",
       "        vertical-align: middle;\n",
       "    }\n",
       "\n",
       "    .dataframe tbody tr th {\n",
       "        vertical-align: top;\n",
       "    }\n",
       "\n",
       "    .dataframe thead th {\n",
       "        text-align: right;\n",
       "    }\n",
       "</style>\n",
       "<table border=\"1\" class=\"dataframe\">\n",
       "  <thead>\n",
       "    <tr style=\"text-align: right;\">\n",
       "      <th></th>\n",
       "      <th>date</th>\n",
       "      <th>customer_id</th>\n",
       "      <th>order_id</th>\n",
       "      <th>product</th>\n",
       "      <th>quantity</th>\n",
       "      <th>price</th>\n",
       "    </tr>\n",
       "  </thead>\n",
       "  <tbody>\n",
       "    <tr>\n",
       "      <td>0</td>\n",
       "      <td>2018-10-01 00:00:00</td>\n",
       "      <td>ee47d746-6d2f-4d3c-9622-c31412542920</td>\n",
       "      <td>68477</td>\n",
       "      <td>Комнатное растение в горшке Алое Вера, d12, h30</td>\n",
       "      <td>1</td>\n",
       "      <td>142.0</td>\n",
       "    </tr>\n",
       "    <tr>\n",
       "      <td>1</td>\n",
       "      <td>2018-10-01 00:00:00</td>\n",
       "      <td>ee47d746-6d2f-4d3c-9622-c31412542920</td>\n",
       "      <td>68477</td>\n",
       "      <td>Комнатное растение в горшке Кофе Арабика, d12, h25</td>\n",
       "      <td>1</td>\n",
       "      <td>194.0</td>\n",
       "    </tr>\n",
       "    <tr>\n",
       "      <td>2</td>\n",
       "      <td>2018-10-01 00:00:00</td>\n",
       "      <td>ee47d746-6d2f-4d3c-9622-c31412542920</td>\n",
       "      <td>68477</td>\n",
       "      <td>Радермахера d-12 см h-20 см</td>\n",
       "      <td>1</td>\n",
       "      <td>112.0</td>\n",
       "    </tr>\n",
       "    <tr>\n",
       "      <td>3</td>\n",
       "      <td>2018-10-01 00:00:00</td>\n",
       "      <td>ee47d746-6d2f-4d3c-9622-c31412542920</td>\n",
       "      <td>68477</td>\n",
       "      <td>Хризолидокарпус Лутесценс d-9 см</td>\n",
       "      <td>1</td>\n",
       "      <td>179.0</td>\n",
       "    </tr>\n",
       "    <tr>\n",
       "      <td>4</td>\n",
       "      <td>2018-10-01 00:00:00</td>\n",
       "      <td>ee47d746-6d2f-4d3c-9622-c31412542920</td>\n",
       "      <td>68477</td>\n",
       "      <td>Циперус Зумула d-12 см h-25 см</td>\n",
       "      <td>1</td>\n",
       "      <td>112.0</td>\n",
       "    </tr>\n",
       "    <tr>\n",
       "      <td>6732</td>\n",
       "      <td>2019-10-31 11:00:00</td>\n",
       "      <td>73d1cd35-5e5f-4629-8cf2-3fda829d4e58</td>\n",
       "      <td>73156</td>\n",
       "      <td>Таз пластмассовый 40,0 л пищевой овальный (Иж), 1404094</td>\n",
       "      <td>1</td>\n",
       "      <td>404.0</td>\n",
       "    </tr>\n",
       "    <tr>\n",
       "      <td>6733</td>\n",
       "      <td>2019-10-31 12:00:00</td>\n",
       "      <td>1f0a7f35-7459-4f23-b468-5e45bf481dd1</td>\n",
       "      <td>73158</td>\n",
       "      <td>Сумка-тележка 2-х колесная Gimi Argo синяя</td>\n",
       "      <td>1</td>\n",
       "      <td>1087.0</td>\n",
       "    </tr>\n",
       "    <tr>\n",
       "      <td>6734</td>\n",
       "      <td>2019-10-31 13:00:00</td>\n",
       "      <td>25df96a7-c453-4708-9cea-a3dfc7c342ea</td>\n",
       "      <td>73162</td>\n",
       "      <td>Герань домашняя (пеларгония зональная) цветущая D12, H25-30, малиновая с красным, полумахровая</td>\n",
       "      <td>1</td>\n",
       "      <td>157.0</td>\n",
       "    </tr>\n",
       "    <tr>\n",
       "      <td>6735</td>\n",
       "      <td>2019-10-31 14:00:00</td>\n",
       "      <td>73d1cd35-5e5f-4629-8cf2-3fda829d4e58</td>\n",
       "      <td>73164</td>\n",
       "      <td>Таз пластмассовый со стиральной доской (Иж), 1404021</td>\n",
       "      <td>1</td>\n",
       "      <td>397.0</td>\n",
       "    </tr>\n",
       "    <tr>\n",
       "      <td>6736</td>\n",
       "      <td>2019-10-31 16:00:00</td>\n",
       "      <td>344aa778-e436-419e-a9c6-9b8f37b7c1df</td>\n",
       "      <td>73137</td>\n",
       "      <td>Сумка-тележка 2-х колесная Gimi Argo синяя</td>\n",
       "      <td>1</td>\n",
       "      <td>1087.0</td>\n",
       "    </tr>\n",
       "  </tbody>\n",
       "</table>\n",
       "</div>"
      ],
      "text/plain": [
       "                    date                           customer_id  order_id  \\\n",
       "0    2018-10-01 00:00:00  ee47d746-6d2f-4d3c-9622-c31412542920  68477      \n",
       "1    2018-10-01 00:00:00  ee47d746-6d2f-4d3c-9622-c31412542920  68477      \n",
       "2    2018-10-01 00:00:00  ee47d746-6d2f-4d3c-9622-c31412542920  68477      \n",
       "3    2018-10-01 00:00:00  ee47d746-6d2f-4d3c-9622-c31412542920  68477      \n",
       "4    2018-10-01 00:00:00  ee47d746-6d2f-4d3c-9622-c31412542920  68477      \n",
       "6732 2019-10-31 11:00:00  73d1cd35-5e5f-4629-8cf2-3fda829d4e58  73156      \n",
       "6733 2019-10-31 12:00:00  1f0a7f35-7459-4f23-b468-5e45bf481dd1  73158      \n",
       "6734 2019-10-31 13:00:00  25df96a7-c453-4708-9cea-a3dfc7c342ea  73162      \n",
       "6735 2019-10-31 14:00:00  73d1cd35-5e5f-4629-8cf2-3fda829d4e58  73164      \n",
       "6736 2019-10-31 16:00:00  344aa778-e436-419e-a9c6-9b8f37b7c1df  73137      \n",
       "\n",
       "                                                                                             product  \\\n",
       "0     Комнатное растение в горшке Алое Вера, d12, h30                                                  \n",
       "1     Комнатное растение в горшке Кофе Арабика, d12, h25                                               \n",
       "2     Радермахера d-12 см h-20 см                                                                      \n",
       "3     Хризолидокарпус Лутесценс d-9 см                                                                 \n",
       "4     Циперус Зумула d-12 см h-25 см                                                                   \n",
       "6732  Таз пластмассовый 40,0 л пищевой овальный (Иж), 1404094                                          \n",
       "6733  Сумка-тележка 2-х колесная Gimi Argo синяя                                                       \n",
       "6734  Герань домашняя (пеларгония зональная) цветущая D12, H25-30, малиновая с красным, полумахровая   \n",
       "6735  Таз пластмассовый со стиральной доской (Иж), 1404021                                             \n",
       "6736  Сумка-тележка 2-х колесная Gimi Argo синяя                                                       \n",
       "\n",
       "      quantity   price  \n",
       "0     1         142.0   \n",
       "1     1         194.0   \n",
       "2     1         112.0   \n",
       "3     1         179.0   \n",
       "4     1         112.0   \n",
       "6732  1         404.0   \n",
       "6733  1         1087.0  \n",
       "6734  1         157.0   \n",
       "6735  1         397.0   \n",
       "6736  1         1087.0  "
      ]
     },
     "metadata": {},
     "output_type": "display_data"
    },
    {
     "name": "stdout",
     "output_type": "stream",
     "text": [
      "<class 'pandas.core.frame.DataFrame'>\n",
      "RangeIndex: 6737 entries, 0 to 6736\n",
      "Data columns (total 6 columns):\n",
      "date           6737 non-null datetime64[ns]\n",
      "customer_id    6737 non-null object\n",
      "order_id       6737 non-null int64\n",
      "product        6737 non-null object\n",
      "quantity       6737 non-null int64\n",
      "price          6737 non-null float64\n",
      "dtypes: datetime64[ns](1), float64(1), int64(2), object(2)\n",
      "memory usage: 315.9+ KB\n"
     ]
    },
    {
     "data": {
      "text/plain": [
       "None"
      ]
     },
     "metadata": {},
     "output_type": "display_data"
    },
    {
     "data": {
      "text/plain": [
       "(6737, 6)"
      ]
     },
     "metadata": {},
     "output_type": "display_data"
    }
   ],
   "source": [
    "view(ecommerce)"
   ]
  },
  {
   "cell_type": "markdown",
   "metadata": {},
   "source": [
    "### <font color=Teal>[Обработка пропусков и дубликатов](#Содержание) <a class=\"ancor\" id=\"2.2\"></a> "
   ]
  },
  {
   "cell_type": "code",
   "execution_count": 8,
   "metadata": {},
   "outputs": [],
   "source": [
    "#функция проверки дубликатов. пропусков\n",
    "def preprocessing(h):\n",
    "    display(h.duplicated().sum())\n",
    "    display(h.isnull().sum())"
   ]
  },
  {
   "cell_type": "code",
   "execution_count": 9,
   "metadata": {},
   "outputs": [
    {
     "data": {
      "text/plain": [
       "0"
      ]
     },
     "metadata": {},
     "output_type": "display_data"
    },
    {
     "data": {
      "text/plain": [
       "date           0\n",
       "customer_id    0\n",
       "order_id       0\n",
       "product        0\n",
       "quantity       0\n",
       "price          0\n",
       "dtype: int64"
      ]
     },
     "metadata": {},
     "output_type": "display_data"
    }
   ],
   "source": [
    "preprocessing(ecommerce)"
   ]
  },
  {
   "cell_type": "code",
   "execution_count": 10,
   "metadata": {},
   "outputs": [
    {
     "data": {
      "text/plain": [
       "3718"
      ]
     },
     "execution_count": 10,
     "metadata": {},
     "output_type": "execute_result"
    }
   ],
   "source": [
    "ecommerce[['product','quantity','price']].duplicated().sum()"
   ]
  },
  {
   "cell_type": "markdown",
   "metadata": {},
   "source": [
    "- Пропусков в таблице нет\n",
    "- Дубликатов по всем строкам нет, но есть дубликаты по всем по столбцам `product,quantity,price`, что говорит о том, что товары повторяются в разных заказах и в разное время. Данные дубликаты необходимо сохранить и проверить на выбросы"
   ]
  },
  {
   "cell_type": "code",
   "execution_count": 11,
   "metadata": {},
   "outputs": [
    {
     "data": {
      "text/html": [
       "<div>\n",
       "<style scoped>\n",
       "    .dataframe tbody tr th:only-of-type {\n",
       "        vertical-align: middle;\n",
       "    }\n",
       "\n",
       "    .dataframe tbody tr th {\n",
       "        vertical-align: top;\n",
       "    }\n",
       "\n",
       "    .dataframe thead th {\n",
       "        text-align: right;\n",
       "    }\n",
       "</style>\n",
       "<table border=\"1\" class=\"dataframe\">\n",
       "  <thead>\n",
       "    <tr style=\"text-align: right;\">\n",
       "      <th></th>\n",
       "      <th></th>\n",
       "      <th></th>\n",
       "      <th>date</th>\n",
       "      <th>quantity</th>\n",
       "      <th>price</th>\n",
       "    </tr>\n",
       "    <tr>\n",
       "      <th>customer_id</th>\n",
       "      <th>order_id</th>\n",
       "      <th>product</th>\n",
       "      <th></th>\n",
       "      <th></th>\n",
       "      <th></th>\n",
       "    </tr>\n",
       "  </thead>\n",
       "  <tbody>\n",
       "    <tr>\n",
       "      <td rowspan=\"5\" valign=\"top\">1d6c8c1f-a799-4418-9af2-1ded47d7a85c</td>\n",
       "      <td rowspan=\"5\" valign=\"top\">14833</td>\n",
       "      <td>Рассада Огурца сорт Каролина кассета 6 шт E6</td>\n",
       "      <td>74</td>\n",
       "      <td>74</td>\n",
       "      <td>74</td>\n",
       "    </tr>\n",
       "    <tr>\n",
       "      <td>Рассада Кабачка сорт Аэронавт, кассета по 6шт</td>\n",
       "      <td>74</td>\n",
       "      <td>74</td>\n",
       "      <td>74</td>\n",
       "    </tr>\n",
       "    <tr>\n",
       "      <td>Тагетис крупноцветковый рассада однолетних цветов в кассете по 10 шт</td>\n",
       "      <td>74</td>\n",
       "      <td>74</td>\n",
       "      <td>74</td>\n",
       "    </tr>\n",
       "    <tr>\n",
       "      <td>Рассада Огурец Фараон ячейки по 6 шт Е6</td>\n",
       "      <td>74</td>\n",
       "      <td>74</td>\n",
       "      <td>74</td>\n",
       "    </tr>\n",
       "    <tr>\n",
       "      <td>Рассада Огурец Кристина ячейки по 6 шт Е6</td>\n",
       "      <td>74</td>\n",
       "      <td>74</td>\n",
       "      <td>74</td>\n",
       "    </tr>\n",
       "  </tbody>\n",
       "</table>\n",
       "</div>"
      ],
      "text/plain": [
       "                                                                                                                    date  \\\n",
       "customer_id                          order_id product                                                                      \n",
       "1d6c8c1f-a799-4418-9af2-1ded47d7a85c 14833    Рассада Огурца сорт Каролина кассета 6 шт E6                          74     \n",
       "                                              Рассада Кабачка сорт Аэронавт, кассета по 6шт                         74     \n",
       "                                              Тагетис крупноцветковый рассада однолетних цветов в кассете по 10 шт  74     \n",
       "                                              Рассада Огурец Фараон ячейки по 6 шт Е6                               74     \n",
       "                                              Рассада Огурец Кристина ячейки по 6 шт Е6                             74     \n",
       "\n",
       "                                                                                                                    quantity  \\\n",
       "customer_id                          order_id product                                                                          \n",
       "1d6c8c1f-a799-4418-9af2-1ded47d7a85c 14833    Рассада Огурца сорт Каролина кассета 6 шт E6                          74         \n",
       "                                              Рассада Кабачка сорт Аэронавт, кассета по 6шт                         74         \n",
       "                                              Тагетис крупноцветковый рассада однолетних цветов в кассете по 10 шт  74         \n",
       "                                              Рассада Огурец Фараон ячейки по 6 шт Е6                               74         \n",
       "                                              Рассада Огурец Кристина ячейки по 6 шт Е6                             74         \n",
       "\n",
       "                                                                                                                    price  \n",
       "customer_id                          order_id product                                                                      \n",
       "1d6c8c1f-a799-4418-9af2-1ded47d7a85c 14833    Рассада Огурца сорт Каролина кассета 6 шт E6                          74     \n",
       "                                              Рассада Кабачка сорт Аэронавт, кассета по 6шт                         74     \n",
       "                                              Тагетис крупноцветковый рассада однолетних цветов в кассете по 10 шт  74     \n",
       "                                              Рассада Огурец Фараон ячейки по 6 шт Е6                               74     \n",
       "                                              Рассада Огурец Кристина ячейки по 6 шт Е6                             74     "
      ]
     },
     "execution_count": 11,
     "metadata": {},
     "output_type": "execute_result"
    }
   ],
   "source": [
    "ecommerce.groupby(['customer_id', 'order_id', 'product']).count().sort_values('date', ascending=False).head()"
   ]
  },
  {
   "cell_type": "code",
   "execution_count": 12,
   "metadata": {},
   "outputs": [
    {
     "data": {
      "text/plain": [
       "1886"
      ]
     },
     "execution_count": 12,
     "metadata": {},
     "output_type": "execute_result"
    }
   ],
   "source": [
    "ecommerce[['customer_id', 'order_id', 'product']].duplicated().sum()"
   ]
  },
  {
   "cell_type": "code",
   "execution_count": 13,
   "metadata": {},
   "outputs": [
    {
     "data": {
      "text/plain": [
       "6737"
      ]
     },
     "execution_count": 13,
     "metadata": {},
     "output_type": "execute_result"
    }
   ],
   "source": [
    "len(ecommerce)"
   ]
  },
  {
   "cell_type": "code",
   "execution_count": 14,
   "metadata": {},
   "outputs": [
    {
     "data": {
      "text/plain": [
       "4851"
      ]
     },
     "execution_count": 14,
     "metadata": {},
     "output_type": "execute_result"
    }
   ],
   "source": [
    "len(ecommerce) - ecommerce[['customer_id', 'order_id', 'product']].duplicated().sum()"
   ]
  },
  {
   "cell_type": "code",
   "execution_count": 15,
   "metadata": {},
   "outputs": [],
   "source": [
    "ecommerce = ecommerce.drop_duplicates(subset=['customer_id', 'order_id', 'product']).reset_index(drop= True)"
   ]
  },
  {
   "cell_type": "markdown",
   "metadata": {},
   "source": [
    "Использовали параметр `subset` метода `drop_duplicates` для удаление дубликатов по столбцам в связи с задвоением статуса заказа.  "
   ]
  },
  {
   "cell_type": "markdown",
   "metadata": {},
   "source": [
    "### <font color=Teal>[Поиск и обработка выбросов](#Содержание) <a class=\"ancor\" id=\"2.3\"></a>"
   ]
  },
  {
   "cell_type": "code",
   "execution_count": 16,
   "metadata": {},
   "outputs": [
    {
     "data": {
      "text/plain": [
       "1000"
      ]
     },
     "execution_count": 16,
     "metadata": {},
     "output_type": "execute_result"
    }
   ],
   "source": [
    "ecommerce['quantity'].max()"
   ]
  },
  {
   "cell_type": "code",
   "execution_count": 17,
   "metadata": {},
   "outputs": [
    {
     "data": {
      "text/plain": [
       "1"
      ]
     },
     "execution_count": 17,
     "metadata": {},
     "output_type": "execute_result"
    }
   ],
   "source": [
    "ecommerce['quantity'].min()"
   ]
  },
  {
   "cell_type": "code",
   "execution_count": 18,
   "metadata": {},
   "outputs": [
    {
     "data": {
      "text/plain": [
       "<matplotlib.axes._subplots.AxesSubplot at 0xb8cf2c8>"
      ]
     },
     "execution_count": 18,
     "metadata": {},
     "output_type": "execute_result"
    },
    {
     "data": {
      "image/png": "[encoded data removed]",
      "text/plain": [
       "<Figure size 432x288 with 1 Axes>"
      ]
     },
     "metadata": {
      "needs_background": "light"
     },
     "output_type": "display_data"
    }
   ],
   "source": [
    "ecommerce.query('quantity>1')['quantity'].hist(bins=100,range=(0,200))"
   ]
  },
  {
   "cell_type": "markdown",
   "metadata": {},
   "source": [
    "Наблюдается сильно скошенное распределние по количеству заказов"
   ]
  },
  {
   "cell_type": "code",
   "execution_count": 19,
   "metadata": {},
   "outputs": [
    {
     "data": {
      "text/plain": [
       "1       3808\n",
       "2       428 \n",
       "3       140 \n",
       "4       101 \n",
       "10      71  \n",
       "5       67  \n",
       "6       42  \n",
       "15      23  \n",
       "7       22  \n",
       "30      17  \n",
       "20      16  \n",
       "25      15  \n",
       "8       14  \n",
       "12      12  \n",
       "50      8   \n",
       "9       7   \n",
       "40      6   \n",
       "13      5   \n",
       "11      5   \n",
       "100     4   \n",
       "16      4   \n",
       "24      3   \n",
       "150     3   \n",
       "14      2   \n",
       "64      2   \n",
       "27      2   \n",
       "60      2   \n",
       "96      1   \n",
       "140     1   \n",
       "200     1   \n",
       "80      1   \n",
       "300     1   \n",
       "1000    1   \n",
       "59      1   \n",
       "17      1   \n",
       "29      1   \n",
       "37      1   \n",
       "43      1   \n",
       "57      1   \n",
       "65      1   \n",
       "18      1   \n",
       "22      1   \n",
       "26      1   \n",
       "70      1   \n",
       "170     1   \n",
       "334     1   \n",
       "23      1   \n",
       "31      1   \n",
       "45      1   \n",
       "Name: quantity, dtype: int64"
      ]
     },
     "execution_count": 19,
     "metadata": {},
     "output_type": "execute_result"
    }
   ],
   "source": [
    "ecommerce['quantity'].value_counts()"
   ]
  },
  {
   "cell_type": "markdown",
   "metadata": {},
   "source": [
    "Большинство товаров в каждом заказе от 1 до 4 шт по столбцу `quantity`"
   ]
  },
  {
   "cell_type": "code",
   "execution_count": 20,
   "metadata": {},
   "outputs": [
    {
     "data": {
      "text/plain": [
       "4477"
      ]
     },
     "execution_count": 20,
     "metadata": {},
     "output_type": "execute_result"
    }
   ],
   "source": [
    "ecommerce['quantity'].value_counts()[0:4].sum()"
   ]
  },
  {
   "cell_type": "code",
   "execution_count": 21,
   "metadata": {},
   "outputs": [
    {
     "data": {
      "text/plain": [
       "0.9229024943310657"
      ]
     },
     "execution_count": 21,
     "metadata": {},
     "output_type": "execute_result"
    }
   ],
   "source": [
    "ecommerce['quantity'].value_counts()[0:4].sum() / ecommerce['quantity'].value_counts().sum()"
   ]
  },
  {
   "cell_type": "markdown",
   "metadata": {},
   "source": [
    "92,3% товаров в таблице заказывают от 1 до 4 шт в одном заказе, что выглядит в целом нормально. Таким образом, нам необходимо проверить на наличие выбросов товары, которые заказывают 5 и более раз, а также для таких товаров проверить `price`"
   ]
  },
  {
   "cell_type": "code",
   "execution_count": 22,
   "metadata": {},
   "outputs": [
    {
     "data": {
      "text/html": [
       "<div>\n",
       "<style scoped>\n",
       "    .dataframe tbody tr th:only-of-type {\n",
       "        vertical-align: middle;\n",
       "    }\n",
       "\n",
       "    .dataframe tbody tr th {\n",
       "        vertical-align: top;\n",
       "    }\n",
       "\n",
       "    .dataframe thead tr th {\n",
       "        text-align: left;\n",
       "    }\n",
       "</style>\n",
       "<table border=\"1\" class=\"dataframe\">\n",
       "  <thead>\n",
       "    <tr>\n",
       "      <th></th>\n",
       "      <th>order_id</th>\n",
       "      <th>product</th>\n",
       "      <th colspan=\"2\" halign=\"left\">quantity</th>\n",
       "      <th colspan=\"2\" halign=\"left\">price</th>\n",
       "    </tr>\n",
       "    <tr>\n",
       "      <th></th>\n",
       "      <th></th>\n",
       "      <th></th>\n",
       "      <th>sum</th>\n",
       "      <th>min</th>\n",
       "      <th>sum</th>\n",
       "      <th>min</th>\n",
       "    </tr>\n",
       "  </thead>\n",
       "  <tbody>\n",
       "    <tr>\n",
       "      <td>0</td>\n",
       "      <td>14552</td>\n",
       "      <td>Примула комнатная D9 см цвет в ассортименте</td>\n",
       "      <td>15</td>\n",
       "      <td>15</td>\n",
       "      <td>98.0</td>\n",
       "      <td>98.0</td>\n",
       "    </tr>\n",
       "    <tr>\n",
       "      <td>1</td>\n",
       "      <td>14595</td>\n",
       "      <td>Цинния Ацтек бургунди биколор 10 шт 4650091480739</td>\n",
       "      <td>7</td>\n",
       "      <td>7</td>\n",
       "      <td>21.0</td>\n",
       "      <td>21.0</td>\n",
       "    </tr>\n",
       "    <tr>\n",
       "      <td>2</td>\n",
       "      <td>14601</td>\n",
       "      <td>Пеларгония розебудная Margaretha укорененный черенок</td>\n",
       "      <td>10</td>\n",
       "      <td>10</td>\n",
       "      <td>135.0</td>\n",
       "      <td>135.0</td>\n",
       "    </tr>\n",
       "    <tr>\n",
       "      <td>3</td>\n",
       "      <td>14606</td>\n",
       "      <td>Пеларгония розебудная Red Pandora укорененный черенок</td>\n",
       "      <td>9</td>\n",
       "      <td>9</td>\n",
       "      <td>135.0</td>\n",
       "      <td>135.0</td>\n",
       "    </tr>\n",
       "    <tr>\n",
       "      <td>4</td>\n",
       "      <td>14611</td>\n",
       "      <td>Рассада томата (помидор) Иоген № 77 сорт детерминантный среднеспелый красный</td>\n",
       "      <td>5</td>\n",
       "      <td>5</td>\n",
       "      <td>38.0</td>\n",
       "      <td>38.0</td>\n",
       "    </tr>\n",
       "    <tr>\n",
       "      <td>5</td>\n",
       "      <td>14611</td>\n",
       "      <td>Рассада томата (помидор) Ола Полка № 96 сорт детерминантный раннеспелый оранжевый</td>\n",
       "      <td>5</td>\n",
       "      <td>5</td>\n",
       "      <td>38.0</td>\n",
       "      <td>38.0</td>\n",
       "    </tr>\n",
       "    <tr>\n",
       "      <td>6</td>\n",
       "      <td>14611</td>\n",
       "      <td>Рассада томата (помидор) Шаймет криг № 117 сорт детерминантный раннеспелый красный</td>\n",
       "      <td>10</td>\n",
       "      <td>10</td>\n",
       "      <td>38.0</td>\n",
       "      <td>38.0</td>\n",
       "    </tr>\n",
       "    <tr>\n",
       "      <td>7</td>\n",
       "      <td>14611</td>\n",
       "      <td>Рассада томата (помидор) Эфемер № 121 сорт детерминантный раннеспелый красный</td>\n",
       "      <td>10</td>\n",
       "      <td>10</td>\n",
       "      <td>38.0</td>\n",
       "      <td>38.0</td>\n",
       "    </tr>\n",
       "    <tr>\n",
       "      <td>8</td>\n",
       "      <td>14645</td>\n",
       "      <td>Циния рассада однолетних цветов в кассете по 6 шт</td>\n",
       "      <td>8</td>\n",
       "      <td>8</td>\n",
       "      <td>128.0</td>\n",
       "      <td>128.0</td>\n",
       "    </tr>\n",
       "    <tr>\n",
       "      <td>9</td>\n",
       "      <td>14666</td>\n",
       "      <td>Пеларгония зональная диам. 12 см красная махровая</td>\n",
       "      <td>18</td>\n",
       "      <td>18</td>\n",
       "      <td>150.0</td>\n",
       "      <td>150.0</td>\n",
       "    </tr>\n",
       "  </tbody>\n",
       "</table>\n",
       "</div>"
      ],
      "text/plain": [
       "  order_id  \\\n",
       "             \n",
       "0  14552     \n",
       "1  14595     \n",
       "2  14601     \n",
       "3  14606     \n",
       "4  14611     \n",
       "5  14611     \n",
       "6  14611     \n",
       "7  14611     \n",
       "8  14645     \n",
       "9  14666     \n",
       "\n",
       "                                                                              product  \\\n",
       "                                                                                        \n",
       "0  Примула комнатная D9 см цвет в ассортименте                                          \n",
       "1  Цинния Ацтек бургунди биколор 10 шт 4650091480739                                    \n",
       "2  Пеларгония розебудная Margaretha укорененный черенок                                 \n",
       "3  Пеларгония розебудная Red Pandora укорененный черенок                                \n",
       "4  Рассада томата (помидор) Иоген № 77 сорт детерминантный среднеспелый красный         \n",
       "5  Рассада томата (помидор) Ола Полка № 96 сорт детерминантный раннеспелый оранжевый    \n",
       "6  Рассада томата (помидор) Шаймет криг № 117 сорт детерминантный раннеспелый красный   \n",
       "7  Рассада томата (помидор) Эфемер № 121 сорт детерминантный раннеспелый красный        \n",
       "8  Циния рассада однолетних цветов в кассете по 6 шт                                    \n",
       "9  Пеларгония зональная диам. 12 см красная махровая                                    \n",
       "\n",
       "  quantity      price         \n",
       "       sum min    sum    min  \n",
       "0  15       15  98.0   98.0   \n",
       "1  7        7   21.0   21.0   \n",
       "2  10       10  135.0  135.0  \n",
       "3  9        9   135.0  135.0  \n",
       "4  5        5   38.0   38.0   \n",
       "5  5        5   38.0   38.0   \n",
       "6  10       10  38.0   38.0   \n",
       "7  10       10  38.0   38.0   \n",
       "8  8        8   128.0  128.0  \n",
       "9  18       18  150.0  150.0  "
      ]
     },
     "execution_count": 22,
     "metadata": {},
     "output_type": "execute_result"
    }
   ],
   "source": [
    "quantity_max = ecommerce.query('quantity>4').groupby(['order_id','product'])\\\n",
    "                                            .agg({'quantity':['sum','min'],'price':['sum','min']})\\\n",
    "                                            .reset_index()\n",
    "quantity_max.head(10)"
   ]
  },
  {
   "cell_type": "markdown",
   "metadata": {},
   "source": [
    "Мы видим, что в целом, для каждого заказа и продукта минимальное количества заказа и его сумма одинаковая, аналогично с ценой, что говорит о том, то клиент заказал конкретное количество товара по определенной цене. Но возникает вопрос на примере строки 3 и заказа `14601`, мы видим, что в заказе произошло задвоение, то есть внутри заказа задвоилось количество и соответсвенно цена, по каким то причинам, клиент два раза заказал по 10 шт, в правильном заказе минимальное количество и сумма количества одно и то же число, и для подсчета суммы всего заказа по данному продукту перемножаются столбцы `quantity` и `price`. "
   ]
  },
  {
   "cell_type": "code",
   "execution_count": 23,
   "metadata": {},
   "outputs": [
    {
     "data": {
      "text/html": [
       "<div>\n",
       "<style scoped>\n",
       "    .dataframe tbody tr th:only-of-type {\n",
       "        vertical-align: middle;\n",
       "    }\n",
       "\n",
       "    .dataframe tbody tr th {\n",
       "        vertical-align: top;\n",
       "    }\n",
       "\n",
       "    .dataframe thead th {\n",
       "        text-align: right;\n",
       "    }\n",
       "</style>\n",
       "<table border=\"1\" class=\"dataframe\">\n",
       "  <thead>\n",
       "    <tr style=\"text-align: right;\">\n",
       "      <th></th>\n",
       "      <th>order_id</th>\n",
       "      <th>product</th>\n",
       "      <th>sum_quantity</th>\n",
       "      <th>min_quantity</th>\n",
       "      <th>sum_price</th>\n",
       "      <th>min_price</th>\n",
       "    </tr>\n",
       "  </thead>\n",
       "  <tbody>\n",
       "    <tr>\n",
       "      <td>152</td>\n",
       "      <td>69310</td>\n",
       "      <td>Муляж Груша желтый 9,5 см полиуретан</td>\n",
       "      <td>14</td>\n",
       "      <td>7</td>\n",
       "      <td>118.0</td>\n",
       "      <td>59.0</td>\n",
       "    </tr>\n",
       "    <tr>\n",
       "      <td>193</td>\n",
       "      <td>70114</td>\n",
       "      <td>Вешалка-плечики без эссенции цвет тёмно-розовый FWM-002/Quartz pink</td>\n",
       "      <td>60</td>\n",
       "      <td>30</td>\n",
       "      <td>80.0</td>\n",
       "      <td>40.0</td>\n",
       "    </tr>\n",
       "    <tr>\n",
       "      <td>260</td>\n",
       "      <td>71054</td>\n",
       "      <td>Вешалка-плечики без эссенции цвет тёмно-розовый FWM/L-Pink</td>\n",
       "      <td>20</td>\n",
       "      <td>10</td>\n",
       "      <td>86.0</td>\n",
       "      <td>43.0</td>\n",
       "    </tr>\n",
       "    <tr>\n",
       "      <td>353</td>\n",
       "      <td>72845</td>\n",
       "      <td>Муляж Яблоко зеленый 9 см полиуретан</td>\n",
       "      <td>160</td>\n",
       "      <td>40</td>\n",
       "      <td>236.0</td>\n",
       "      <td>59.0</td>\n",
       "    </tr>\n",
       "  </tbody>\n",
       "</table>\n",
       "</div>"
      ],
      "text/plain": [
       "     order_id  \\\n",
       "152  69310      \n",
       "193  70114      \n",
       "260  71054      \n",
       "353  72845      \n",
       "\n",
       "                                                                 product  \\\n",
       "152  Муляж Груша желтый 9,5 см полиуретан                                  \n",
       "193  Вешалка-плечики без эссенции цвет тёмно-розовый FWM-002/Quartz pink   \n",
       "260  Вешалка-плечики без эссенции цвет тёмно-розовый FWM/L-Pink            \n",
       "353  Муляж Яблоко зеленый 9 см полиуретан                                  \n",
       "\n",
       "     sum_quantity  min_quantity  sum_price  min_price  \n",
       "152  14            7             118.0      59.0       \n",
       "193  60            30            80.0       40.0       \n",
       "260  20            10            86.0       43.0       \n",
       "353  160           40            236.0      59.0       "
      ]
     },
     "execution_count": 23,
     "metadata": {},
     "output_type": "execute_result"
    }
   ],
   "source": [
    "quantity_max.columns = ['order_id','product','sum_quantity','min_quantity','sum_price','min_price']\n",
    "quantity_max.query('sum_quantity > min_quantity')"
   ]
  },
  {
   "cell_type": "markdown",
   "metadata": {},
   "source": [
    "В данном случае, дубликаты - это правильные заказы, таким образом, остальные - выбросы"
   ]
  },
  {
   "cell_type": "code",
   "execution_count": 24,
   "metadata": {},
   "outputs": [
    {
     "data": {
      "text/plain": [
       "4"
      ]
     },
     "execution_count": 24,
     "metadata": {},
     "output_type": "execute_result"
    }
   ],
   "source": [
    "quantity_max.query('sum_quantity > min_quantity')['order_id'].count()"
   ]
  },
  {
   "cell_type": "code",
   "execution_count": 25,
   "metadata": {},
   "outputs": [
    {
     "data": {
      "text/plain": [
       "4"
      ]
     },
     "execution_count": 25,
     "metadata": {},
     "output_type": "execute_result"
    }
   ],
   "source": [
    "quantity_max.query('sum_price> min_price')['order_id'].count()"
   ]
  },
  {
   "cell_type": "code",
   "execution_count": 26,
   "metadata": {},
   "outputs": [
    {
     "data": {
      "text/plain": [
       "4"
      ]
     },
     "execution_count": 26,
     "metadata": {},
     "output_type": "execute_result"
    }
   ],
   "source": [
    "quantity_max = quantity_max.query('sum_quantity > min_quantity')\n",
    "quantity_max['order_id'].nunique()"
   ]
  },
  {
   "cell_type": "code",
   "execution_count": 27,
   "metadata": {},
   "outputs": [
    {
     "data": {
      "text/plain": [
       "0.0014367816091954023"
      ]
     },
     "execution_count": 27,
     "metadata": {},
     "output_type": "execute_result"
    }
   ],
   "source": [
    "quantity_max['order_id'].nunique() / ecommerce['order_id'].nunique()"
   ]
  },
  {
   "cell_type": "markdown",
   "metadata": {},
   "source": [
    "4 заказа, это меньше 0,2% заказов от всех заказов в таблице `ecommerce`, целесообразно их удалить. "
   ]
  },
  {
   "cell_type": "code",
   "execution_count": 28,
   "metadata": {},
   "outputs": [
    {
     "data": {
      "text/plain": [
       "10"
      ]
     },
     "execution_count": 28,
     "metadata": {},
     "output_type": "execute_result"
    }
   ],
   "source": [
    "reset = pd.Series(quantity_max['order_id']).to_list()\n",
    "len(ecommerce) - len(ecommerce.query('order_id != @reset'))"
   ]
  },
  {
   "cell_type": "markdown",
   "metadata": {},
   "source": [
    "Перевели список заказов выбросов в переменную `reset` и посчитали разницу длины без этих заказов, в итоге удаляем 10 строк"
   ]
  },
  {
   "cell_type": "code",
   "execution_count": 29,
   "metadata": {},
   "outputs": [
    {
     "data": {
      "text/plain": [
       "0.0020614306328592042"
      ]
     },
     "execution_count": 29,
     "metadata": {},
     "output_type": "execute_result"
    }
   ],
   "source": [
    "(len(ecommerce) - len(ecommerce.query('order_id != @reset'))) / len(ecommerce)"
   ]
  },
  {
   "cell_type": "markdown",
   "metadata": {},
   "source": [
    "Мы удалили незначительное количетсво строк в таблице"
   ]
  },
  {
   "cell_type": "code",
   "execution_count": 30,
   "metadata": {},
   "outputs": [
    {
     "data": {
      "text/plain": [
       "2503425.0"
      ]
     },
     "metadata": {},
     "output_type": "display_data"
    },
    {
     "data": {
      "text/plain": [
       "2502905.0"
      ]
     },
     "metadata": {},
     "output_type": "display_data"
    },
    {
     "data": {
      "text/plain": [
       "520.0"
      ]
     },
     "metadata": {},
     "output_type": "display_data"
    }
   ],
   "source": [
    "display(ecommerce['price'].sum(),ecommerce.query('order_id != @reset')['price'].sum())\n",
    "display(ecommerce['price'].sum()- ecommerce.query('order_id != @reset')['price'].sum())"
   ]
  },
  {
   "cell_type": "code",
   "execution_count": 31,
   "metadata": {},
   "outputs": [],
   "source": [
    "ecommerce_new = ecommerce.query('order_id != @reset')"
   ]
  },
  {
   "cell_type": "markdown",
   "metadata": {},
   "source": [
    "По цене избежали лишних искажений, сохраняем данные с учетом обработки выбросов. Данные подготовлены к дальнейшему анализу"
   ]
  },
  {
   "cell_type": "markdown",
   "metadata": {},
   "source": [
    "### <font color=Teal>[Исследовательский анализ данных](#Содержание) <a class=\"ancor\" id=\"3\"></a> \n",
    "\n",
    "### <font color=Teal>[Распределение данных и их структура](#Содержание) <a class=\"ancor\" id=\"3.1\"></a> "
   ]
  },
  {
   "cell_type": "code",
   "execution_count": 32,
   "metadata": {},
   "outputs": [
    {
     "data": {
      "text/plain": [
       "Timestamp('2019-10-31 14:00:00')"
      ]
     },
     "metadata": {},
     "output_type": "display_data"
    },
    {
     "data": {
      "text/plain": [
       "Timestamp('2018-10-01 00:00:00')"
      ]
     },
     "metadata": {},
     "output_type": "display_data"
    }
   ],
   "source": [
    "display(ecommerce_new['date'].max(),ecommerce_new['date'].min())"
   ]
  },
  {
   "cell_type": "markdown",
   "metadata": {},
   "source": [
    "Наши данные за период с 1 октября 2018 по 31 октября 2019 года, то есть данные за 13 месяцев"
   ]
  },
  {
   "cell_type": "code",
   "execution_count": 33,
   "metadata": {},
   "outputs": [],
   "source": [
    "order_top5 = ecommerce_new.groupby(['order_id'])\\\n",
    "                       .agg({'product':'nunique'})\\\n",
    "                       .sort_values('product',ascending=False)\\\n",
    "                       .reset_index()\\\n",
    "                       .head(5)\n",
    "order_top5 = pd.Series(order_top5['order_id']).to_list()\n",
    "\n",
    "top5 = ecommerce.query('order_id == @order_top5')"
   ]
  },
  {
   "cell_type": "markdown",
   "metadata": {},
   "source": [
    "Сгруппировали данные и нашли самые большие по количеству продуктов заказы, сохранили в переменную `top5`"
   ]
  },
  {
   "cell_type": "code",
   "execution_count": 34,
   "metadata": {},
   "outputs": [
    {
     "data": {
      "text/html": [
       "<div>\n",
       "<style scoped>\n",
       "    .dataframe tbody tr th:only-of-type {\n",
       "        vertical-align: middle;\n",
       "    }\n",
       "\n",
       "    .dataframe tbody tr th {\n",
       "        vertical-align: top;\n",
       "    }\n",
       "\n",
       "    .dataframe thead th {\n",
       "        text-align: right;\n",
       "    }\n",
       "</style>\n",
       "<table border=\"1\" class=\"dataframe\">\n",
       "  <thead>\n",
       "    <tr style=\"text-align: right;\">\n",
       "      <th></th>\n",
       "      <th></th>\n",
       "      <th>sum</th>\n",
       "      <th>product</th>\n",
       "    </tr>\n",
       "    <tr>\n",
       "      <th>customer_id</th>\n",
       "      <th>order_id</th>\n",
       "      <th></th>\n",
       "      <th></th>\n",
       "    </tr>\n",
       "  </thead>\n",
       "  <tbody>\n",
       "    <tr>\n",
       "      <td>d3b9ffea-d143-4747-8d59-74ab843d1ad6</td>\n",
       "      <td>14698</td>\n",
       "      <td>2922.0</td>\n",
       "      <td>51</td>\n",
       "    </tr>\n",
       "    <tr>\n",
       "      <td>760aa067-90c3-4794-b7a9-a8831197388b</td>\n",
       "      <td>14715</td>\n",
       "      <td>4558.0</td>\n",
       "      <td>36</td>\n",
       "    </tr>\n",
       "    <tr>\n",
       "      <td>2a0acc09-e343-4f92-b5c0-f598ef2b07d4</td>\n",
       "      <td>14688</td>\n",
       "      <td>2280.0</td>\n",
       "      <td>31</td>\n",
       "    </tr>\n",
       "    <tr>\n",
       "      <td>3d5fef90-4a65-4a7e-84cf-010eba7b038d</td>\n",
       "      <td>14753</td>\n",
       "      <td>1210.0</td>\n",
       "      <td>30</td>\n",
       "    </tr>\n",
       "    <tr>\n",
       "      <td>603e92a4-fc7f-4203-9ca5-103da5b008ac</td>\n",
       "      <td>14705</td>\n",
       "      <td>3776.0</td>\n",
       "      <td>29</td>\n",
       "    </tr>\n",
       "  </tbody>\n",
       "</table>\n",
       "</div>"
      ],
      "text/plain": [
       "                                                  sum  product\n",
       "customer_id                          order_id                 \n",
       "d3b9ffea-d143-4747-8d59-74ab843d1ad6 14698     2922.0  51     \n",
       "760aa067-90c3-4794-b7a9-a8831197388b 14715     4558.0  36     \n",
       "2a0acc09-e343-4f92-b5c0-f598ef2b07d4 14688     2280.0  31     \n",
       "3d5fef90-4a65-4a7e-84cf-010eba7b038d 14753     1210.0  30     \n",
       "603e92a4-fc7f-4203-9ca5-103da5b008ac 14705     3776.0  29     "
      ]
     },
     "execution_count": 34,
     "metadata": {},
     "output_type": "execute_result"
    }
   ],
   "source": [
    "top5['sum'] = top5['quantity'] * top5['price']\n",
    "\n",
    "top5.groupby(['customer_id','order_id']).agg({'sum':'sum','product':'nunique'}).sort_values('product',ascending=False)"
   ]
  },
  {
   "cell_type": "code",
   "execution_count": 35,
   "metadata": {},
   "outputs": [
    {
     "data": {
      "text/plain": [
       "2732    Земляника садовая Хоней d-9 см P9                                                                 \n",
       "2733    Колокольчик персиколистный белый объем 0,5 л                                                      \n",
       "2734    Пиретрум Робинсон красный объем 1 л                                                               \n",
       "2735    Рассада зелени для кухни Лаванда Блю Райдер диам. 9 см                                            \n",
       "2736    Рассада зелени для кухни Лаванда Прованc диам. 9 см                                               \n",
       "2737    Рассада зелени для кухни Лаванды в горшке диам. 9 см                                              \n",
       "2738    Рассада зелени для кухни Розмарина в горшке диам. 9 см                                            \n",
       "2739    Рассада клубники Зенга Зенгана в кассете по E6                                                    \n",
       "2740    Рассада клубники Зенга Зенгана горшок 9х9 см P9                                                   \n",
       "2741    томата (помидор) \"Золотая канарейка\" №32 сорт индетерминантный среднеспелый желтый                \n",
       "2742    томата (помидор) Абрикос №1 сорт индетерминантный среднеспелый красный                            \n",
       "2743    томата (помидор) Абрикосовый брендивайн №2 сорт индетерминантный среднеспелый оранжевый           \n",
       "2744    томата (помидор) Абруццо № 3 сорт индетерминантный среднеспелый красный                           \n",
       "2745    томата (помидор) Большая желтая зебра №10 сорт индетерминантный среднеспелый желтый               \n",
       "2746    томата (помидор) Большой оранжевый №11 сорт индетерминантный среднеспелый оранжевый               \n",
       "2747    томата (помидор) Большой полосатый кабан №12 сорт индетерминантный среднеспелый красный           \n",
       "2748    томата (помидор) Вернисаж черный №17 сорт индетерминантный раннеспелый черный                     \n",
       "2749    томата (помидор) Голубой ручей №23 сорт индетерминантный среднеспелый синий                       \n",
       "2750    томата (помидор) Графити № 40 сорт индетерминантный раннеспелый красный                           \n",
       "2751    томата (помидор) Грейпфрут № 43 сорт индетерминантный среднеспелый оранжевый                      \n",
       "2752    томата (помидор) Земляника оранжевая №31 сорт индетерминантный среднеспелый оранжевый             \n",
       "2753    томата (помидор) Исуповский №37 сорт индетерминантный среднеспелый красный                        \n",
       "2754    томата (помидор) К 25-56 № 78 сорт детерминантный среднеспелый черный                             \n",
       "2755    томата (помидор) Король красоты №46 сорт индетерминантный среднеспелый оранжевый                  \n",
       "2756    томата (помидор) Красный пушистый кабан №47 сорт детерминантный среднеспелый красный              \n",
       "2757    томата (помидор) Кумато №49 сорт детерминантный среднеспелый черный                               \n",
       "2758    томата (помидор) Медовый № 93 сорт индетерминантный позднеспелый розовый                          \n",
       "2759    томата (помидор) Минусинские № 94 сорт индетерминантный среднеспелый розовый                      \n",
       "2760    томата (помидор) Мохнатый кейт №55 сорт детерминантный среднеспелый синий                         \n",
       "2761    томата (помидор) Мэризол Мэджик № 95 сорт индетерминантный среднеспелый оранжевый                 \n",
       "2762    томата (помидор) Оранжевый русский № 97 сорт индетерминантный среднеспелый оранжевый              \n",
       "2763    томата (помидор) Оранжевый с фиолетовыми пятнами № 98 сорт индетерминантный среднеспелый оранжевый\n",
       "2764    томата (помидор) Полосатый шоколад №65 сорт индетерминантный среднеспелый черный                  \n",
       "2765    томата (помидор) Примари колорз №67 сорт детерминантный среднеспелый черный                       \n",
       "2766    томата (помидор) Пурпурная страсть № 101 сорт индетерминантный среднеспелый черный                \n",
       "2767    томата (помидор) Роджеро № 104 сорт индетерминантный среднеспелый красный                         \n",
       "2768    томата (помидор) Розовый мохнатый кабан № 105 сорт индетерминантный среднеспелый розовый          \n",
       "2769    томата (помидор) Синий тигр №75 сорт индетерминантный среднеспелый синий                          \n",
       "2770    томата (помидор) Сладкий Касади №76 сорт индетерминантный среднеспелый оранжевый                  \n",
       "2771    томата (помидор) Спящая леди № 108 сорт детерминантный среднеспелый черный                        \n",
       "2772    томата (помидор) Танцы со смурфиками № 111 сорт индетерминантный раннеспелый черный               \n",
       "2773    томата (помидор) Темная галактика №79 сорт детерминантный среднеспелый черный                     \n",
       "2774    томата (помидор) Улыбка Розы № 113 сорт детерминантный раннеспелый синий                          \n",
       "2775    томата (помидор) Фейерверк № 114 сорт индетерминантный среднеспелый красный                       \n",
       "2776    томата (помидор) Шахерезада №84 сорт детерминантный среднеспелый красный                          \n",
       "2777    томата (помидор) Ширли сердцевидный № 119 сорт индетерминантный среднеспелый розовый              \n",
       "2778    томата (помидор) Этуаль №85 сорт детерминантный среднеспелый розовый                              \n",
       "2779    томата (помидор) Южный вечер № 120 сорт детерминантный среднеспелый черный                        \n",
       "2780    томата (помидор) Юсуповский Узбекский №86 сорт индетерминантный позднеспелый красный              \n",
       "2781    Флокс метельчатый сорт Мари, диаметр горшка 10см.                                                 \n",
       "2782    Флокс метельчатый сорт МОСКВИЧКА, диаметр горшка 10см.                                            \n",
       "Name: product, dtype: object"
      ]
     },
     "execution_count": 35,
     "metadata": {},
     "output_type": "execute_result"
    }
   ],
   "source": [
    "ecommerce_new.query('order_id==14698')['product']"
   ]
  },
  {
   "cell_type": "markdown",
   "metadata": {},
   "source": [
    "- Пользователь `d3b9ffea-d143-4747-8d59-74ab843d1ad6` в заказе `14698` купил больше всех продуктов на небольшую сумму, он купил много семян томата и сопутствующую рассаду, поэтому такой большой и относитально недорогой заказ"
   ]
  },
  {
   "cell_type": "markdown",
   "metadata": {},
   "source": [
    "Посмотрим самые дорогие товары в нашем магазине"
   ]
  },
  {
   "cell_type": "code",
   "execution_count": 36,
   "metadata": {},
   "outputs": [
    {
     "data": {
      "text/html": [
       "<div>\n",
       "<style scoped>\n",
       "    .dataframe tbody tr th:only-of-type {\n",
       "        vertical-align: middle;\n",
       "    }\n",
       "\n",
       "    .dataframe tbody tr th {\n",
       "        vertical-align: top;\n",
       "    }\n",
       "\n",
       "    .dataframe thead th {\n",
       "        text-align: right;\n",
       "    }\n",
       "</style>\n",
       "<table border=\"1\" class=\"dataframe\">\n",
       "  <thead>\n",
       "    <tr style=\"text-align: right;\">\n",
       "      <th></th>\n",
       "      <th>price</th>\n",
       "    </tr>\n",
       "    <tr>\n",
       "      <th>product</th>\n",
       "      <th></th>\n",
       "    </tr>\n",
       "  </thead>\n",
       "  <tbody>\n",
       "    <tr>\n",
       "      <td>Сушилка уличная Leifheit 85210 LINOMATIC V 400 40 м 175х237х237 см зеленая</td>\n",
       "      <td>14917.0</td>\n",
       "    </tr>\n",
       "    <tr>\n",
       "      <td>Сумка-тележка хозяйственная Andersen Royal Shopper, Hera, синяя 166-004-90</td>\n",
       "      <td>8737.0</td>\n",
       "    </tr>\n",
       "    <tr>\n",
       "      <td>Сумка-тележка хозяйственная Andersen Alu Star Shopper, Hava, синяя 115-103-90</td>\n",
       "      <td>8437.0</td>\n",
       "    </tr>\n",
       "    <tr>\n",
       "      <td>Сумка-тележка хозяйственная Rolser MNB019 rojo LOGIC DOS+2 красная</td>\n",
       "      <td>8077.0</td>\n",
       "    </tr>\n",
       "    <tr>\n",
       "      <td>Стремянка 7 ступенчатая Hailo 8040-707 XXL 13 см алюминиевая с лотком для инструментов</td>\n",
       "      <td>7724.0</td>\n",
       "    </tr>\n",
       "    <tr>\n",
       "      <td>Сумка-тележка хозяйственная Rolser MNB017 fucsia LOGIC DOS+2 фуксия</td>\n",
       "      <td>7679.0</td>\n",
       "    </tr>\n",
       "    <tr>\n",
       "      <td>Сумка-тележка хозяйственная Rolser IMX006 bassi Logic Tour бордовая</td>\n",
       "      <td>7679.0</td>\n",
       "    </tr>\n",
       "    <tr>\n",
       "      <td>Сумка-тележка хозяйственная Rolser MOU041 malva RD6 сиреневая</td>\n",
       "      <td>7597.0</td>\n",
       "    </tr>\n",
       "    <tr>\n",
       "      <td>Гладильная доска Leifheit AirBoard Compact M Plus 120х38 см малиновый 71630</td>\n",
       "      <td>7424.0</td>\n",
       "    </tr>\n",
       "    <tr>\n",
       "      <td>Урна уличная стальная Сальвадор 02.021.0 46х110 см</td>\n",
       "      <td>7349.0</td>\n",
       "    </tr>\n",
       "  </tbody>\n",
       "</table>\n",
       "</div>"
      ],
      "text/plain": [
       "                                                                                          price\n",
       "product                                                                                        \n",
       "Сушилка уличная Leifheit 85210 LINOMATIC V 400 40 м 175х237х237 см зеленая              14917.0\n",
       "Сумка-тележка хозяйственная Andersen Royal Shopper, Hera, синяя 166-004-90              8737.0 \n",
       "Сумка-тележка хозяйственная Andersen Alu Star Shopper, Hava, синяя 115-103-90           8437.0 \n",
       "Сумка-тележка хозяйственная Rolser MNB019 rojo LOGIC DOS+2 красная                      8077.0 \n",
       "Стремянка 7 ступенчатая Hailo 8040-707 XXL 13 см алюминиевая с лотком для инструментов  7724.0 \n",
       "Сумка-тележка хозяйственная Rolser MNB017 fucsia LOGIC DOS+2 фуксия                     7679.0 \n",
       "Сумка-тележка хозяйственная Rolser IMX006 bassi Logic Tour бордовая                     7679.0 \n",
       "Сумка-тележка хозяйственная Rolser MOU041 malva RD6 сиреневая                           7597.0 \n",
       "Гладильная доска Leifheit AirBoard Compact M Plus 120х38 см малиновый 71630             7424.0 \n",
       "Урна уличная стальная Сальвадор 02.021.0 46х110 см                                      7349.0 "
      ]
     },
     "execution_count": 36,
     "metadata": {},
     "output_type": "execute_result"
    }
   ],
   "source": [
    "ecommerce_new.groupby('product').agg({'price':'max'}).sort_values('price',ascending=False).head(10)"
   ]
  },
  {
   "cell_type": "markdown",
   "metadata": {},
   "source": [
    "- Самый дорогой - `Сушилка уличная Leifheit 85210 LINOMATIC V 400 40 м 175х237х237 см зеленая`\n",
    "- Можно сказать, что представленные сумки одни из замых дорогих видов товара"
   ]
  },
  {
   "cell_type": "code",
   "execution_count": 37,
   "metadata": {},
   "outputs": [
    {
     "data": {
      "text/html": [
       "<div>\n",
       "<style scoped>\n",
       "    .dataframe tbody tr th:only-of-type {\n",
       "        vertical-align: middle;\n",
       "    }\n",
       "\n",
       "    .dataframe tbody tr th {\n",
       "        vertical-align: top;\n",
       "    }\n",
       "\n",
       "    .dataframe thead th {\n",
       "        text-align: right;\n",
       "    }\n",
       "</style>\n",
       "<table border=\"1\" class=\"dataframe\">\n",
       "  <thead>\n",
       "    <tr style=\"text-align: right;\">\n",
       "      <th></th>\n",
       "      <th>date</th>\n",
       "      <th>customer_id</th>\n",
       "      <th>order_id</th>\n",
       "      <th>product</th>\n",
       "      <th>quantity</th>\n",
       "      <th>price</th>\n",
       "    </tr>\n",
       "  </thead>\n",
       "  <tbody>\n",
       "    <tr>\n",
       "      <td>0</td>\n",
       "      <td>2018-10-01</td>\n",
       "      <td>ee47d746-6d2f-4d3c-9622-c31412542920</td>\n",
       "      <td>68477</td>\n",
       "      <td>Комнатное растение в горшке Алое Вера, d12, h30</td>\n",
       "      <td>1</td>\n",
       "      <td>142.0</td>\n",
       "    </tr>\n",
       "    <tr>\n",
       "      <td>1</td>\n",
       "      <td>2018-10-01</td>\n",
       "      <td>ee47d746-6d2f-4d3c-9622-c31412542920</td>\n",
       "      <td>68477</td>\n",
       "      <td>Комнатное растение в горшке Кофе Арабика, d12, h25</td>\n",
       "      <td>1</td>\n",
       "      <td>194.0</td>\n",
       "    </tr>\n",
       "    <tr>\n",
       "      <td>2</td>\n",
       "      <td>2018-10-01</td>\n",
       "      <td>ee47d746-6d2f-4d3c-9622-c31412542920</td>\n",
       "      <td>68477</td>\n",
       "      <td>Радермахера d-12 см h-20 см</td>\n",
       "      <td>1</td>\n",
       "      <td>112.0</td>\n",
       "    </tr>\n",
       "    <tr>\n",
       "      <td>3</td>\n",
       "      <td>2018-10-01</td>\n",
       "      <td>ee47d746-6d2f-4d3c-9622-c31412542920</td>\n",
       "      <td>68477</td>\n",
       "      <td>Хризолидокарпус Лутесценс d-9 см</td>\n",
       "      <td>1</td>\n",
       "      <td>179.0</td>\n",
       "    </tr>\n",
       "    <tr>\n",
       "      <td>4</td>\n",
       "      <td>2018-10-01</td>\n",
       "      <td>ee47d746-6d2f-4d3c-9622-c31412542920</td>\n",
       "      <td>68477</td>\n",
       "      <td>Циперус Зумула d-12 см h-25 см</td>\n",
       "      <td>1</td>\n",
       "      <td>112.0</td>\n",
       "    </tr>\n",
       "  </tbody>\n",
       "</table>\n",
       "</div>"
      ],
      "text/plain": [
       "        date                           customer_id  order_id  \\\n",
       "0 2018-10-01  ee47d746-6d2f-4d3c-9622-c31412542920  68477      \n",
       "1 2018-10-01  ee47d746-6d2f-4d3c-9622-c31412542920  68477      \n",
       "2 2018-10-01  ee47d746-6d2f-4d3c-9622-c31412542920  68477      \n",
       "3 2018-10-01  ee47d746-6d2f-4d3c-9622-c31412542920  68477      \n",
       "4 2018-10-01  ee47d746-6d2f-4d3c-9622-c31412542920  68477      \n",
       "\n",
       "                                              product  quantity  price  \n",
       "0  Комнатное растение в горшке Алое Вера, d12, h30     1         142.0  \n",
       "1  Комнатное растение в горшке Кофе Арабика, d12, h25  1         194.0  \n",
       "2  Радермахера d-12 см h-20 см                         1         112.0  \n",
       "3  Хризолидокарпус Лутесценс d-9 см                    1         179.0  \n",
       "4  Циперус Зумула d-12 см h-25 см                      1         112.0  "
      ]
     },
     "execution_count": 37,
     "metadata": {},
     "output_type": "execute_result"
    }
   ],
   "source": [
    "ecommerce_new.head(5)"
   ]
  },
  {
   "cell_type": "markdown",
   "metadata": {},
   "source": [
    "Теперь нам необходимо добавить столбец суммы для каждого продукта и его количества "
   ]
  },
  {
   "cell_type": "code",
   "execution_count": 38,
   "metadata": {},
   "outputs": [],
   "source": [
    "ecommerce_new['sum'] = ecommerce_new['quantity'] * ecommerce_new['price']"
   ]
  },
  {
   "cell_type": "code",
   "execution_count": 39,
   "metadata": {},
   "outputs": [
    {
     "data": {
      "text/html": [
       "<div>\n",
       "<style scoped>\n",
       "    .dataframe tbody tr th:only-of-type {\n",
       "        vertical-align: middle;\n",
       "    }\n",
       "\n",
       "    .dataframe tbody tr th {\n",
       "        vertical-align: top;\n",
       "    }\n",
       "\n",
       "    .dataframe thead th {\n",
       "        text-align: right;\n",
       "    }\n",
       "</style>\n",
       "<table border=\"1\" class=\"dataframe\">\n",
       "  <thead>\n",
       "    <tr style=\"text-align: right;\">\n",
       "      <th></th>\n",
       "      <th>date</th>\n",
       "      <th>customer_id</th>\n",
       "      <th>order_id</th>\n",
       "      <th>product</th>\n",
       "      <th>quantity</th>\n",
       "      <th>price</th>\n",
       "      <th>sum</th>\n",
       "    </tr>\n",
       "  </thead>\n",
       "  <tbody>\n",
       "    <tr>\n",
       "      <td>0</td>\n",
       "      <td>2018-10-01</td>\n",
       "      <td>ee47d746-6d2f-4d3c-9622-c31412542920</td>\n",
       "      <td>68477</td>\n",
       "      <td>Комнатное растение в горшке Алое Вера, d12, h30</td>\n",
       "      <td>1</td>\n",
       "      <td>142.0</td>\n",
       "      <td>142.0</td>\n",
       "    </tr>\n",
       "  </tbody>\n",
       "</table>\n",
       "</div>"
      ],
      "text/plain": [
       "        date                           customer_id  order_id  \\\n",
       "0 2018-10-01  ee47d746-6d2f-4d3c-9622-c31412542920  68477      \n",
       "\n",
       "                                           product  quantity  price    sum  \n",
       "0  Комнатное растение в горшке Алое Вера, d12, h30  1         142.0  142.0  "
      ]
     },
     "execution_count": 39,
     "metadata": {},
     "output_type": "execute_result"
    }
   ],
   "source": [
    "ecommerce_new.head(1)"
   ]
  },
  {
   "cell_type": "code",
   "execution_count": 40,
   "metadata": {},
   "outputs": [
    {
     "data": {
      "text/html": [
       "<div>\n",
       "<style scoped>\n",
       "    .dataframe tbody tr th:only-of-type {\n",
       "        vertical-align: middle;\n",
       "    }\n",
       "\n",
       "    .dataframe tbody tr th {\n",
       "        vertical-align: top;\n",
       "    }\n",
       "\n",
       "    .dataframe thead th {\n",
       "        text-align: right;\n",
       "    }\n",
       "</style>\n",
       "<table border=\"1\" class=\"dataframe\">\n",
       "  <thead>\n",
       "    <tr style=\"text-align: right;\">\n",
       "      <th></th>\n",
       "      <th>sum</th>\n",
       "    </tr>\n",
       "    <tr>\n",
       "      <th>order_id</th>\n",
       "      <th></th>\n",
       "    </tr>\n",
       "  </thead>\n",
       "  <tbody>\n",
       "    <tr>\n",
       "      <td>71743</td>\n",
       "      <td>675000.0</td>\n",
       "    </tr>\n",
       "    <tr>\n",
       "      <td>71668</td>\n",
       "      <td>49432.0</td>\n",
       "    </tr>\n",
       "    <tr>\n",
       "      <td>69830</td>\n",
       "      <td>47385.0</td>\n",
       "    </tr>\n",
       "    <tr>\n",
       "      <td>69504</td>\n",
       "      <td>32718.0</td>\n",
       "    </tr>\n",
       "    <tr>\n",
       "      <td>69156</td>\n",
       "      <td>29248.0</td>\n",
       "    </tr>\n",
       "  </tbody>\n",
       "</table>\n",
       "</div>"
      ],
      "text/plain": [
       "               sum\n",
       "order_id          \n",
       "71743     675000.0\n",
       "71668     49432.0 \n",
       "69830     47385.0 \n",
       "69504     32718.0 \n",
       "69156     29248.0 "
      ]
     },
     "execution_count": 40,
     "metadata": {},
     "output_type": "execute_result"
    }
   ],
   "source": [
    "ecommerce_new.groupby('order_id').agg({'sum':'max'}).sort_values('sum',ascending=False).head(5)"
   ]
  },
  {
   "cell_type": "markdown",
   "metadata": {},
   "source": [
    "Заказ `71743` отличается максимальной суммой заказа каких то продуктов, необходимо на них посмотреть"
   ]
  },
  {
   "cell_type": "code",
   "execution_count": 41,
   "metadata": {},
   "outputs": [
    {
     "data": {
      "text/html": [
       "<div>\n",
       "<style scoped>\n",
       "    .dataframe tbody tr th:only-of-type {\n",
       "        vertical-align: middle;\n",
       "    }\n",
       "\n",
       "    .dataframe tbody tr th {\n",
       "        vertical-align: top;\n",
       "    }\n",
       "\n",
       "    .dataframe thead th {\n",
       "        text-align: right;\n",
       "    }\n",
       "</style>\n",
       "<table border=\"1\" class=\"dataframe\">\n",
       "  <thead>\n",
       "    <tr style=\"text-align: right;\">\n",
       "      <th></th>\n",
       "      <th>date</th>\n",
       "      <th>customer_id</th>\n",
       "      <th>order_id</th>\n",
       "      <th>product</th>\n",
       "      <th>quantity</th>\n",
       "      <th>price</th>\n",
       "      <th>sum</th>\n",
       "    </tr>\n",
       "  </thead>\n",
       "  <tbody>\n",
       "    <tr>\n",
       "      <td>3819</td>\n",
       "      <td>2019-06-18 15:00:00</td>\n",
       "      <td>312e9a3e-5fca-43ff-a6a1-892d2b2d5ba6</td>\n",
       "      <td>71743</td>\n",
       "      <td>Вантуз с деревянной ручкой d14 см красный, Burstenmann, 0522/0000</td>\n",
       "      <td>1000</td>\n",
       "      <td>675.0</td>\n",
       "      <td>675000.0</td>\n",
       "    </tr>\n",
       "  </tbody>\n",
       "</table>\n",
       "</div>"
      ],
      "text/plain": [
       "                    date                           customer_id  order_id  \\\n",
       "3819 2019-06-18 15:00:00  312e9a3e-5fca-43ff-a6a1-892d2b2d5ba6  71743      \n",
       "\n",
       "                                                                product  \\\n",
       "3819  Вантуз с деревянной ручкой d14 см красный, Burstenmann, 0522/0000   \n",
       "\n",
       "      quantity  price       sum  \n",
       "3819  1000      675.0  675000.0  "
      ]
     },
     "execution_count": 41,
     "metadata": {},
     "output_type": "execute_result"
    }
   ],
   "source": [
    "ecommerce_new.query('order_id == \"71743\"')"
   ]
  },
  {
   "cell_type": "markdown",
   "metadata": {},
   "source": [
    "Пользователь `312e9a3e-5fca-43ff-a6a1-892d2b2d5ba6` совершил покупку 1000 шт одного единственного товара. Возможно, это сотрудник отдела закупок какого-либо бизнес центра, у которого есть необходимость осностить уборные санитарным инвентарем. Необходимо оценить другие покупки данного товара, и узнать, повторяться ли они в дальнейшем и насколько подобный заказ популярен. Быть может, имеет смысл пополнить запасы склада"
   ]
  },
  {
   "cell_type": "markdown",
   "metadata": {},
   "source": [
    "Если рассматривать данный заказ как выброс, то мы не можем его удалить, потому что этот заказ участвует в стат.тесте и в проверке статистических гипотез про активных клиентов. Клиент, совершивиший заказ попадает в категорию - пассивный (до 5 уникальныйх товаров в заказе). Казалось бы, такое уникальное количество одинаковых товаров, и как следствие, самая большая сумма покупки, которая смещает среднее в сторону увеличения для среза по выручки пассивных клиентов, должно повысить шансы гипотезы H0, что нет статистически значимых различий в выручке выделенных групп пользователей. Но происходит обратное, и мы видим, что активные пользователи приносят больше выручки, и эта выручка сущетсвенно отличается наминально и статистически от выручки по пассивынм клиентам, из чего мы делаем вывод, что даже при наличии супер огромных заказов, типо 1000 вантузов, все равно нужно развивать активность клиентов путем ориентации на покупки разных уникальных продуктов. Мы же проверям зоны роста аудитории в этом тесте, а значит, нужно убедится, что все разные клиенты с разными запросами так или иначе делятся на две категории: активный и пассивный. "
   ]
  },
  {
   "cell_type": "code",
   "execution_count": 42,
   "metadata": {},
   "outputs": [
    {
     "data": {
      "text/html": [
       "<div>\n",
       "<style scoped>\n",
       "    .dataframe tbody tr th:only-of-type {\n",
       "        vertical-align: middle;\n",
       "    }\n",
       "\n",
       "    .dataframe tbody tr th {\n",
       "        vertical-align: top;\n",
       "    }\n",
       "\n",
       "    .dataframe thead th {\n",
       "        text-align: right;\n",
       "    }\n",
       "</style>\n",
       "<table border=\"1\" class=\"dataframe\">\n",
       "  <thead>\n",
       "    <tr style=\"text-align: right;\">\n",
       "      <th></th>\n",
       "      <th>date</th>\n",
       "      <th>customer_id</th>\n",
       "      <th>order_id</th>\n",
       "      <th>product</th>\n",
       "      <th>quantity</th>\n",
       "      <th>price</th>\n",
       "      <th>sum</th>\n",
       "    </tr>\n",
       "  </thead>\n",
       "  <tbody>\n",
       "    <tr>\n",
       "      <td>3819</td>\n",
       "      <td>2019-06-18 15:00:00</td>\n",
       "      <td>312e9a3e-5fca-43ff-a6a1-892d2b2d5ba6</td>\n",
       "      <td>71743</td>\n",
       "      <td>Вантуз с деревянной ручкой d14 см красный, Burstenmann, 0522/0000</td>\n",
       "      <td>1000</td>\n",
       "      <td>675.0</td>\n",
       "      <td>675000.0</td>\n",
       "    </tr>\n",
       "  </tbody>\n",
       "</table>\n",
       "</div>"
      ],
      "text/plain": [
       "                    date                           customer_id  order_id  \\\n",
       "3819 2019-06-18 15:00:00  312e9a3e-5fca-43ff-a6a1-892d2b2d5ba6  71743      \n",
       "\n",
       "                                                                product  \\\n",
       "3819  Вантуз с деревянной ручкой d14 см красный, Burstenmann, 0522/0000   \n",
       "\n",
       "      quantity  price       sum  \n",
       "3819  1000      675.0  675000.0  "
      ]
     },
     "execution_count": 42,
     "metadata": {},
     "output_type": "execute_result"
    }
   ],
   "source": [
    "ecommerce_new.query('product==\"Вантуз с деревянной ручкой d14 см красный, Burstenmann, 0522/0000\"')"
   ]
  },
  {
   "cell_type": "markdown",
   "metadata": {},
   "source": [
    "Все же, это уникальный случай, не стоит под него постраивать закупки, при необходимости, лучше заказать недостающий товар у поставщика, чем перегружать склад, и рисковать кассовым разрывом. По итогу, это просто дорогой заказ и не перспектива развития направления. Также, стоит отметить, что цена для вантуза достаточно высокая, он конечно красивый, с деревянной ручной, но не всем подойдет, даже если подобный заказ повторится, скорее всего это будет другой вантуз."
   ]
  },
  {
   "cell_type": "code",
   "execution_count": 43,
   "metadata": {},
   "outputs": [
    {
     "data": {
      "text/html": [
       "<div>\n",
       "<style scoped>\n",
       "    .dataframe tbody tr th:only-of-type {\n",
       "        vertical-align: middle;\n",
       "    }\n",
       "\n",
       "    .dataframe tbody tr th {\n",
       "        vertical-align: top;\n",
       "    }\n",
       "\n",
       "    .dataframe thead th {\n",
       "        text-align: right;\n",
       "    }\n",
       "</style>\n",
       "<table border=\"1\" class=\"dataframe\">\n",
       "  <thead>\n",
       "    <tr style=\"text-align: right;\">\n",
       "      <th></th>\n",
       "      <th></th>\n",
       "      <th>sum</th>\n",
       "    </tr>\n",
       "    <tr>\n",
       "      <th>customer_id</th>\n",
       "      <th>order_id</th>\n",
       "      <th></th>\n",
       "    </tr>\n",
       "  </thead>\n",
       "  <tbody>\n",
       "    <tr>\n",
       "      <td>312e9a3e-5fca-43ff-a6a1-892d2b2d5ba6</td>\n",
       "      <td>71743</td>\n",
       "      <td>675000.0</td>\n",
       "    </tr>\n",
       "    <tr>\n",
       "      <td>146cd9bf-a95c-4afb-915b-5f6684b17444</td>\n",
       "      <td>71668</td>\n",
       "      <td>49432.0</td>\n",
       "    </tr>\n",
       "    <tr>\n",
       "      <td>58a4c3cc-504f-43ea-a74a-bae19e665552</td>\n",
       "      <td>69830</td>\n",
       "      <td>47385.0</td>\n",
       "    </tr>\n",
       "    <tr>\n",
       "      <td>8fba3604-ef57-4b9f-b2fe-3402fa8825c8</td>\n",
       "      <td>69156</td>\n",
       "      <td>33680.0</td>\n",
       "    </tr>\n",
       "    <tr>\n",
       "      <td>6987e6d6-a63a-4ce2-a2d0-f424092d235e</td>\n",
       "      <td>69504</td>\n",
       "      <td>32718.0</td>\n",
       "    </tr>\n",
       "  </tbody>\n",
       "</table>\n",
       "</div>"
      ],
      "text/plain": [
       "                                                    sum\n",
       "customer_id                          order_id          \n",
       "312e9a3e-5fca-43ff-a6a1-892d2b2d5ba6 71743     675000.0\n",
       "146cd9bf-a95c-4afb-915b-5f6684b17444 71668     49432.0 \n",
       "58a4c3cc-504f-43ea-a74a-bae19e665552 69830     47385.0 \n",
       "8fba3604-ef57-4b9f-b2fe-3402fa8825c8 69156     33680.0 \n",
       "6987e6d6-a63a-4ce2-a2d0-f424092d235e 69504     32718.0 "
      ]
     },
     "execution_count": 43,
     "metadata": {},
     "output_type": "execute_result"
    }
   ],
   "source": [
    "ecommerce_new.groupby(['customer_id','order_id']).agg({'sum':'sum'}).sort_values('sum',ascending=False).head(5)"
   ]
  },
  {
   "cell_type": "markdown",
   "metadata": {},
   "source": [
    "Самые дорогие заказы, оценим отдельно заказ `14833`"
   ]
  },
  {
   "cell_type": "code",
   "execution_count": 44,
   "metadata": {},
   "outputs": [
    {
     "data": {
      "text/plain": [
       "896    Кухонные ножницы WEBBER из нержавеющей стали с орехоколом ВЕ-5208                                     \n",
       "897    Набор ножей Attribute CHEF 5 предметов AKF522                                                         \n",
       "898    Нож кухонный для мяса с пластмассовой ручкой 305 х 175 мм, \"Русская Линия\" (НХ-36М), Метиз 1519003    \n",
       "899    Нож кухонный для овощей с деревянной ручкой 318 х 200 мм, \"Гурман\" (НХ-14М), Метиз 1519009            \n",
       "900    Нож кухонный универсальный с пластмассовой ручкой 285 х 150 мм, \"Русская Линия\" (НХ-38М) Метиз 1519022\n",
       "901    Рыбочистка с деревянной ручкой с ножом 1518024                                                        \n",
       "Name: product, dtype: object"
      ]
     },
     "execution_count": 44,
     "metadata": {},
     "output_type": "execute_result"
    }
   ],
   "source": [
    "ecommerce_new.query('order_id == \"69156\"')['product'].head(10)"
   ]
  },
  {
   "cell_type": "code",
   "execution_count": 45,
   "metadata": {},
   "outputs": [
    {
     "data": {
      "text/html": [
       "<div>\n",
       "<style scoped>\n",
       "    .dataframe tbody tr th:only-of-type {\n",
       "        vertical-align: middle;\n",
       "    }\n",
       "\n",
       "    .dataframe tbody tr th {\n",
       "        vertical-align: top;\n",
       "    }\n",
       "\n",
       "    .dataframe thead th {\n",
       "        text-align: right;\n",
       "    }\n",
       "</style>\n",
       "<table border=\"1\" class=\"dataframe\">\n",
       "  <thead>\n",
       "    <tr style=\"text-align: right;\">\n",
       "      <th></th>\n",
       "      <th>product</th>\n",
       "    </tr>\n",
       "    <tr>\n",
       "      <th>date</th>\n",
       "      <th></th>\n",
       "    </tr>\n",
       "  </thead>\n",
       "  <tbody>\n",
       "    <tr>\n",
       "      <td>2018-11-29 17:00:00</td>\n",
       "      <td>6</td>\n",
       "    </tr>\n",
       "  </tbody>\n",
       "</table>\n",
       "</div>"
      ],
      "text/plain": [
       "                     product\n",
       "date                        \n",
       "2018-11-29 17:00:00  6      "
      ]
     },
     "execution_count": 45,
     "metadata": {},
     "output_type": "execute_result"
    }
   ],
   "source": [
    "ecommerce_new.query('order_id == \"69156\"').groupby(['date']).agg({'product':'nunique'}).head(10)"
   ]
  },
  {
   "cell_type": "code",
   "execution_count": 46,
   "metadata": {},
   "outputs": [
    {
     "data": {
      "text/html": [
       "<div>\n",
       "<style scoped>\n",
       "    .dataframe tbody tr th:only-of-type {\n",
       "        vertical-align: middle;\n",
       "    }\n",
       "\n",
       "    .dataframe tbody tr th {\n",
       "        vertical-align: top;\n",
       "    }\n",
       "\n",
       "    .dataframe thead th {\n",
       "        text-align: right;\n",
       "    }\n",
       "</style>\n",
       "<table border=\"1\" class=\"dataframe\">\n",
       "  <thead>\n",
       "    <tr style=\"text-align: right;\">\n",
       "      <th></th>\n",
       "      <th>quantity</th>\n",
       "    </tr>\n",
       "    <tr>\n",
       "      <th>date</th>\n",
       "      <th></th>\n",
       "    </tr>\n",
       "  </thead>\n",
       "  <tbody>\n",
       "    <tr>\n",
       "      <td>2018-11-29 17:00:00</td>\n",
       "      <td>101</td>\n",
       "    </tr>\n",
       "  </tbody>\n",
       "</table>\n",
       "</div>"
      ],
      "text/plain": [
       "                     quantity\n",
       "date                         \n",
       "2018-11-29 17:00:00  101     "
      ]
     },
     "execution_count": 46,
     "metadata": {},
     "output_type": "execute_result"
    }
   ],
   "source": [
    "ecommerce_new.query('order_id == \"69156\"').groupby(['date']).agg({'quantity':'sum'}).head(10)"
   ]
  },
  {
   "cell_type": "markdown",
   "metadata": {},
   "source": [
    "Пользователь `8fba3604-ef57-4b9f-b2fe-3402fa8825c8` покупает 101 комплектов 6 разных товаров на сумму 33680 рублей. Возможно стоит для таких покупателей предложить особые условия закупки для увеличения объема продаж. Однозначано, на примере этого покупателя и покупателя `d3b9ffea-d143-4747-8d59-74ab843d1ad6`, который покупал много рассады"
   ]
  },
  {
   "cell_type": "markdown",
   "metadata": {},
   "source": [
    "### <font color=Teal>[Статистический анализ](#Содержание) <a class=\"ancor\" id=\"3.2\"></a> "
   ]
  },
  {
   "cell_type": "markdown",
   "metadata": {},
   "source": [
    "Написали функцию для проверки основных статистических измерений, функция выводит матрицу корреляций, а метод describe() считает стандарные статистические характеристики"
   ]
  },
  {
   "cell_type": "code",
   "execution_count": 47,
   "metadata": {},
   "outputs": [],
   "source": [
    "def stat(h):\n",
    "    display(h.describe())\n",
    "    display(h.corr())    "
   ]
  },
  {
   "cell_type": "code",
   "execution_count": 48,
   "metadata": {},
   "outputs": [
    {
     "data": {
      "text/html": [
       "<div>\n",
       "<style scoped>\n",
       "    .dataframe tbody tr th:only-of-type {\n",
       "        vertical-align: middle;\n",
       "    }\n",
       "\n",
       "    .dataframe tbody tr th {\n",
       "        vertical-align: top;\n",
       "    }\n",
       "\n",
       "    .dataframe thead th {\n",
       "        text-align: right;\n",
       "    }\n",
       "</style>\n",
       "<table border=\"1\" class=\"dataframe\">\n",
       "  <thead>\n",
       "    <tr style=\"text-align: right;\">\n",
       "      <th></th>\n",
       "      <th>order_id</th>\n",
       "      <th>quantity</th>\n",
       "      <th>price</th>\n",
       "      <th>sum</th>\n",
       "    </tr>\n",
       "  </thead>\n",
       "  <tbody>\n",
       "    <tr>\n",
       "      <td>count</td>\n",
       "      <td>4841.000000</td>\n",
       "      <td>4841.000000</td>\n",
       "      <td>4841.000000</td>\n",
       "      <td>4841.000000</td>\n",
       "    </tr>\n",
       "    <tr>\n",
       "      <td>mean</td>\n",
       "      <td>48220.149349</td>\n",
       "      <td>2.787027</td>\n",
       "      <td>517.022309</td>\n",
       "      <td>850.461681</td>\n",
       "    </tr>\n",
       "    <tr>\n",
       "      <td>std</td>\n",
       "      <td>27341.993637</td>\n",
       "      <td>17.619248</td>\n",
       "      <td>946.837883</td>\n",
       "      <td>9839.416198</td>\n",
       "    </tr>\n",
       "    <tr>\n",
       "      <td>min</td>\n",
       "      <td>12624.000000</td>\n",
       "      <td>1.000000</td>\n",
       "      <td>9.000000</td>\n",
       "      <td>9.000000</td>\n",
       "    </tr>\n",
       "    <tr>\n",
       "      <td>25%</td>\n",
       "      <td>14774.000000</td>\n",
       "      <td>1.000000</td>\n",
       "      <td>90.000000</td>\n",
       "      <td>120.000000</td>\n",
       "    </tr>\n",
       "    <tr>\n",
       "      <td>50%</td>\n",
       "      <td>68858.000000</td>\n",
       "      <td>1.000000</td>\n",
       "      <td>150.000000</td>\n",
       "      <td>191.000000</td>\n",
       "    </tr>\n",
       "    <tr>\n",
       "      <td>75%</td>\n",
       "      <td>70831.000000</td>\n",
       "      <td>1.000000</td>\n",
       "      <td>509.000000</td>\n",
       "      <td>734.000000</td>\n",
       "    </tr>\n",
       "    <tr>\n",
       "      <td>max</td>\n",
       "      <td>73164.000000</td>\n",
       "      <td>1000.000000</td>\n",
       "      <td>14917.000000</td>\n",
       "      <td>675000.000000</td>\n",
       "    </tr>\n",
       "  </tbody>\n",
       "</table>\n",
       "</div>"
      ],
      "text/plain": [
       "           order_id     quantity         price            sum\n",
       "count  4841.000000   4841.000000  4841.000000   4841.000000  \n",
       "mean   48220.149349  2.787027     517.022309    850.461681   \n",
       "std    27341.993637  17.619248    946.837883    9839.416198  \n",
       "min    12624.000000  1.000000     9.000000      9.000000     \n",
       "25%    14774.000000  1.000000     90.000000     120.000000   \n",
       "50%    68858.000000  1.000000     150.000000    191.000000   \n",
       "75%    70831.000000  1.000000     509.000000    734.000000   \n",
       "max    73164.000000  1000.000000  14917.000000  675000.000000"
      ]
     },
     "metadata": {},
     "output_type": "display_data"
    },
    {
     "data": {
      "text/html": [
       "<div>\n",
       "<style scoped>\n",
       "    .dataframe tbody tr th:only-of-type {\n",
       "        vertical-align: middle;\n",
       "    }\n",
       "\n",
       "    .dataframe tbody tr th {\n",
       "        vertical-align: top;\n",
       "    }\n",
       "\n",
       "    .dataframe thead th {\n",
       "        text-align: right;\n",
       "    }\n",
       "</style>\n",
       "<table border=\"1\" class=\"dataframe\">\n",
       "  <thead>\n",
       "    <tr style=\"text-align: right;\">\n",
       "      <th></th>\n",
       "      <th>order_id</th>\n",
       "      <th>quantity</th>\n",
       "      <th>price</th>\n",
       "      <th>sum</th>\n",
       "    </tr>\n",
       "  </thead>\n",
       "  <tbody>\n",
       "    <tr>\n",
       "      <td>order_id</td>\n",
       "      <td>1.000000</td>\n",
       "      <td>0.063686</td>\n",
       "      <td>0.342796</td>\n",
       "      <td>0.057640</td>\n",
       "    </tr>\n",
       "    <tr>\n",
       "      <td>quantity</td>\n",
       "      <td>0.063686</td>\n",
       "      <td>1.000000</td>\n",
       "      <td>-0.035403</td>\n",
       "      <td>0.846197</td>\n",
       "    </tr>\n",
       "    <tr>\n",
       "      <td>price</td>\n",
       "      <td>0.342796</td>\n",
       "      <td>-0.035403</td>\n",
       "      <td>1.000000</td>\n",
       "      <td>0.101081</td>\n",
       "    </tr>\n",
       "    <tr>\n",
       "      <td>sum</td>\n",
       "      <td>0.057640</td>\n",
       "      <td>0.846197</td>\n",
       "      <td>0.101081</td>\n",
       "      <td>1.000000</td>\n",
       "    </tr>\n",
       "  </tbody>\n",
       "</table>\n",
       "</div>"
      ],
      "text/plain": [
       "          order_id  quantity     price       sum\n",
       "order_id  1.000000  0.063686  0.342796  0.057640\n",
       "quantity  0.063686  1.000000 -0.035403  0.846197\n",
       "price     0.342796 -0.035403  1.000000  0.101081\n",
       "sum       0.057640  0.846197  0.101081  1.000000"
      ]
     },
     "metadata": {},
     "output_type": "display_data"
    }
   ],
   "source": [
    "stat(ecommerce_new)"
   ]
  },
  {
   "cell_type": "markdown",
   "metadata": {},
   "source": [
    "Согласно первой матрицы распределение количества и цены у нас достаочно нормальное, нельзя сказать, что есть серьезные выбросы. Есть уникальные заказы. Стандартное отклонение по количеству 17 шт, по цене 946 руб. В среднем 2-3 товара по цене 517 рублей принсят 850 рублей в сумме, то есть, существует скошенность в данных по количетсву в сторону товаров по 1 шт, с разными ценами, поэтому, перемножая `2*517` мы получим больше 850 рублей. "
   ]
  },
  {
   "cell_type": "markdown",
   "metadata": {},
   "source": [
    "Матрица корреляции показывает прямую сильную связь суммы заказа и его количетсва. Таким образом, чем больше товаров в заказе, тем выше его сумма. По цене слабая связь с другими наборами данных. "
   ]
  },
  {
   "cell_type": "markdown",
   "metadata": {},
   "source": [
    "### <font color=Teal>[Визуализация и промежуточные выводы](#Содержание) <a class=\"ancor\" id=\"3.3\"></a> "
   ]
  },
  {
   "cell_type": "code",
   "execution_count": 49,
   "metadata": {},
   "outputs": [
    {
     "data": {
      "image/png": "[encoded data removed]",
      "text/plain": [
       "<Figure size 1008x576 with 1 Axes>"
      ]
     },
     "metadata": {
      "needs_background": "light"
     },
     "output_type": "display_data"
    }
   ],
   "source": [
    "fig, ax = plt.subplots(figsize=(14, 8))\n",
    "ecommerce_new.plot(x='date',y='sum',kind='line',ax=ax)  \n",
    "\n",
    "plt.xlabel('Периодичность - год/месяц')\n",
    "plt.ylabel('Сумма покупок')\n",
    "plt.title('Сумма покупок за весь период')\n",
    "plt.xticks(rotation=60)\n",
    "plt.legend(loc=1)\n",
    "ax.grid(True)\n",
    "plt.show();"
   ]
  },
  {
   "cell_type": "markdown",
   "metadata": {},
   "source": [
    "Выброс напоминает нам результаты исследования по заказу `71743`  с вантузом в количестве 1000 шт. Самый большой заказ. "
   ]
  },
  {
   "cell_type": "code",
   "execution_count": 50,
   "metadata": {},
   "outputs": [
    {
     "data": {
      "image/png": "[encoded data removed]",
      "text/plain": [
       "<Figure size 1008x576 with 1 Axes>"
      ]
     },
     "metadata": {
      "needs_background": "light"
     },
     "output_type": "display_data"
    }
   ],
   "source": [
    "fig, ax = plt.subplots(figsize=(14, 8))\n",
    "ecommerce_new.query('order_id!=\"71743\"').plot(x='date',y='sum',kind='line',ax=ax)     \n",
    "\n",
    "plt.xlabel('Периодичность - год/месяц')\n",
    "plt.ylabel('Сумма покупок')\n",
    "plt.title('Сумма покупок за весь период')\n",
    "plt.xticks(rotation=60)\n",
    "plt.legend(loc=1)\n",
    "ax.grid(True)\n",
    "plt.show();"
   ]
  },
  {
   "cell_type": "markdown",
   "metadata": {},
   "source": [
    "Без данного заказа распределение выглядит равномерно, но есть также 5 дорогих заказов."
   ]
  },
  {
   "cell_type": "code",
   "execution_count": 51,
   "metadata": {},
   "outputs": [
    {
     "data": {
      "image/png": "[encoded data removed]",
      "text/plain": [
       "<Figure size 936x504 with 1 Axes>"
      ]
     },
     "metadata": {
      "needs_background": "light"
     },
     "output_type": "display_data"
    }
   ],
   "source": [
    "fig, ax = plt.subplots(figsize=(12, 9))\n",
    "sns.set_style('ticks')\n",
    "sns.lineplot(x='date', y='quantity',\n",
    "            data=ecommerce_new.query('order_id!=\"71743\"'), estimator=sum)\n",
    "\n",
    "plt.xlabel('Периодичность - год/месяц', fontsize = 12)\n",
    "plt.ylabel('Количество продуктов')\n",
    "plt.title('Распределение количетсва продуктов за последний год')\n",
    "ax.grid(True)\n",
    "plt.xticks(rotation=60)\n",
    "fig.set_figheight(7) # изменение по высоте\n",
    "fig.set_figwidth(13) # изменение по ширине\n",
    "plt.show();"
   ]
  },
  {
   "cell_type": "markdown",
   "metadata": {},
   "source": [
    "В целом, график дублирует график по сумме, так как между количеством и суммой существует сильная прямая связь. От того, какое количетсво товаров клиент купит, зависит наша выручка. "
   ]
  },
  {
   "cell_type": "markdown",
   "metadata": {},
   "source": [
    "Переходим от общих графиков к визуализации признаков и отдельных заказов"
   ]
  },
  {
   "cell_type": "code",
   "execution_count": 52,
   "metadata": {},
   "outputs": [
    {
     "data": {
      "text/plain": [
       "<matplotlib.axes._subplots.AxesSubplot at 0x6b7e1c8>"
      ]
     },
     "execution_count": 52,
     "metadata": {},
     "output_type": "execute_result"
    },
    {
     "data": {
      "image/png": "[encoded data removed]",
      "text/plain": [
       "<Figure size 432x288 with 1 Axes>"
      ]
     },
     "metadata": {},
     "output_type": "display_data"
    }
   ],
   "source": [
    "order_sum = ecommerce_new.groupby('order_id').agg({'sum':'sum'}).reset_index()\n",
    "order_sum['order_id'] = order_sum['order_id'].astype(str)\n",
    "\n",
    "order_sum['sum'].hist(bins=100, range = (0,10000))"
   ]
  },
  {
   "cell_type": "markdown",
   "metadata": {},
   "source": [
    "Есть дорогие заказы, есть средние. Распределение от самого дешевого до самого дорого не равномерное. Ожидаемо, распредление скошенное, заказов на сумму менее 2000 рублей более 50 шт,далее, пропорционально и плавно идет снижение, в соотношении: дорогие и редкие заказы. "
   ]
  },
  {
   "cell_type": "markdown",
   "metadata": {},
   "source": [
    "### <font color=Teal>[Анализ товарного ассортимента](#Содержание) <a class=\"ancor\" id=\"4\"></a> \n",
    "\n",
    "### <font color=Teal>[Пользовательские предпочтения](#Содержание) <a class=\"ancor\" id=\"4.1\"></a> "
   ]
  },
  {
   "cell_type": "markdown",
   "metadata": {},
   "source": [
    "Перед анализом товарного ассортимента необходимо выделить из времени: дату, месяц, неделю, а также переименовать начальный столбец со временем"
   ]
  },
  {
   "cell_type": "code",
   "execution_count": 53,
   "metadata": {},
   "outputs": [],
   "source": [
    "ecommerce_new = ecommerce_new.rename(columns={'date':'time of purchase'})\n",
    "ecommerce_new['date'] = ecommerce_new['time of purchase'].dt.date\n",
    "ecommerce_new['month'] = ecommerce_new['time of purchase'].dt.month\n",
    "ecommerce_new['week'] = ecommerce_new['time of purchase'].dt.week\n",
    "ecommerce_new['year'] = ecommerce_new['time of purchase'].dt.year"
   ]
  },
  {
   "cell_type": "code",
   "execution_count": 54,
   "metadata": {},
   "outputs": [
    {
     "data": {
      "text/html": [
       "<div>\n",
       "<style scoped>\n",
       "    .dataframe tbody tr th:only-of-type {\n",
       "        vertical-align: middle;\n",
       "    }\n",
       "\n",
       "    .dataframe tbody tr th {\n",
       "        vertical-align: top;\n",
       "    }\n",
       "\n",
       "    .dataframe thead th {\n",
       "        text-align: right;\n",
       "    }\n",
       "</style>\n",
       "<table border=\"1\" class=\"dataframe\">\n",
       "  <thead>\n",
       "    <tr style=\"text-align: right;\">\n",
       "      <th></th>\n",
       "      <th>time of purchase</th>\n",
       "      <th>customer_id</th>\n",
       "      <th>order_id</th>\n",
       "      <th>product</th>\n",
       "      <th>quantity</th>\n",
       "      <th>price</th>\n",
       "      <th>sum</th>\n",
       "      <th>date</th>\n",
       "      <th>month</th>\n",
       "      <th>week</th>\n",
       "      <th>year</th>\n",
       "    </tr>\n",
       "  </thead>\n",
       "  <tbody>\n",
       "    <tr>\n",
       "      <td>0</td>\n",
       "      <td>2018-10-01</td>\n",
       "      <td>ee47d746-6d2f-4d3c-9622-c31412542920</td>\n",
       "      <td>68477</td>\n",
       "      <td>Комнатное растение в горшке Алое Вера, d12, h30</td>\n",
       "      <td>1</td>\n",
       "      <td>142.0</td>\n",
       "      <td>142.0</td>\n",
       "      <td>2018-10-01</td>\n",
       "      <td>10</td>\n",
       "      <td>40</td>\n",
       "      <td>2018</td>\n",
       "    </tr>\n",
       "    <tr>\n",
       "      <td>1</td>\n",
       "      <td>2018-10-01</td>\n",
       "      <td>ee47d746-6d2f-4d3c-9622-c31412542920</td>\n",
       "      <td>68477</td>\n",
       "      <td>Комнатное растение в горшке Кофе Арабика, d12, h25</td>\n",
       "      <td>1</td>\n",
       "      <td>194.0</td>\n",
       "      <td>194.0</td>\n",
       "      <td>2018-10-01</td>\n",
       "      <td>10</td>\n",
       "      <td>40</td>\n",
       "      <td>2018</td>\n",
       "    </tr>\n",
       "    <tr>\n",
       "      <td>2</td>\n",
       "      <td>2018-10-01</td>\n",
       "      <td>ee47d746-6d2f-4d3c-9622-c31412542920</td>\n",
       "      <td>68477</td>\n",
       "      <td>Радермахера d-12 см h-20 см</td>\n",
       "      <td>1</td>\n",
       "      <td>112.0</td>\n",
       "      <td>112.0</td>\n",
       "      <td>2018-10-01</td>\n",
       "      <td>10</td>\n",
       "      <td>40</td>\n",
       "      <td>2018</td>\n",
       "    </tr>\n",
       "    <tr>\n",
       "      <td>3</td>\n",
       "      <td>2018-10-01</td>\n",
       "      <td>ee47d746-6d2f-4d3c-9622-c31412542920</td>\n",
       "      <td>68477</td>\n",
       "      <td>Хризолидокарпус Лутесценс d-9 см</td>\n",
       "      <td>1</td>\n",
       "      <td>179.0</td>\n",
       "      <td>179.0</td>\n",
       "      <td>2018-10-01</td>\n",
       "      <td>10</td>\n",
       "      <td>40</td>\n",
       "      <td>2018</td>\n",
       "    </tr>\n",
       "    <tr>\n",
       "      <td>4</td>\n",
       "      <td>2018-10-01</td>\n",
       "      <td>ee47d746-6d2f-4d3c-9622-c31412542920</td>\n",
       "      <td>68477</td>\n",
       "      <td>Циперус Зумула d-12 см h-25 см</td>\n",
       "      <td>1</td>\n",
       "      <td>112.0</td>\n",
       "      <td>112.0</td>\n",
       "      <td>2018-10-01</td>\n",
       "      <td>10</td>\n",
       "      <td>40</td>\n",
       "      <td>2018</td>\n",
       "    </tr>\n",
       "  </tbody>\n",
       "</table>\n",
       "</div>"
      ],
      "text/plain": [
       "  time of purchase                           customer_id  order_id  \\\n",
       "0 2018-10-01        ee47d746-6d2f-4d3c-9622-c31412542920  68477      \n",
       "1 2018-10-01        ee47d746-6d2f-4d3c-9622-c31412542920  68477      \n",
       "2 2018-10-01        ee47d746-6d2f-4d3c-9622-c31412542920  68477      \n",
       "3 2018-10-01        ee47d746-6d2f-4d3c-9622-c31412542920  68477      \n",
       "4 2018-10-01        ee47d746-6d2f-4d3c-9622-c31412542920  68477      \n",
       "\n",
       "                                              product  quantity  price    sum  \\\n",
       "0  Комнатное растение в горшке Алое Вера, d12, h30     1         142.0  142.0   \n",
       "1  Комнатное растение в горшке Кофе Арабика, d12, h25  1         194.0  194.0   \n",
       "2  Радермахера d-12 см h-20 см                         1         112.0  112.0   \n",
       "3  Хризолидокарпус Лутесценс d-9 см                    1         179.0  179.0   \n",
       "4  Циперус Зумула d-12 см h-25 см                      1         112.0  112.0   \n",
       "\n",
       "         date  month  week  year  \n",
       "0  2018-10-01  10     40    2018  \n",
       "1  2018-10-01  10     40    2018  \n",
       "2  2018-10-01  10     40    2018  \n",
       "3  2018-10-01  10     40    2018  \n",
       "4  2018-10-01  10     40    2018  "
      ]
     },
     "execution_count": 54,
     "metadata": {},
     "output_type": "execute_result"
    }
   ],
   "source": [
    "ecommerce_new.head(5)"
   ]
  },
  {
   "cell_type": "markdown",
   "metadata": {},
   "source": [
    "В первую очередь, нужно оценить, есть ли разница между покупками в выходные и праздничные дни"
   ]
  },
  {
   "cell_type": "code",
   "execution_count": 55,
   "metadata": {},
   "outputs": [
    {
     "data": {
      "text/html": [
       "<div>\n",
       "<style scoped>\n",
       "    .dataframe tbody tr th:only-of-type {\n",
       "        vertical-align: middle;\n",
       "    }\n",
       "\n",
       "    .dataframe tbody tr th {\n",
       "        vertical-align: top;\n",
       "    }\n",
       "\n",
       "    .dataframe thead th {\n",
       "        text-align: right;\n",
       "    }\n",
       "</style>\n",
       "<table border=\"1\" class=\"dataframe\">\n",
       "  <thead>\n",
       "    <tr style=\"text-align: right;\">\n",
       "      <th></th>\n",
       "      <th>sum</th>\n",
       "    </tr>\n",
       "    <tr>\n",
       "      <th>date</th>\n",
       "      <th></th>\n",
       "    </tr>\n",
       "  </thead>\n",
       "  <tbody>\n",
       "    <tr>\n",
       "      <td>2019-05-13</td>\n",
       "      <td>18076.0</td>\n",
       "    </tr>\n",
       "    <tr>\n",
       "      <td>2019-05-14</td>\n",
       "      <td>16721.0</td>\n",
       "    </tr>\n",
       "    <tr>\n",
       "      <td>2019-05-15</td>\n",
       "      <td>4271.0</td>\n",
       "    </tr>\n",
       "    <tr>\n",
       "      <td>2019-05-16</td>\n",
       "      <td>5639.0</td>\n",
       "    </tr>\n",
       "    <tr>\n",
       "      <td>2019-05-17</td>\n",
       "      <td>10593.0</td>\n",
       "    </tr>\n",
       "    <tr>\n",
       "      <td>2019-05-18</td>\n",
       "      <td>2371.0</td>\n",
       "    </tr>\n",
       "    <tr>\n",
       "      <td>2019-05-19</td>\n",
       "      <td>5981.0</td>\n",
       "    </tr>\n",
       "  </tbody>\n",
       "</table>\n",
       "</div>"
      ],
      "text/plain": [
       "                sum\n",
       "date               \n",
       "2019-05-13  18076.0\n",
       "2019-05-14  16721.0\n",
       "2019-05-15  4271.0 \n",
       "2019-05-16  5639.0 \n",
       "2019-05-17  10593.0\n",
       "2019-05-18  2371.0 \n",
       "2019-05-19  5981.0 "
      ]
     },
     "execution_count": 55,
     "metadata": {},
     "output_type": "execute_result"
    }
   ],
   "source": [
    "(ecommerce_new[(ecommerce_new['time of purchase'] > '2019-05-13')\\\n",
    "              & (ecommerce_new['time of purchase'] <= '2019-05-20')]\\\n",
    "              .groupby(['date']).agg({'sum':'sum'}))        "
   ]
  },
  {
   "cell_type": "markdown",
   "metadata": {},
   "source": [
    "Следует отметить, что в субботу и воскресение меньше покупок, чем в будни"
   ]
  },
  {
   "cell_type": "markdown",
   "metadata": {},
   "source": [
    "Для проверки всей талицы напишем необходимые условия, при этом переведем столбец date к datetime, создадим столбец weekend, в котором отметим выходные дни"
   ]
  },
  {
   "cell_type": "code",
   "execution_count": 56,
   "metadata": {},
   "outputs": [],
   "source": [
    "from datetime import datetime, timedelta\n",
    "ecommerce_new['date'] = pd.to_datetime(ecommerce_new['date'],format='%Y-%m-%d')"
   ]
  },
  {
   "cell_type": "code",
   "execution_count": 57,
   "metadata": {},
   "outputs": [
    {
     "data": {
      "text/html": [
       "<div>\n",
       "<style scoped>\n",
       "    .dataframe tbody tr th:only-of-type {\n",
       "        vertical-align: middle;\n",
       "    }\n",
       "\n",
       "    .dataframe tbody tr th {\n",
       "        vertical-align: top;\n",
       "    }\n",
       "\n",
       "    .dataframe thead th {\n",
       "        text-align: right;\n",
       "    }\n",
       "</style>\n",
       "<table border=\"1\" class=\"dataframe\">\n",
       "  <thead>\n",
       "    <tr style=\"text-align: right;\">\n",
       "      <th></th>\n",
       "      <th>sum</th>\n",
       "    </tr>\n",
       "    <tr>\n",
       "      <th>date</th>\n",
       "      <th></th>\n",
       "    </tr>\n",
       "  </thead>\n",
       "  <tbody>\n",
       "    <tr>\n",
       "      <td>2018-10-05</td>\n",
       "      <td>4720.0</td>\n",
       "    </tr>\n",
       "    <tr>\n",
       "      <td>2018-10-06</td>\n",
       "      <td>2659.0</td>\n",
       "    </tr>\n",
       "    <tr>\n",
       "      <td>2018-10-12</td>\n",
       "      <td>7733.0</td>\n",
       "    </tr>\n",
       "    <tr>\n",
       "      <td>2018-10-13</td>\n",
       "      <td>4273.0</td>\n",
       "    </tr>\n",
       "    <tr>\n",
       "      <td>2018-10-19</td>\n",
       "      <td>16574.0</td>\n",
       "    </tr>\n",
       "    <tr>\n",
       "      <td>2018-10-20</td>\n",
       "      <td>5146.0</td>\n",
       "    </tr>\n",
       "    <tr>\n",
       "      <td>2018-10-26</td>\n",
       "      <td>23874.0</td>\n",
       "    </tr>\n",
       "    <tr>\n",
       "      <td>2018-10-27</td>\n",
       "      <td>4304.0</td>\n",
       "    </tr>\n",
       "    <tr>\n",
       "      <td>2018-11-02</td>\n",
       "      <td>19284.0</td>\n",
       "    </tr>\n",
       "    <tr>\n",
       "      <td>2018-11-03</td>\n",
       "      <td>3860.0</td>\n",
       "    </tr>\n",
       "  </tbody>\n",
       "</table>\n",
       "</div>"
      ],
      "text/plain": [
       "                sum\n",
       "date               \n",
       "2018-10-05  4720.0 \n",
       "2018-10-06  2659.0 \n",
       "2018-10-12  7733.0 \n",
       "2018-10-13  4273.0 \n",
       "2018-10-19  16574.0\n",
       "2018-10-20  5146.0 \n",
       "2018-10-26  23874.0\n",
       "2018-10-27  4304.0 \n",
       "2018-11-02  19284.0\n",
       "2018-11-03  3860.0 "
      ]
     },
     "execution_count": 57,
     "metadata": {},
     "output_type": "execute_result"
    }
   ],
   "source": [
    "ecommerce_new['weekend'] = (ecommerce_new.date.dt.dayofweek >=4) & (ecommerce_new.date.dt.dayofweek != 6)\n",
    "ecommerce_new.query('weekend==True').groupby(['date']).agg({'sum':'sum'}).head(10)"
   ]
  },
  {
   "cell_type": "code",
   "execution_count": 58,
   "metadata": {},
   "outputs": [
    {
     "name": "stdout",
     "output_type": "stream",
     "text": [
      "Покупки в будни: 3343339.0\n",
      "Покупки в выходные: 773746.0\n"
     ]
    }
   ],
   "source": [
    "print('Покупки в будни: {}'.format(ecommerce_new.query('weekend==False')\\\n",
    "                                   .groupby(['date']).agg({'sum':'sum'})['sum'].sum()))\n",
    "print('Покупки в выходные: {}'.format(ecommerce_new.query('weekend==True')\\\n",
    "                                      .groupby(['date']).agg({'sum':'sum'})['sum'].sum()))"
   ]
  },
  {
   "cell_type": "markdown",
   "metadata": {},
   "source": [
    "В будни покупают на большую сумму, чем в выходные. Но в выходные пользователи также совершают достаточно покупок"
   ]
  },
  {
   "cell_type": "markdown",
   "metadata": {},
   "source": [
    "### <font color=Teal>[Когортный анализ](#Содержание) <a class=\"ancor\" id=\"4.2\"></a> "
   ]
  },
  {
   "cell_type": "markdown",
   "metadata": {},
   "source": [
    "Разделим пользователей на когорты в соответсвие с первым и последним месяцем покупки. "
   ]
  },
  {
   "cell_type": "code",
   "execution_count": 59,
   "metadata": {},
   "outputs": [],
   "source": [
    "# когортный анализ ecommerce_new, вылеляем первый месяц покупки (продажи)\n",
    "first_order_date = ecommerce_new.groupby('customer_id')['date'].min()\n",
    "first_order_date.name = 'first_date'\n",
    "\n",
    "# производим слияние с исходной таблицой, выделяем месяц и группируем по уникальным пользователям и сумме выручки\n",
    "ecommerce_new= ecommerce_new.join(first_order_date,on='customer_id')\n",
    "ecommerce_new['first_order_month'] = ecommerce_new['first_date'].astype('datetime64[M]')\n",
    "ecommerce_new['order_month'] = ecommerce_new['date'].astype('datetime64[M]')\n",
    "cohort_orders = ecommerce_new.groupby('first_order_month').agg({'customer_id':'nunique','sum':'sum'})"
   ]
  },
  {
   "cell_type": "code",
   "execution_count": 60,
   "metadata": {},
   "outputs": [
    {
     "data": {
      "text/html": [
       "<div>\n",
       "<style scoped>\n",
       "    .dataframe tbody tr th:only-of-type {\n",
       "        vertical-align: middle;\n",
       "    }\n",
       "\n",
       "    .dataframe tbody tr th {\n",
       "        vertical-align: top;\n",
       "    }\n",
       "\n",
       "    .dataframe thead th {\n",
       "        text-align: right;\n",
       "    }\n",
       "</style>\n",
       "<table border=\"1\" class=\"dataframe\">\n",
       "  <thead>\n",
       "    <tr style=\"text-align: right;\">\n",
       "      <th></th>\n",
       "      <th>customer_id</th>\n",
       "      <th>sum</th>\n",
       "    </tr>\n",
       "    <tr>\n",
       "      <th>first_order_month</th>\n",
       "      <th></th>\n",
       "      <th></th>\n",
       "    </tr>\n",
       "  </thead>\n",
       "  <tbody>\n",
       "    <tr>\n",
       "      <td>2018-10-01</td>\n",
       "      <td>181</td>\n",
       "      <td>483820.0</td>\n",
       "    </tr>\n",
       "    <tr>\n",
       "      <td>2018-11-01</td>\n",
       "      <td>177</td>\n",
       "      <td>334561.0</td>\n",
       "    </tr>\n",
       "    <tr>\n",
       "      <td>2018-12-01</td>\n",
       "      <td>237</td>\n",
       "      <td>314570.0</td>\n",
       "    </tr>\n",
       "    <tr>\n",
       "      <td>2019-01-01</td>\n",
       "      <td>148</td>\n",
       "      <td>228906.0</td>\n",
       "    </tr>\n",
       "    <tr>\n",
       "      <td>2019-02-01</td>\n",
       "      <td>240</td>\n",
       "      <td>259830.0</td>\n",
       "    </tr>\n",
       "    <tr>\n",
       "      <td>2019-03-01</td>\n",
       "      <td>230</td>\n",
       "      <td>253692.0</td>\n",
       "    </tr>\n",
       "    <tr>\n",
       "      <td>2019-04-01</td>\n",
       "      <td>227</td>\n",
       "      <td>320196.0</td>\n",
       "    </tr>\n",
       "    <tr>\n",
       "      <td>2019-05-01</td>\n",
       "      <td>166</td>\n",
       "      <td>226937.0</td>\n",
       "    </tr>\n",
       "    <tr>\n",
       "      <td>2019-06-01</td>\n",
       "      <td>151</td>\n",
       "      <td>900933.0</td>\n",
       "    </tr>\n",
       "    <tr>\n",
       "      <td>2019-07-01</td>\n",
       "      <td>183</td>\n",
       "      <td>235016.0</td>\n",
       "    </tr>\n",
       "    <tr>\n",
       "      <td>2019-08-01</td>\n",
       "      <td>162</td>\n",
       "      <td>172394.0</td>\n",
       "    </tr>\n",
       "    <tr>\n",
       "      <td>2019-09-01</td>\n",
       "      <td>174</td>\n",
       "      <td>179284.0</td>\n",
       "    </tr>\n",
       "    <tr>\n",
       "      <td>2019-10-01</td>\n",
       "      <td>166</td>\n",
       "      <td>206946.0</td>\n",
       "    </tr>\n",
       "  </tbody>\n",
       "</table>\n",
       "</div>"
      ],
      "text/plain": [
       "                   customer_id       sum\n",
       "first_order_month                       \n",
       "2018-10-01         181          483820.0\n",
       "2018-11-01         177          334561.0\n",
       "2018-12-01         237          314570.0\n",
       "2019-01-01         148          228906.0\n",
       "2019-02-01         240          259830.0\n",
       "2019-03-01         230          253692.0\n",
       "2019-04-01         227          320196.0\n",
       "2019-05-01         166          226937.0\n",
       "2019-06-01         151          900933.0\n",
       "2019-07-01         183          235016.0\n",
       "2019-08-01         162          172394.0\n",
       "2019-09-01         174          179284.0\n",
       "2019-10-01         166          206946.0"
      ]
     },
     "execution_count": 60,
     "metadata": {},
     "output_type": "execute_result"
    }
   ],
   "source": [
    "cohort_orders"
   ]
  },
  {
   "cell_type": "markdown",
   "metadata": {},
   "source": [
    "Данные по когортам не однородные, например, когорты марта и апреля 2019 года одинаковое количество пользователей, при этом сумма покупок отличается в 2 раза. Когорта июня 2019 года при относительно небольшом количетсве пользователей, купила на большую сумму, чем все остальные"
   ]
  },
  {
   "cell_type": "code",
   "execution_count": 61,
   "metadata": {},
   "outputs": [
    {
     "data": {
      "text/plain": [
       "array([<matplotlib.axes._subplots.AxesSubplot object at 0x000000000C62C7C8>,\n",
       "       <matplotlib.axes._subplots.AxesSubplot object at 0x000000000C5C4788>,\n",
       "       <matplotlib.axes._subplots.AxesSubplot object at 0x0000000006B29AC8>],\n",
       "      dtype=object)"
      ]
     },
     "execution_count": 61,
     "metadata": {},
     "output_type": "execute_result"
    },
    {
     "data": {
      "image/png": "[encoded data removed]",
      "text/plain": [
       "<Figure size 864x648 with 3 Axes>"
      ]
     },
     "metadata": {},
     "output_type": "display_data"
    }
   ],
   "source": [
    "#Найдём средний чек покупателя revenue_per_user — разделим показатель sum на customer_id:\n",
    "cohort_orders['revenue_per_user'] = cohort_orders['sum'] / cohort_orders['customer_id'] \n",
    "cohort_orders.plot(kind='bar',subplots=True, legend=False,grid=True, figsize=(12,9))"
   ]
  },
  {
   "cell_type": "markdown",
   "metadata": {},
   "source": [
    "- Средний чек в июне на уровне 6000 руб. по причине присутсвия дорогого заказа на 1000 шт. вантузов\n",
    "- В целом, средний чек нашего магазина на уровне от 1000 о 2000 рублей, с понижением осенью и ростом весной. Летом средний чек, если не брать во внимание уникальные заказы, стабилен"
   ]
  },
  {
   "cell_type": "markdown",
   "metadata": {},
   "source": [
    "### <font color=Teal>[Unit-экономика](#Содержание) <a class=\"ancor\" id=\"4.3\"></a> "
   ]
  },
  {
   "cell_type": "markdown",
   "metadata": {},
   "source": [
    "            LTV (от англ. lifetime value) — «пожизненная» ценность клиента. Это — итоговая сумма денег, \n",
    "            которую один клиент приносит в среднем со всех своих покупок. "
   ]
  },
  {
   "cell_type": "markdown",
   "metadata": {},
   "source": [
    "Рассчитаем LTV для наших когорт, определим, как кагорты клиентов сохраняют свою клиентскую ценность с течением времени"
   ]
  },
  {
   "cell_type": "code",
   "execution_count": 62,
   "metadata": {},
   "outputs": [
    {
     "data": {
      "image/png": "[encoded data removed]",
      "text/plain": [
       "<Figure size 1008x576 with 2 Axes>"
      ]
     },
     "metadata": {},
     "output_type": "display_data"
    }
   ],
   "source": [
    "# ранее в таблице ecommerce_new добавили необходимые столбцы с меяцем, теперь группирем\n",
    "cohort_size = ecommerce_new.groupby('first_order_month').agg({'customer_id':'nunique'}).reset_index()\n",
    "cohort_size.columns = ['first_order_month','n_buyers']  # нашли кол-во уник.пользователей по месяцам\n",
    "cohorts = ecommerce_new.groupby(['first_order_month','order_month']).agg({'sum':'sum'}).reset_index()\n",
    "report_ltv = pd.merge(cohort_size, cohorts, on='first_order_month') # соеденили месячную выручку с месяцчным кол-во польз.\n",
    "\n",
    "#LTV сичтаем из валовой прибыли, необходимо выручку умножить на маржиналность, т.к. мы не знаем ее, значение = 1\n",
    "margin_rate = 1 # принебрижем произведением на 1, чтобы не множить данные и новый столбец\n",
    "report_ltv['age'] = (report_ltv['order_month'] - report_ltv['first_order_month']) / np.timedelta64(1,'M')\n",
    "report_ltv['age'] = report_ltv['age'].round().astype(int) # расчет возрастной кагорты\n",
    "report_ltv['LTV'] = report_ltv['sum'] / report_ltv['n_buyers'] #рассчет Ltv\n",
    "\n",
    "report_ltv['first_order_month'] = report_ltv['first_order_month'].dt.strftime('%Y-%m') # сокращаем месяц первой покупки\n",
    "result_ltv = report_ltv.pivot_table(index='first_order_month', columns = 'age', values='LTV', aggfunc='mean') \n",
    "\n",
    "# строим график \n",
    "fig, ax = plt.subplots(figsize=(14,8))\n",
    "sns.heatmap(result_ltv,annot=True, fmt='.2f', linewidths=1, linecolor='gray')\n",
    "plt.title('«Пожизненная» ценность клиента')\n",
    "plt.ylabel('Месяц когорты')\n",
    "plt.xlabel('Возраст когорты')\n",
    "plt.show();"
   ]
  },
  {
   "cell_type": "markdown",
   "metadata": {},
   "source": [
    "Результаты, представленные на графике, противоречат когортной сегментации клиента. Похоже, пользователей интернет магазина сложно анализировать с помощью когорт. Все когорты уникальны. "
   ]
  },
  {
   "cell_type": "markdown",
   "metadata": {},
   "source": [
    "В основном оцениваем конверсию второго месяца к первому, а также последнего к первому."
   ]
  },
  {
   "cell_type": "markdown",
   "metadata": {},
   "source": [
    "1) Когорта 2018-10 стабильна, показывает хорошую конверсию, живет 5 месяцев, образцовая \n",
    "\n",
    "2) Когорта 2018-11 когорта совершала покупки в первый месяц посещения, потом пропала, вернулась через 4 месяца с редкими покупками\n",
    "\n",
    "3) Когорта 2018-12 смогла продержаться 1 месяца с низкой конверсией\n",
    "\n",
    "4) Когорта 2019-01 смогла продержаться 2 месяца с пропуском одного месяца, конверсия также низкая\n",
    "\n",
    "5) Когорта 2019-02 - 2 месяца и самая низкая ценность в первом месяце жизни среди всех когорт\n",
    "\n",
    "6) Когорта 2019-03 - 3 месяца и низкая конверсия \n",
    "\n",
    "7) Когорта 2019-04 - 2 месяца жизни с перерывом в месяц, низкая конверсия\n",
    "\n",
    "8) Когорта 2019-05, 3 месяца жизин за полгода существования когорты, также низкая конверсия\n",
    "\n",
    "9) Когорта 2019-06, скорее это когорта одного пользователя, который совершил уникальный заказ, срок жизни 1 месяц не считая месяца покупки\n",
    "\n",
    "Остальные когорты показывают редкие покупки и низкий средний LTV, в будщем врядли что то можно от них ожидать. "
   ]
  },
  {
   "cell_type": "code",
   "execution_count": 63,
   "metadata": {},
   "outputs": [
    {
     "data": {
      "text/html": [
       "<div>\n",
       "<style scoped>\n",
       "    .dataframe tbody tr th:only-of-type {\n",
       "        vertical-align: middle;\n",
       "    }\n",
       "\n",
       "    .dataframe tbody tr th {\n",
       "        vertical-align: top;\n",
       "    }\n",
       "\n",
       "    .dataframe thead th {\n",
       "        text-align: right;\n",
       "    }\n",
       "</style>\n",
       "<table border=\"1\" class=\"dataframe\">\n",
       "  <thead>\n",
       "    <tr style=\"text-align: right;\">\n",
       "      <th>age</th>\n",
       "      <th>0</th>\n",
       "      <th>1</th>\n",
       "      <th>2</th>\n",
       "      <th>3</th>\n",
       "      <th>4</th>\n",
       "      <th>5</th>\n",
       "    </tr>\n",
       "    <tr>\n",
       "      <th>first_order_month</th>\n",
       "      <th></th>\n",
       "      <th></th>\n",
       "      <th></th>\n",
       "      <th></th>\n",
       "      <th></th>\n",
       "      <th></th>\n",
       "    </tr>\n",
       "  </thead>\n",
       "  <tbody>\n",
       "    <tr>\n",
       "      <td>2018-10</td>\n",
       "      <td>1944.25</td>\n",
       "      <td>138.02</td>\n",
       "      <td>243.06</td>\n",
       "      <td>52.20</td>\n",
       "      <td>247.55</td>\n",
       "      <td>47.96</td>\n",
       "    </tr>\n",
       "    <tr>\n",
       "      <td>2018-11</td>\n",
       "      <td>1889.08</td>\n",
       "      <td>0.00</td>\n",
       "      <td>0.00</td>\n",
       "      <td>0.00</td>\n",
       "      <td>1.10</td>\n",
       "      <td>0.00</td>\n",
       "    </tr>\n",
       "    <tr>\n",
       "      <td>2018-12</td>\n",
       "      <td>1316.92</td>\n",
       "      <td>10.38</td>\n",
       "      <td>0.00</td>\n",
       "      <td>0.00</td>\n",
       "      <td>0.00</td>\n",
       "      <td>0.00</td>\n",
       "    </tr>\n",
       "    <tr>\n",
       "      <td>2019-01</td>\n",
       "      <td>1510.29</td>\n",
       "      <td>31.66</td>\n",
       "      <td>0.00</td>\n",
       "      <td>4.72</td>\n",
       "      <td>0.00</td>\n",
       "      <td>0.00</td>\n",
       "    </tr>\n",
       "    <tr>\n",
       "      <td>2019-02</td>\n",
       "      <td>1065.38</td>\n",
       "      <td>1.39</td>\n",
       "      <td>15.85</td>\n",
       "      <td>0.00</td>\n",
       "      <td>0.00</td>\n",
       "      <td>0.00</td>\n",
       "    </tr>\n",
       "    <tr>\n",
       "      <td>2019-03</td>\n",
       "      <td>1062.52</td>\n",
       "      <td>30.13</td>\n",
       "      <td>9.77</td>\n",
       "      <td>0.59</td>\n",
       "      <td>0.00</td>\n",
       "      <td>0.00</td>\n",
       "    </tr>\n",
       "    <tr>\n",
       "      <td>2019-04</td>\n",
       "      <td>1349.38</td>\n",
       "      <td>55.56</td>\n",
       "      <td>0.00</td>\n",
       "      <td>5.61</td>\n",
       "      <td>0.00</td>\n",
       "      <td>0.00</td>\n",
       "    </tr>\n",
       "    <tr>\n",
       "      <td>2019-05</td>\n",
       "      <td>1343.95</td>\n",
       "      <td>18.50</td>\n",
       "      <td>0.00</td>\n",
       "      <td>3.75</td>\n",
       "      <td>0.00</td>\n",
       "      <td>0.90</td>\n",
       "    </tr>\n",
       "    <tr>\n",
       "      <td>2019-06</td>\n",
       "      <td>5957.44</td>\n",
       "      <td>9.00</td>\n",
       "      <td>0.00</td>\n",
       "      <td>0.00</td>\n",
       "      <td>0.00</td>\n",
       "      <td>0.00</td>\n",
       "    </tr>\n",
       "    <tr>\n",
       "      <td>2019-07</td>\n",
       "      <td>1269.39</td>\n",
       "      <td>3.55</td>\n",
       "      <td>11.30</td>\n",
       "      <td>0.00</td>\n",
       "      <td>0.00</td>\n",
       "      <td>0.00</td>\n",
       "    </tr>\n",
       "    <tr>\n",
       "      <td>2019-08</td>\n",
       "      <td>1056.62</td>\n",
       "      <td>0.00</td>\n",
       "      <td>7.54</td>\n",
       "      <td>0.00</td>\n",
       "      <td>0.00</td>\n",
       "      <td>0.00</td>\n",
       "    </tr>\n",
       "    <tr>\n",
       "      <td>2019-09</td>\n",
       "      <td>1028.82</td>\n",
       "      <td>1.55</td>\n",
       "      <td>0.00</td>\n",
       "      <td>0.00</td>\n",
       "      <td>0.00</td>\n",
       "      <td>0.00</td>\n",
       "    </tr>\n",
       "    <tr>\n",
       "      <td>2019-10</td>\n",
       "      <td>1246.66</td>\n",
       "      <td>0.00</td>\n",
       "      <td>0.00</td>\n",
       "      <td>0.00</td>\n",
       "      <td>0.00</td>\n",
       "      <td>0.00</td>\n",
       "    </tr>\n",
       "  </tbody>\n",
       "</table>\n",
       "</div>"
      ],
      "text/plain": [
       "age                      0       1       2      3       4      5\n",
       "first_order_month                                               \n",
       "2018-10            1944.25  138.02  243.06  52.20  247.55  47.96\n",
       "2018-11            1889.08  0.00    0.00    0.00   1.10    0.00 \n",
       "2018-12            1316.92  10.38   0.00    0.00   0.00    0.00 \n",
       "2019-01            1510.29  31.66   0.00    4.72   0.00    0.00 \n",
       "2019-02            1065.38  1.39    15.85   0.00   0.00    0.00 \n",
       "2019-03            1062.52  30.13   9.77    0.59   0.00    0.00 \n",
       "2019-04            1349.38  55.56   0.00    5.61   0.00    0.00 \n",
       "2019-05            1343.95  18.50   0.00    3.75   0.00    0.90 \n",
       "2019-06            5957.44  9.00    0.00    0.00   0.00    0.00 \n",
       "2019-07            1269.39  3.55    11.30   0.00   0.00    0.00 \n",
       "2019-08            1056.62  0.00    7.54    0.00   0.00    0.00 \n",
       "2019-09            1028.82  1.55    0.00    0.00   0.00    0.00 \n",
       "2019-10            1246.66  0.00    0.00    0.00   0.00    0.00 "
      ]
     },
     "execution_count": 63,
     "metadata": {},
     "output_type": "execute_result"
    }
   ],
   "source": [
    "result_ltv.fillna(0).round(2)"
   ]
  },
  {
   "cell_type": "code",
   "execution_count": 64,
   "metadata": {},
   "outputs": [
    {
     "data": {
      "text/plain": [
       "age\n",
       "0    22040.71\n",
       "1    299.73  \n",
       "2    287.52  \n",
       "3    66.87   \n",
       "4    248.64  \n",
       "5    48.86   \n",
       "dtype: float64"
      ]
     },
     "execution_count": 64,
     "metadata": {},
     "output_type": "execute_result"
    }
   ],
   "source": [
    "result_ltv.iloc[0:].sum().round(2)"
   ]
  },
  {
   "cell_type": "code",
   "execution_count": 65,
   "metadata": {},
   "outputs": [
    {
     "data": {
      "text/plain": [
       "1410.56"
      ]
     },
     "execution_count": 65,
     "metadata": {},
     "output_type": "execute_result"
    }
   ],
   "source": [
    "result_ltv.iloc[6].sum().round(2)"
   ]
  },
  {
   "cell_type": "markdown",
   "metadata": {},
   "source": [
    "Вывод: клиенты интернет-магазина ориэнтированы на разовые покупки. Редко какой пользователь пользуется нашим магазином больше 2 месяцев подряд, и если пользуется, совершает редкие покупки. "
   ]
  },
  {
   "cell_type": "markdown",
   "metadata": {},
   "source": [
    "### <font color=Teal>[Проверка статистических гипотез](#Содержание) <a class=\"ancor\" id=\"5\"></a> "
   ]
  },
  {
   "cell_type": "markdown",
   "metadata": {},
   "source": [
    "**Гипотезы, кторые можно проверить:**\n",
    "\n",
    "- Есть статистически значимые различия покупок в будни от покупок в выходные дни\n",
    "- Есть статистически значимые различия покупок активных пользователей с не активными"
   ]
  },
  {
   "cell_type": "code",
   "execution_count": 66,
   "metadata": {},
   "outputs": [
    {
     "data": {
      "text/html": [
       "<div>\n",
       "<style scoped>\n",
       "    .dataframe tbody tr th:only-of-type {\n",
       "        vertical-align: middle;\n",
       "    }\n",
       "\n",
       "    .dataframe tbody tr th {\n",
       "        vertical-align: top;\n",
       "    }\n",
       "\n",
       "    .dataframe thead th {\n",
       "        text-align: right;\n",
       "    }\n",
       "</style>\n",
       "<table border=\"1\" class=\"dataframe\">\n",
       "  <thead>\n",
       "    <tr style=\"text-align: right;\">\n",
       "      <th></th>\n",
       "      <th>time of purchase</th>\n",
       "      <th>customer_id</th>\n",
       "      <th>order_id</th>\n",
       "      <th>product</th>\n",
       "      <th>quantity</th>\n",
       "      <th>price</th>\n",
       "      <th>sum</th>\n",
       "      <th>date</th>\n",
       "      <th>month</th>\n",
       "      <th>week</th>\n",
       "      <th>year</th>\n",
       "      <th>weekend</th>\n",
       "      <th>first_date</th>\n",
       "      <th>first_order_month</th>\n",
       "      <th>order_month</th>\n",
       "    </tr>\n",
       "  </thead>\n",
       "  <tbody>\n",
       "    <tr>\n",
       "      <td>0</td>\n",
       "      <td>2018-10-01</td>\n",
       "      <td>ee47d746-6d2f-4d3c-9622-c31412542920</td>\n",
       "      <td>68477</td>\n",
       "      <td>Комнатное растение в горшке Алое Вера, d12, h30</td>\n",
       "      <td>1</td>\n",
       "      <td>142.0</td>\n",
       "      <td>142.0</td>\n",
       "      <td>2018-10-01</td>\n",
       "      <td>10</td>\n",
       "      <td>40</td>\n",
       "      <td>2018</td>\n",
       "      <td>False</td>\n",
       "      <td>2018-10-01</td>\n",
       "      <td>2018-10-01</td>\n",
       "      <td>2018-10-01</td>\n",
       "    </tr>\n",
       "    <tr>\n",
       "      <td>1</td>\n",
       "      <td>2018-10-01</td>\n",
       "      <td>ee47d746-6d2f-4d3c-9622-c31412542920</td>\n",
       "      <td>68477</td>\n",
       "      <td>Комнатное растение в горшке Кофе Арабика, d12, h25</td>\n",
       "      <td>1</td>\n",
       "      <td>194.0</td>\n",
       "      <td>194.0</td>\n",
       "      <td>2018-10-01</td>\n",
       "      <td>10</td>\n",
       "      <td>40</td>\n",
       "      <td>2018</td>\n",
       "      <td>False</td>\n",
       "      <td>2018-10-01</td>\n",
       "      <td>2018-10-01</td>\n",
       "      <td>2018-10-01</td>\n",
       "    </tr>\n",
       "    <tr>\n",
       "      <td>2</td>\n",
       "      <td>2018-10-01</td>\n",
       "      <td>ee47d746-6d2f-4d3c-9622-c31412542920</td>\n",
       "      <td>68477</td>\n",
       "      <td>Радермахера d-12 см h-20 см</td>\n",
       "      <td>1</td>\n",
       "      <td>112.0</td>\n",
       "      <td>112.0</td>\n",
       "      <td>2018-10-01</td>\n",
       "      <td>10</td>\n",
       "      <td>40</td>\n",
       "      <td>2018</td>\n",
       "      <td>False</td>\n",
       "      <td>2018-10-01</td>\n",
       "      <td>2018-10-01</td>\n",
       "      <td>2018-10-01</td>\n",
       "    </tr>\n",
       "    <tr>\n",
       "      <td>3</td>\n",
       "      <td>2018-10-01</td>\n",
       "      <td>ee47d746-6d2f-4d3c-9622-c31412542920</td>\n",
       "      <td>68477</td>\n",
       "      <td>Хризолидокарпус Лутесценс d-9 см</td>\n",
       "      <td>1</td>\n",
       "      <td>179.0</td>\n",
       "      <td>179.0</td>\n",
       "      <td>2018-10-01</td>\n",
       "      <td>10</td>\n",
       "      <td>40</td>\n",
       "      <td>2018</td>\n",
       "      <td>False</td>\n",
       "      <td>2018-10-01</td>\n",
       "      <td>2018-10-01</td>\n",
       "      <td>2018-10-01</td>\n",
       "    </tr>\n",
       "    <tr>\n",
       "      <td>4</td>\n",
       "      <td>2018-10-01</td>\n",
       "      <td>ee47d746-6d2f-4d3c-9622-c31412542920</td>\n",
       "      <td>68477</td>\n",
       "      <td>Циперус Зумула d-12 см h-25 см</td>\n",
       "      <td>1</td>\n",
       "      <td>112.0</td>\n",
       "      <td>112.0</td>\n",
       "      <td>2018-10-01</td>\n",
       "      <td>10</td>\n",
       "      <td>40</td>\n",
       "      <td>2018</td>\n",
       "      <td>False</td>\n",
       "      <td>2018-10-01</td>\n",
       "      <td>2018-10-01</td>\n",
       "      <td>2018-10-01</td>\n",
       "    </tr>\n",
       "  </tbody>\n",
       "</table>\n",
       "</div>"
      ],
      "text/plain": [
       "  time of purchase                           customer_id  order_id  \\\n",
       "0 2018-10-01        ee47d746-6d2f-4d3c-9622-c31412542920  68477      \n",
       "1 2018-10-01        ee47d746-6d2f-4d3c-9622-c31412542920  68477      \n",
       "2 2018-10-01        ee47d746-6d2f-4d3c-9622-c31412542920  68477      \n",
       "3 2018-10-01        ee47d746-6d2f-4d3c-9622-c31412542920  68477      \n",
       "4 2018-10-01        ee47d746-6d2f-4d3c-9622-c31412542920  68477      \n",
       "\n",
       "                                              product  quantity  price    sum  \\\n",
       "0  Комнатное растение в горшке Алое Вера, d12, h30     1         142.0  142.0   \n",
       "1  Комнатное растение в горшке Кофе Арабика, d12, h25  1         194.0  194.0   \n",
       "2  Радермахера d-12 см h-20 см                         1         112.0  112.0   \n",
       "3  Хризолидокарпус Лутесценс d-9 см                    1         179.0  179.0   \n",
       "4  Циперус Зумула d-12 см h-25 см                      1         112.0  112.0   \n",
       "\n",
       "        date  month  week  year  weekend first_date first_order_month  \\\n",
       "0 2018-10-01  10     40    2018  False   2018-10-01 2018-10-01          \n",
       "1 2018-10-01  10     40    2018  False   2018-10-01 2018-10-01          \n",
       "2 2018-10-01  10     40    2018  False   2018-10-01 2018-10-01          \n",
       "3 2018-10-01  10     40    2018  False   2018-10-01 2018-10-01          \n",
       "4 2018-10-01  10     40    2018  False   2018-10-01 2018-10-01          \n",
       "\n",
       "  order_month  \n",
       "0 2018-10-01   \n",
       "1 2018-10-01   \n",
       "2 2018-10-01   \n",
       "3 2018-10-01   \n",
       "4 2018-10-01   "
      ]
     },
     "execution_count": 66,
     "metadata": {},
     "output_type": "execute_result"
    }
   ],
   "source": [
    "ecommerce_new.head(5)"
   ]
  },
  {
   "cell_type": "markdown",
   "metadata": {},
   "source": [
    "    Гипотеза H0: считаем, что отсутствуют статистически значимые различия в выручке между покупками продуктов в будни и в выходные дни, иначе говоря. они равны\n",
    "    Гипотеза H1: иначе, различия имеют вес и статистически значимы, иначе говоря, они отличаются"
   ]
  },
  {
   "cell_type": "code",
   "execution_count": 67,
   "metadata": {},
   "outputs": [
    {
     "name": "stdout",
     "output_type": "stream",
     "text": [
      "0.056\n",
      "-0.215\n"
     ]
    }
   ],
   "source": [
    "#Выведем p-value по критерию mannwhitney для выручки из выборки будни и выходные \n",
    "print(\"{0:.3f}\".format(stats.mannwhitneyu(ecommerce_new[ecommerce_new['weekend']==True]['sum'],\n",
    "                                          ecommerce_new[ecommerce_new['weekend']==False]['sum'])[1]))\n",
    "\n",
    "#Относительный прирост средней выручки в будни к средней выручке в выходные дни\n",
    "print(\"{0:.3f}\".format(ecommerce_new[ecommerce_new['weekend']==True]['sum'].mean()/\n",
    "                       ecommerce_new[ecommerce_new['weekend']==False]['sum'].mean()-1))"
   ]
  },
  {
   "cell_type": "markdown",
   "metadata": {},
   "source": [
    "- P-value больше 0.05 — статистически значимых отличий в выручке по продуктам между группами нет. Не можем отвергнуть нулевую гипотезу\n",
    "- Относительное различие среднего чека по выручке между срезами 21,5%, что говорит о существенных отличиях межжду покупателями в выходные и праздничные дни, в выходные дни средняя сумма выручки по продуктам меньше чем в будни. "
   ]
  },
  {
   "cell_type": "markdown",
   "metadata": {},
   "source": [
    "Проведем тестирование по заказам, проверим те же гипотезы, но уже по сгруппированным данным, по сумме заказа"
   ]
  },
  {
   "cell_type": "code",
   "execution_count": 68,
   "metadata": {},
   "outputs": [],
   "source": [
    "weekend_order = ecommerce_new[ecommerce_new['weekend']==True].groupby('order_id').agg({'sum':'sum'})\n",
    "weekdays_order = ecommerce_new[ecommerce_new['weekend']==False].groupby('order_id').agg({'sum':'sum'})"
   ]
  },
  {
   "cell_type": "code",
   "execution_count": 69,
   "metadata": {},
   "outputs": [
    {
     "name": "stdout",
     "output_type": "stream",
     "text": [
      "0.406\n",
      "-0.170\n"
     ]
    }
   ],
   "source": [
    "#Выведем p-value по критерию mannwhitney для выручки по заказам из выборки будни и выходные \n",
    "print(\"{0:.3f}\".format(stats.mannwhitneyu(weekend_order['sum'],\n",
    "                                          weekdays_order['sum'])[1]))\n",
    "\n",
    "#Относительный прирост средней выручки в будни к средней выручке в выходные дни по заказам\n",
    "print(\"{0:.3f}\".format(weekend_order['sum'].mean()/\n",
    "                       weekdays_order['sum'].mean()-1))"
   ]
  },
  {
   "cell_type": "markdown",
   "metadata": {},
   "source": [
    "- P-value больше 0.05 — статистически значимых отличия в выручке по заказам нет. Не можем отвергнуть гипотезу, то есть средняя выручка по заказам не отличается в будни и в выходные дни\n",
    "- Относительное различие среднего чека по выручке между срезами по заказам 17%, что говорит о существенных отличиях межжду покупателями в выходные и праздничные дни, в выходные дни средняя сумма выручки по заказм меньше чем в будни. "
   ]
  },
  {
   "cell_type": "markdown",
   "metadata": {},
   "source": [
    "#### Вывод: \n",
    "\n",
    "На основании данных тестов, следует сделать вывод, что клиенты чаще покупают в будни, и выходные дни, но статистически значемых различий в заказах нет. Поэтому первый тест показывает отличия, так как нет привязки к заказам, а второй, более точный тест, показывает, что при привязки к заказам, выручка по ним не имеет статистически значимых различий. Даже уникальный заказа на 1000 шт. вантузов не повлиял на результат теста, хотя он должен был сместить p-value в сторону менее 0.05"
   ]
  },
  {
   "cell_type": "markdown",
   "metadata": {},
   "source": [
    "    Гипотеза H0: считаем, что отсутствуют статистически значимые различия в средней выручке между активными и не активными пользователями, иначе говоря. они равны\n",
    "    Гипотеза H1: иначе, различия имеют вес и статистически значимы, иначе говоря, они отличаются"
   ]
  },
  {
   "cell_type": "markdown",
   "metadata": {},
   "source": [
    "Будем учитывать, что у каждого пользователя свой уникальный номер заказа. Даже если пользователь покупает разные продукты в разное время, его уникальный заказ сохраняется. Поэтому мы не можем посчитать среднюю сумму заказа из всех заказов. Будем группировать по пользователю и сумме его покупок за весь период. А уже потом считать среднее по выборке и сравнивать между собой с помощью стат.теста. "
   ]
  },
  {
   "cell_type": "code",
   "execution_count": 70,
   "metadata": {},
   "outputs": [
    {
     "data": {
      "text/plain": [
       "2442"
      ]
     },
     "execution_count": 70,
     "metadata": {},
     "output_type": "execute_result"
    }
   ],
   "source": [
    "ecommerce_new['customer_id'].nunique()"
   ]
  },
  {
   "cell_type": "code",
   "execution_count": 71,
   "metadata": {},
   "outputs": [
    {
     "data": {
      "text/plain": [
       "2343"
      ]
     },
     "execution_count": 71,
     "metadata": {},
     "output_type": "execute_result"
    }
   ],
   "source": [
    "ecommerce_new['product'].nunique()"
   ]
  },
  {
   "cell_type": "markdown",
   "metadata": {},
   "source": [
    "У нас 2442 уникальных пользователей и 2343 уникальных товаров. Соотношение примерно 1 к 1. Будет хорошо, если каждый пользователь находит себе что-то свое. Но он может заказать как один дорогой товар, так и много дешевых товаров. Нам же в проверке данной гипотезы требуется не большая доходность, а статистические различия пользовательской активности, и то как она влияет на сумму, которую потратил клиент. Есть ли разница? Сложнее назвать активным пользователя, который купил 1 или 2 уникальных товара, за весь период. То есть его пользовательская сессия длилась короче, чем у того, кто выбирал 10 или 20 товаров за день или за весь период. Возможно, кто то покупал по 1 товару раз в месяц на протяжении\n",
    "года, токого клиента также сложно назвать активным. \n",
    "За активного пользователя возьмем того, кто купил более 5 уникальных товаров."
   ]
  },
  {
   "cell_type": "code",
   "execution_count": 72,
   "metadata": {},
   "outputs": [],
   "source": [
    "customer_product = ecommerce_new.groupby('customer_id')\\\n",
    "                                .agg({'product':'nunique','sum':'sum'})\\\n",
    "                                .sort_values('product',ascending=False)\\\n",
    "                                .reset_index()\n",
    "active = customer_product.query('product>5')\n",
    "passive = customer_product.query('product<=5')"
   ]
  },
  {
   "cell_type": "code",
   "execution_count": 73,
   "metadata": {},
   "outputs": [
    {
     "name": "stdout",
     "output_type": "stream",
     "text": [
      "0.000\n",
      "1.396\n"
     ]
    }
   ],
   "source": [
    "#Выведем p-value по критерию mannwhitney для выручки по заказам из выборки будни и выходные \n",
    "print(\"{0:.3f}\".format(stats.mannwhitneyu(active['sum'],\n",
    "                                          passive['sum'])[1]))\n",
    "\n",
    "#Относительный прирост средней выручки в будни к средней выручке в выходные дни по заказам\n",
    "print(\"{0:.3f}\".format(active['sum'].mean()/\n",
    "                       passive['sum'].mean()-1))"
   ]
  },
  {
   "cell_type": "markdown",
   "metadata": {},
   "source": [
    "- P-value меньше 0.05 — статистически значимые отличия в выручке есть. Выручка клиентов с разным набором уникальных продуктов отличается\n",
    "- Относительное различие среднего чека по выручке между срезами по заказам 39,6%, что говорит о существенных отличиях между покупателями. То есть активные пользователи, которые покупают больше уникальных продуктов приносят гораздо больше выручки, чем те, кто покупает 5 и менее уникальных продуктов. Даже уникальный заказ на 1000 шт. вантузов, который сместил среднее для пассивных пользователей, не смог улучшить результат этой группы. "
   ]
  },
  {
   "cell_type": "markdown",
   "metadata": {},
   "source": [
    "### <font color=Teal>[Выводы](#Содержание) <a class=\"ancor\" id=\"6\"></a> "
   ]
  },
  {
   "cell_type": "markdown",
   "metadata": {},
   "source": [
    "- Наши данные за период с 1 октября 2018 по 31 октября 2019 года, то есть данные за 13 месяцев\n",
    "- Пользователь `d3b9ffea-d143-4747-8d59-74ab843d1ad6` в заказе `14698` купил больше всех продуктов на небольшую сумму, он купил много семян томата и сопутствующую рассаду, поэтому такой большой и относитально недорогой заказ\n",
    "- Самый дорогой продукт - `Сушилка уличная Leifheit 85210 LINOMATIC V 400 40 м 175х237х237 см зеленая`\n",
    "- Можно сказать, что все сумки представленные сумки одни из замых дорогих видов товара\n",
    "- Матрица корреляции показывает прямую сильную связь суммы заказа и его количетсва. Таким образом, чем больше товаров в заказе, тем выше его сумма. По цене слабая связь с другими наборами данных. \n",
    "- Выброс напоминает нам результаты исследования по заказу `71743`  с вантузом в количестве 1000 шт. Самый большой заказ. \n",
    "- Без данного заказа распределение выглядит равномерно, но есть также 5 дорогих заказов.\n",
    "- В целом, график дублирует график по сумме, так как между количеством и суммой существует сильная прямая связь. От того, какое количетсво товаров клиент купит, зависит наша выручка. \n",
    "- Есть дорогие заказы, есть средние. Распределение от самого дешевого до самого дорого не равномерное. Ожидаемо, распредление скошенное, заказов на сумму менее 2000 рублей более 50 шт,далее, пропорционально и плавно идет снижение, в соотношение: дорогие и редкие заказы. \n",
    "- Следует отметить, что в субботу и воскресение меньше покупок, чем в будни\n",
    "\n",
    "\n",
    "Покупки в будни: 3343339.0\n",
    "Покупки в выходные: 773746.0\n",
    "В будни покупают на большую сумму, чем в выходные. Но в выходные пользователи также совершают достаточно покупок\n",
    "\n",
    "- Данные по когортам не однородные, например, когорты марта и апреля 2019 года одинаковое количество пользователей, при этом сумма покупок отличается в 2 раза. Когорта июня 2019 года при относительно небольшом количетсве пользователей, купила на большую сумму, чем все остальные\n",
    "- Средний чек в июне на уровне 6000 руб. по причине присутсвия дорогого заказа на 1000 шт. вантузов\n",
    "- В целом, средний чек нашего магазина на уровне от 1000 о 2000 рублей, с понижением осенью и ростом весной. Летом средний чек, если не брать во внимание уникальные заказы, стабилен\n",
    "\n",
    "\n",
    "- Результаты, представленные на графике, противоречат когортной сегментации клиента. Похоже, пользователей интернет магазина сложно анализировать с помощью когорт. Все когорты уникальны. \n",
    "- Клиенты интернет-магазина ориэнтированы на разовые покупки. Редко какой пользователь пользуется нашим магазином больше 2 месяцев подряд, и если пользуется, совершает редкие покупки. \n",
    "\n",
    "\n",
    "#### Результаты тестирования \n",
    "По выручке: \n",
    "- P-value больше 0.05 — статистически значимых отличий в выручке по продуктам между группами нет. Не можем отвергнуть нулевую гипотезу\n",
    "- Относительное различие среднего чека по выручке между срезами 21,5%, что говорит о существенных отличиях межжду покупателями в выходные и праздничные дни, в выходные дни средняя сумма выручки по продуктам меньше чем в будни. \n",
    "\n",
    "\n",
    "По заказам и их выручке:\n",
    "- P-value больше 0.05 — статистически значимых отличия в выручке по заказам нет. Не можем отвергнуть гипотезу, то есть средняя выручка по заказам не отличается в будни и в выходные дни\n",
    "- Относительное различие среднего чека по выручке между срезами по заказам 17%, что говорит о существенных отличиях межжду покупателями в выходные и праздничные дни, в выходные дни средняя сумма выручки по заказм меньше чем в будни. \n",
    "\n",
    "\n",
    "По активным и пассивным клиентам: \n",
    "- P-value меньше 0.05 — статистически значимые отличия в выручке есть. Выручка клиентов с разным набором уникальных продуктов отличается\n",
    "- Относительное различие среднего чека по выручке между срезами по заказам 39,6%, что говорит о существенных отличиях межжду покупателями. То есть активные пользователи, которые покупают больше уникальных продуктов приносят гораздо больше выручки, чем те, кто покупает 5 и менее уникальных продуктов. Даже уникальный заказ на 1000 шт. вантузов, который сместил среднее для пассивных пользователей, не смог улучшить результат этой группы. \n"
   ]
  },
  {
   "cell_type": "markdown",
   "metadata": {},
   "source": [
    "### <font color=Teal>[Источники](#Содержание) <a class=\"ancor\" id=\"7\"></a> "
   ]
  },
  {
   "cell_type": "markdown",
   "metadata": {},
   "source": [
    "- [Библиотека аналитиков от выпускников Практикума](https://www.analysts-library.ru/main)\n",
    "- [Журнал Код](https://thecode.media/live-view/)\n",
    "- [Электронный учебник по статистике](http://statsoft.ru/home/textbook/default.htm)\n",
    "- [Stackoverflow](https://stackoverflow.com/questions)\n",
    "- [Галерия нотбуков](https://github.com/jupyter/jupyter/wiki/A-gallery-of-interesting-Jupyter-Notebooks)\n",
    "- [Конспекты по аналитике](https://www.notion.so/product)\n",
    "- [Когортный анализ](https://vc.ru/growth/4242-cohort-analysis)\n",
    "- [Шпоргалка по Pandas](https://smysl.io/blog/pandas/)\n",
    "- [Построение графиков](https://python-scripts.com/matplotlib)\n",
    "- [Визуализация данных](http://pythontutor.com/visualize.html#mode=edit)"
   ]
  },
  {
   "cell_type": "markdown",
   "metadata": {},
   "source": [
    "### <font color=Teal>[Результаты исследования](#Содержание) <a class=\"ancor\" id=\"8\"></a> "
   ]
  },
  {
   "cell_type": "markdown",
   "metadata": {},
   "source": [
    "- [Дашборд](https://public.tableau.com/profile/.42386650#!/vizhome/-_15974277836740/Info?publish=yes)"
   ]
  },
  {
   "cell_type": "code",
   "execution_count": 74,
   "metadata": {},
   "outputs": [],
   "source": [
    "# с помощью обработанного файла сделаем дашборд, поэтом его необходимо сохранить. используем метод to_csv, в качестве\n",
    "# разделителя используем \\t\n",
    "ecommerce_new.to_csv('ecommerce_new.csv', sep='\\t')"
   ]
  }
 ],
 "metadata": {
  "kernelspec": {
   "display_name": "Python 3",
   "language": "python",
   "name": "python3"
  },
  "language_info": {
   "codemirror_mode": {
    "name": "ipython",
    "version": 3
   },
   "file_extension": ".py",
   "mimetype": "text/x-python",
   "name": "python",
   "nbconvert_exporter": "python",
   "pygments_lexer": "ipython3",
   "version": "3.7.4"
  }
 },
 "nbformat": 4,
 "nbformat_minor": 2
}
